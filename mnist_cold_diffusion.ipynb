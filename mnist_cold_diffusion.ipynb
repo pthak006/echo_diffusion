{
 "cells": [
  {
   "cell_type": "code",
   "execution_count": 1,
   "id": "7bc0c0f7-7683-4710-b06a-b4f1e4abd309",
   "metadata": {},
   "outputs": [],
   "source": [
    "# Import necessary PyTorch libraries\n",
    "import math\n",
    "import torch\n",
    "import torch.nn as nn\n",
    "import torch.nn.functional as F\n",
    "import torch.optim as optim\n",
    "import torch.utils.data as data\n",
    "import torchvision\n",
    "import torchvision.transforms as transforms\n",
    "\n",
    "\n",
    "# Additional libraries for visualization and utilities\n",
    "import matplotlib.pyplot as plt\n",
    "import numpy as np\n",
    "from unet_decoder import UNetDecoder"
   ]
  },
  {
   "cell_type": "code",
   "execution_count": 2,
   "id": "ccbb9823-564c-4735-a473-ad93c564ba7d",
   "metadata": {},
   "outputs": [
    {
     "name": "stdout",
     "output_type": "stream",
     "text": [
      "using device: cuda\n"
     ]
    }
   ],
   "source": [
    "def get_device():\n",
    "    \"\"\"Selects the best available device for PyTorch computations.\n",
    "\n",
    "    Returns:\n",
    "        torch.device: The selected device.\n",
    "    \"\"\"\n",
    "\n",
    "    if torch.cuda.is_available():\n",
    "        return torch.device('cuda')\n",
    "    elif torch.backends.mps.is_available():\n",
    "        return torch.device('mps')\n",
    "    else:\n",
    "        return torch.device('cpu')\n",
    "\n",
    "device = get_device()\n",
    "print(f\"using device: {device}\")"
   ]
  },
  {
   "cell_type": "code",
   "execution_count": 3,
   "id": "3e76e694-9980-4207-aff0-adc89538f999",
   "metadata": {},
   "outputs": [
    {
     "name": "stdout",
     "output_type": "stream",
     "text": [
      "Data loaders created for training and validation.\n"
     ]
    }
   ],
   "source": [
    "from torchvision import datasets\n",
    "from torch.utils.data import DataLoader, random_split\n",
    "from torchvision.transforms import Compose, Normalize, ToTensor,Resize\n",
    "\n",
    "transform = Compose([\n",
    "    ToTensor(),\n",
    "    torchvision.transforms.Normalize((0.1307,), (0.3081,))\n",
    "])\n",
    "\n",
    "\n",
    "# Load the CelebA dataset\n",
    "dataset = datasets.MNIST(root='./data', download=True, transform=transform)\n",
    "\n",
    "# Splitting dataset into training and validation sets\n",
    "train_size = int(0.8 * len(dataset))\n",
    "val_size = len(dataset) - train_size\n",
    "train_dataset, val_dataset = random_split(dataset, [train_size, val_size])\n",
    "\n",
    "# Create DataLoader instances\n",
    "train_loader = DataLoader(train_dataset, batch_size=128, shuffle=True)\n",
    "val_loader = DataLoader(val_dataset, batch_size=128, shuffle=False)\n",
    "\n",
    "print(\"Data loaders created for training and validation.\")"
   ]
  },
  {
   "cell_type": "code",
   "execution_count": 4,
   "id": "72a008de-3e56-4ab4-a4b9-709ed3160b0d",
   "metadata": {},
   "outputs": [],
   "source": [
    "class ColdDiffusionModel(nn.Module):\n",
    "    def __init__(self, input_shape, T=1000):\n",
    "        super(ColdDiffusionModel, self).__init__()\n",
    "        self.input_shape = input_shape\n",
    "        self.T = T\n",
    "        self.decoder = UNetDecoder(n_channels=input_shape[0])\n",
    "\n",
    "        # Define the noise schedule\n",
    "        self.alpha = self.create_noise_schedule(T)\n",
    "\n",
    "    def create_noise_schedule(self, T):\n",
    "        beta_start = 0.0001\n",
    "        beta_end = 0.02\n",
    "        betas = torch.linspace(beta_start, beta_end, T)\n",
    "        alphas = 1 - betas\n",
    "        alphas_cumprod = torch.cumprod(alphas, dim=0)\n",
    "        return alphas_cumprod\n",
    "\n",
    "    def forward(self, x):\n",
    "\n",
    "        # Calculate the gaussian noise tensor\n",
    "        batch_size = x.shape[0]\n",
    "        epsilon = torch.randn(batch_size, 1, 28, 28).to(device)\n",
    "        \n",
    "        torch.cuda.empty_cache()\n",
    "\n",
    "        #sample a timestep t\n",
    "        t = np.random.randint(0, self.T)\n",
    "        # Retrieve noise scheduler alpha_T\n",
    "        alpha_t = self.alpha[t]\n",
    "\n",
    "        # Calculate square root alphas\n",
    "        sqrt_alpha_t = torch.sqrt(alpha_t)\n",
    "        sqrt_one_minus_alpha_t = torch.sqrt(1 - alpha_t)\n",
    "        \n",
    "        # Perform the weighted sum\n",
    "        x_t = sqrt_alpha_t * x + sqrt_one_minus_alpha_t * epsilon\n",
    "\n",
    "        torch.cuda.empty_cache()\n",
    "\n",
    "        #Calculate the timestep tensor\n",
    "        t = torch.tensor([t] * x_t.size(0), dtype=torch.long).to(x_t.device)\n",
    "\n",
    "        # Perform the reconstruction process using Algorithm 2\n",
    "        estimated_x = self.decoder(x_t,t)\n",
    "        torch.cuda.empty_cache()\n",
    "        return estimated_x"
   ]
  },
  {
   "cell_type": "code",
   "execution_count": 10,
   "id": "b278bd6b-4148-49bd-bf03-1c7b2609abd4",
   "metadata": {},
   "outputs": [],
   "source": [
    "import os\n",
    "\n",
    "def save_checkpoint(epoch, model, optimizer, filename=\"checkpoint.pth\"):\n",
    "    \"\"\"Saves the model and optimizer state at the specified path.\"\"\"\n",
    "    torch.save({\n",
    "        'epoch': epoch,\n",
    "        'model_state_dict': model.state_dict(),\n",
    "        'optimizer_state_dict': optimizer.state_dict()\n",
    "    }, filename)\n",
    "    print(f\"Checkpoint saved at epoch {epoch} to {filename}\")\n",
    "\n",
    "\n",
    "def load_checkpoint(model, optimizer, filename=\"checkpoint.pth\"):\n",
    "    \"\"\"Loads the model and optimizer state from the specified path.\"\"\"\n",
    "    if os.path.isfile(filename):\n",
    "        checkpoint = torch.load(filename)\n",
    "        model.load_state_dict(checkpoint['model_state_dict'])\n",
    "        optimizer.load_state_dict(checkpoint['optimizer_state_dict'])\n",
    "        epoch = checkpoint['epoch']\n",
    "        print(f\"Checkpoint loaded from {filename}, resuming training from epoch {epoch}\")\n",
    "        return epoch\n",
    "    else:\n",
    "        print(f\"No checkpoint found at {filename}, starting from scratch.\")\n",
    "        return 0"
   ]
  },
  {
   "cell_type": "code",
   "execution_count": 11,
   "id": "25cf69d8-ecb6-4c29-878d-3c2589834d1c",
   "metadata": {},
   "outputs": [],
   "source": [
    "import time  # Importing time to log the duration\n",
    "from tqdm import tqdm\n",
    "\n",
    "\n",
    "def validate(model, val_loader, device):\n",
    "    model.eval()  # Set the model to evaluation mode\n",
    "    total_val_loss = 0\n",
    "    with torch.no_grad():  # Disable gradient computation during validation\n",
    "        for data, _ in val_loader:\n",
    "            data = data.to(device)\n",
    "            estimated_image = model(data)\n",
    "            reconstruction_loss = nn.functional.mse_loss(data, estimated_image)\n",
    "            total_val_loss += reconstruction_loss.item()  # Accumulate the validation loss\n",
    "    \n",
    "    avg_val_loss = total_val_loss / len(val_loader)  # Calculate average loss\n",
    "    return avg_val_loss\n",
    "\n",
    "def train(model, optimizer, train_loader, device, start_epoch, num_epochs):\n",
    "    model.train()\n",
    "\n",
    "    for epoch in range(start_epoch+1, num_epochs):\n",
    "        epoch_loss = 0.0\n",
    "        epoch_start_time = time.time()  # Time tracking for the epoch\n",
    "\n",
    "        print(f\"Starting epoch {epoch+1}/{num_epochs}\")\n",
    "        for batch_idx, (data, _) in enumerate(tqdm(train_loader, desc=f\"Epoch {epoch+1}/{num_epochs}\", leave=False)):\n",
    "            data = data.to(device)\n",
    "\n",
    "            # Forward pass\n",
    "            estimated_image = model(data)\n",
    "            total_loss = nn.functional.mse_loss(data, estimated_image)\n",
    "\n",
    "            # Backward pass\n",
    "            if not torch.isnan(total_loss).any():\n",
    "                total_loss.backward()\n",
    "            else:\n",
    "                print(f\"Warning: NaN detected in total_loss at batch {batch_idx+1}, skipping backward pass.\")\n",
    "\n",
    "            optimizer.step()  # Only step the optimizer every `accumulation_steps`\n",
    "            optimizer.zero_grad()  # Reset gradients only after accumulation\n",
    "\n",
    "            # Safe-guarding against NaN for epoch_loss\n",
    "            if not torch.isnan(total_loss).any():\n",
    "                epoch_loss += total_loss.item()\n",
    "            else:\n",
    "                print(f\"NaN detected, not adding to epoch_loss at batch {batch_idx+1}\")\n",
    "\n",
    "        # Save the model checkpoint\n",
    "        save_checkpoint(epoch, model, optimizer, filename=\"mnist_cold_diffusion.pth\")\n",
    "        \n",
    "        # Average loss after training for an epoch\n",
    "        avg_loss = epoch_loss / len(train_loader)\n",
    "        print(f\"Epoch [{epoch+1}/{num_epochs}] completed in {time.time() - epoch_start_time:.2f} seconds, Avg Loss: {avg_loss}\")\n",
    "\n",
    "        # Validation phase\n",
    "        avg_val_loss = validate(model, val_loader, device)\n",
    "        print(f\"Epoch [{epoch+1}/{num_epochs}] validation completed, Avg Validation Loss: {avg_val_loss}\")\n",
    "\n",
    "    return model\n"
   ]
  },
  {
   "cell_type": "code",
   "execution_count": 13,
   "id": "67a8e54a-c7f5-40f2-9293-0b4e7785ed87",
   "metadata": {},
   "outputs": [
    {
     "name": "stdout",
     "output_type": "stream",
     "text": [
      "Checkpoint loaded from mnist_cold_diffusion.pth, resuming training from epoch 99\n",
      "The training ended in epoch number: 99\n",
      "Starting epoch 101/200\n"
     ]
    },
    {
     "name": "stderr",
     "output_type": "stream",
     "text": [
      "                                                                                \r"
     ]
    },
    {
     "name": "stdout",
     "output_type": "stream",
     "text": [
      "Checkpoint saved at epoch 100 to mnist_cold_diffusion.pth\n",
      "Epoch [101/200] completed in 25.89 seconds, Avg Loss: 0.38127547806253037\n",
      "Epoch [101/200] validation completed, Avg Validation Loss: 1.022885059264112\n",
      "Starting epoch 102/200\n"
     ]
    },
    {
     "name": "stderr",
     "output_type": "stream",
     "text": [
      "                                                                                \r"
     ]
    },
    {
     "name": "stdout",
     "output_type": "stream",
     "text": [
      "Checkpoint saved at epoch 101 to mnist_cold_diffusion.pth\n",
      "Epoch [102/200] completed in 25.66 seconds, Avg Loss: 0.4453518375655015\n",
      "Epoch [102/200] validation completed, Avg Validation Loss: 0.3062459119952264\n",
      "Starting epoch 103/200\n"
     ]
    },
    {
     "name": "stderr",
     "output_type": "stream",
     "text": [
      "                                                                                \r"
     ]
    },
    {
     "name": "stdout",
     "output_type": "stream",
     "text": [
      "Checkpoint saved at epoch 102 to mnist_cold_diffusion.pth\n",
      "Epoch [103/200] completed in 25.49 seconds, Avg Loss: 0.34966244335720936\n",
      "Epoch [103/200] validation completed, Avg Validation Loss: 0.34607640472537976\n",
      "Starting epoch 104/200\n"
     ]
    },
    {
     "name": "stderr",
     "output_type": "stream",
     "text": [
      "                                                                                \r"
     ]
    },
    {
     "name": "stdout",
     "output_type": "stream",
     "text": [
      "Checkpoint saved at epoch 103 to mnist_cold_diffusion.pth\n",
      "Epoch [104/200] completed in 25.58 seconds, Avg Loss: 0.3451014501924316\n",
      "Epoch [104/200] validation completed, Avg Validation Loss: 0.3185720673187616\n",
      "Starting epoch 105/200\n"
     ]
    },
    {
     "name": "stderr",
     "output_type": "stream",
     "text": [
      "                                                                                \r"
     ]
    },
    {
     "name": "stdout",
     "output_type": "stream",
     "text": [
      "Checkpoint saved at epoch 104 to mnist_cold_diffusion.pth\n",
      "Epoch [105/200] completed in 25.54 seconds, Avg Loss: 0.3264970570517083\n",
      "Epoch [105/200] validation completed, Avg Validation Loss: 0.41660652774822043\n",
      "Starting epoch 106/200\n"
     ]
    },
    {
     "name": "stderr",
     "output_type": "stream",
     "text": [
      "                                                                                \r"
     ]
    },
    {
     "name": "stdout",
     "output_type": "stream",
     "text": [
      "Checkpoint saved at epoch 105 to mnist_cold_diffusion.pth\n",
      "Epoch [106/200] completed in 25.68 seconds, Avg Loss: 0.3724813518760105\n",
      "Epoch [106/200] validation completed, Avg Validation Loss: 0.30295513950763864\n",
      "Starting epoch 107/200\n"
     ]
    },
    {
     "name": "stderr",
     "output_type": "stream",
     "text": [
      "                                                                                \r"
     ]
    },
    {
     "name": "stdout",
     "output_type": "stream",
     "text": [
      "Checkpoint saved at epoch 106 to mnist_cold_diffusion.pth\n",
      "Epoch [107/200] completed in 25.54 seconds, Avg Loss: 0.3349470314035813\n",
      "Epoch [107/200] validation completed, Avg Validation Loss: 0.36185392739865535\n",
      "Starting epoch 108/200\n"
     ]
    },
    {
     "name": "stderr",
     "output_type": "stream",
     "text": [
      "                                                                                \r"
     ]
    },
    {
     "name": "stdout",
     "output_type": "stream",
     "text": [
      "Checkpoint saved at epoch 107 to mnist_cold_diffusion.pth\n",
      "Epoch [108/200] completed in 25.53 seconds, Avg Loss: 0.3215844156748305\n",
      "Epoch [108/200] validation completed, Avg Validation Loss: 0.3191853377403335\n",
      "Starting epoch 109/200\n"
     ]
    },
    {
     "name": "stderr",
     "output_type": "stream",
     "text": [
      "                                                                                \r"
     ]
    },
    {
     "name": "stdout",
     "output_type": "stream",
     "text": [
      "Checkpoint saved at epoch 108 to mnist_cold_diffusion.pth\n",
      "Epoch [109/200] completed in 25.52 seconds, Avg Loss: 0.3333243210737904\n",
      "Epoch [109/200] validation completed, Avg Validation Loss: 0.3945311729058108\n",
      "Starting epoch 110/200\n"
     ]
    },
    {
     "name": "stderr",
     "output_type": "stream",
     "text": [
      "                                                                                \r"
     ]
    },
    {
     "name": "stdout",
     "output_type": "stream",
     "text": [
      "Checkpoint saved at epoch 109 to mnist_cold_diffusion.pth\n",
      "Epoch [110/200] completed in 25.54 seconds, Avg Loss: 0.34574067829487226\n",
      "Epoch [110/200] validation completed, Avg Validation Loss: 0.33265634634571667\n",
      "Starting epoch 111/200\n"
     ]
    },
    {
     "name": "stderr",
     "output_type": "stream",
     "text": [
      "                                                                                \r"
     ]
    },
    {
     "name": "stdout",
     "output_type": "stream",
     "text": [
      "Checkpoint saved at epoch 110 to mnist_cold_diffusion.pth\n",
      "Epoch [111/200] completed in 25.51 seconds, Avg Loss: 0.35638576875502864\n",
      "Epoch [111/200] validation completed, Avg Validation Loss: 0.3734557049651135\n",
      "Starting epoch 112/200\n"
     ]
    },
    {
     "name": "stderr",
     "output_type": "stream",
     "text": [
      "                                                                                \r"
     ]
    },
    {
     "name": "stdout",
     "output_type": "stream",
     "text": [
      "Checkpoint saved at epoch 111 to mnist_cold_diffusion.pth\n",
      "Epoch [112/200] completed in 25.59 seconds, Avg Loss: 0.3132555407875528\n",
      "Epoch [112/200] validation completed, Avg Validation Loss: 0.3266467633186542\n",
      "Starting epoch 113/200\n"
     ]
    },
    {
     "name": "stderr",
     "output_type": "stream",
     "text": [
      "                                                                                \r"
     ]
    },
    {
     "name": "stdout",
     "output_type": "stream",
     "text": [
      "Checkpoint saved at epoch 112 to mnist_cold_diffusion.pth\n",
      "Epoch [113/200] completed in 25.50 seconds, Avg Loss: 0.3364023855198175\n",
      "Epoch [113/200] validation completed, Avg Validation Loss: 0.32743228209313957\n",
      "Starting epoch 114/200\n"
     ]
    },
    {
     "name": "stderr",
     "output_type": "stream",
     "text": [
      "                                                                                \r"
     ]
    },
    {
     "name": "stdout",
     "output_type": "stream",
     "text": [
      "Checkpoint saved at epoch 113 to mnist_cold_diffusion.pth\n",
      "Epoch [114/200] completed in 25.93 seconds, Avg Loss: 0.34998902757962547\n",
      "Epoch [114/200] validation completed, Avg Validation Loss: 0.26996389204051663\n",
      "Starting epoch 115/200\n"
     ]
    },
    {
     "name": "stderr",
     "output_type": "stream",
     "text": [
      "                                                                                \r"
     ]
    },
    {
     "name": "stdout",
     "output_type": "stream",
     "text": [
      "Checkpoint saved at epoch 114 to mnist_cold_diffusion.pth\n",
      "Epoch [115/200] completed in 25.42 seconds, Avg Loss: 0.29847027829506745\n",
      "Epoch [115/200] validation completed, Avg Validation Loss: 0.3221020742487955\n",
      "Starting epoch 116/200\n"
     ]
    },
    {
     "name": "stderr",
     "output_type": "stream",
     "text": [
      "                                                                                \r"
     ]
    },
    {
     "name": "stdout",
     "output_type": "stream",
     "text": [
      "Checkpoint saved at epoch 115 to mnist_cold_diffusion.pth\n",
      "Epoch [116/200] completed in 25.46 seconds, Avg Loss: 0.3359259956873332\n",
      "Epoch [116/200] validation completed, Avg Validation Loss: 0.3060727085313819\n",
      "Starting epoch 117/200\n"
     ]
    },
    {
     "name": "stderr",
     "output_type": "stream",
     "text": [
      "                                                                                \r"
     ]
    },
    {
     "name": "stdout",
     "output_type": "stream",
     "text": [
      "Checkpoint saved at epoch 116 to mnist_cold_diffusion.pth\n",
      "Epoch [117/200] completed in 25.55 seconds, Avg Loss: 0.3609171916314711\n",
      "Epoch [117/200] validation completed, Avg Validation Loss: 0.291132844650147\n",
      "Starting epoch 118/200\n"
     ]
    },
    {
     "name": "stderr",
     "output_type": "stream",
     "text": [
      "                                                                                \r"
     ]
    },
    {
     "name": "stdout",
     "output_type": "stream",
     "text": [
      "Checkpoint saved at epoch 117 to mnist_cold_diffusion.pth\n",
      "Epoch [118/200] completed in 25.53 seconds, Avg Loss: 0.3444120630205919\n",
      "Epoch [118/200] validation completed, Avg Validation Loss: 0.3729416709269417\n",
      "Starting epoch 119/200\n"
     ]
    },
    {
     "name": "stderr",
     "output_type": "stream",
     "text": [
      "                                                                                \r"
     ]
    },
    {
     "name": "stdout",
     "output_type": "stream",
     "text": [
      "Checkpoint saved at epoch 118 to mnist_cold_diffusion.pth\n",
      "Epoch [119/200] completed in 25.47 seconds, Avg Loss: 0.33549347233430793\n",
      "Epoch [119/200] validation completed, Avg Validation Loss: 0.32400310801669086\n",
      "Starting epoch 120/200\n"
     ]
    },
    {
     "name": "stderr",
     "output_type": "stream",
     "text": [
      "                                                                                \r"
     ]
    },
    {
     "name": "stdout",
     "output_type": "stream",
     "text": [
      "Checkpoint saved at epoch 119 to mnist_cold_diffusion.pth\n",
      "Epoch [120/200] completed in 25.57 seconds, Avg Loss: 0.3351363320136443\n",
      "Epoch [120/200] validation completed, Avg Validation Loss: 0.29641328468433326\n",
      "Starting epoch 121/200\n"
     ]
    },
    {
     "name": "stderr",
     "output_type": "stream",
     "text": [
      "                                                                                \r"
     ]
    },
    {
     "name": "stdout",
     "output_type": "stream",
     "text": [
      "Checkpoint saved at epoch 120 to mnist_cold_diffusion.pth\n",
      "Epoch [121/200] completed in 25.42 seconds, Avg Loss: 0.326295148549291\n",
      "Epoch [121/200] validation completed, Avg Validation Loss: 0.3121646115818913\n",
      "Starting epoch 122/200\n"
     ]
    },
    {
     "name": "stderr",
     "output_type": "stream",
     "text": [
      "                                                                                \r"
     ]
    },
    {
     "name": "stdout",
     "output_type": "stream",
     "text": [
      "Checkpoint saved at epoch 121 to mnist_cold_diffusion.pth\n",
      "Epoch [122/200] completed in 25.56 seconds, Avg Loss: 0.30859234867990015\n",
      "Epoch [122/200] validation completed, Avg Validation Loss: 0.3328992585760561\n",
      "Starting epoch 123/200\n"
     ]
    },
    {
     "name": "stderr",
     "output_type": "stream",
     "text": [
      "                                                                                \r"
     ]
    },
    {
     "name": "stdout",
     "output_type": "stream",
     "text": [
      "Checkpoint saved at epoch 122 to mnist_cold_diffusion.pth\n",
      "Epoch [123/200] completed in 25.50 seconds, Avg Loss: 0.3443430504146963\n",
      "Epoch [123/200] validation completed, Avg Validation Loss: 0.3059746464305716\n",
      "Starting epoch 124/200\n"
     ]
    },
    {
     "name": "stderr",
     "output_type": "stream",
     "text": [
      "                                                                                \r"
     ]
    },
    {
     "name": "stdout",
     "output_type": "stream",
     "text": [
      "Checkpoint saved at epoch 123 to mnist_cold_diffusion.pth\n",
      "Epoch [124/200] completed in 25.41 seconds, Avg Loss: 0.33503631517849863\n",
      "Epoch [124/200] validation completed, Avg Validation Loss: 0.30382198253596954\n",
      "Starting epoch 125/200\n"
     ]
    },
    {
     "name": "stderr",
     "output_type": "stream",
     "text": [
      "                                                                                \r"
     ]
    },
    {
     "name": "stdout",
     "output_type": "stream",
     "text": [
      "Checkpoint saved at epoch 124 to mnist_cold_diffusion.pth\n",
      "Epoch [125/200] completed in 25.49 seconds, Avg Loss: 0.32709459092095494\n",
      "Epoch [125/200] validation completed, Avg Validation Loss: 0.33970698142335054\n",
      "Starting epoch 126/200\n"
     ]
    },
    {
     "name": "stderr",
     "output_type": "stream",
     "text": [
      "                                                                                \r"
     ]
    },
    {
     "name": "stdout",
     "output_type": "stream",
     "text": [
      "Checkpoint saved at epoch 125 to mnist_cold_diffusion.pth\n",
      "Epoch [126/200] completed in 25.62 seconds, Avg Loss: 0.2920851055718958\n",
      "Epoch [126/200] validation completed, Avg Validation Loss: 0.2904663610351371\n",
      "Starting epoch 127/200\n"
     ]
    },
    {
     "name": "stderr",
     "output_type": "stream",
     "text": [
      "                                                                                \r"
     ]
    },
    {
     "name": "stdout",
     "output_type": "stream",
     "text": [
      "Checkpoint saved at epoch 126 to mnist_cold_diffusion.pth\n",
      "Epoch [127/200] completed in 25.50 seconds, Avg Loss: 0.3696445774504294\n",
      "Epoch [127/200] validation completed, Avg Validation Loss: 0.3398690763786633\n",
      "Starting epoch 128/200\n"
     ]
    },
    {
     "name": "stderr",
     "output_type": "stream",
     "text": [
      "                                                                                \r"
     ]
    },
    {
     "name": "stdout",
     "output_type": "stream",
     "text": [
      "Checkpoint saved at epoch 127 to mnist_cold_diffusion.pth\n",
      "Epoch [128/200] completed in 25.50 seconds, Avg Loss: 0.3415290801602726\n",
      "Epoch [128/200] validation completed, Avg Validation Loss: 0.26800986305944263\n",
      "Starting epoch 129/200\n"
     ]
    },
    {
     "name": "stderr",
     "output_type": "stream",
     "text": [
      "                                                                                \r"
     ]
    },
    {
     "name": "stdout",
     "output_type": "stream",
     "text": [
      "Checkpoint saved at epoch 128 to mnist_cold_diffusion.pth\n",
      "Epoch [129/200] completed in 25.66 seconds, Avg Loss: 0.3057877631581699\n",
      "Epoch [129/200] validation completed, Avg Validation Loss: 0.27568931161039606\n",
      "Starting epoch 130/200\n"
     ]
    },
    {
     "name": "stderr",
     "output_type": "stream",
     "text": [
      "                                                                                \r"
     ]
    },
    {
     "name": "stdout",
     "output_type": "stream",
     "text": [
      "Checkpoint saved at epoch 129 to mnist_cold_diffusion.pth\n",
      "Epoch [130/200] completed in 25.58 seconds, Avg Loss: 0.2982468457877015\n",
      "Epoch [130/200] validation completed, Avg Validation Loss: 0.36330076978056436\n",
      "Starting epoch 131/200\n"
     ]
    },
    {
     "name": "stderr",
     "output_type": "stream",
     "text": [
      "                                                                                \r"
     ]
    },
    {
     "name": "stdout",
     "output_type": "stream",
     "text": [
      "Checkpoint saved at epoch 130 to mnist_cold_diffusion.pth\n",
      "Epoch [131/200] completed in 25.45 seconds, Avg Loss: 0.3303753151204437\n",
      "Epoch [131/200] validation completed, Avg Validation Loss: 0.3144066592460459\n",
      "Starting epoch 132/200\n"
     ]
    },
    {
     "name": "stderr",
     "output_type": "stream",
     "text": [
      "                                                                                \r"
     ]
    },
    {
     "name": "stdout",
     "output_type": "stream",
     "text": [
      "Checkpoint saved at epoch 131 to mnist_cold_diffusion.pth\n",
      "Epoch [132/200] completed in 25.55 seconds, Avg Loss: 0.322175702109312\n",
      "Epoch [132/200] validation completed, Avg Validation Loss: 0.314824325719878\n",
      "Starting epoch 133/200\n"
     ]
    },
    {
     "name": "stderr",
     "output_type": "stream",
     "text": [
      "                                                                                \r"
     ]
    },
    {
     "name": "stdout",
     "output_type": "stream",
     "text": [
      "Checkpoint saved at epoch 132 to mnist_cold_diffusion.pth\n",
      "Epoch [133/200] completed in 25.59 seconds, Avg Loss: 0.31468717514288924\n",
      "Epoch [133/200] validation completed, Avg Validation Loss: 0.2832934742216318\n",
      "Starting epoch 134/200\n"
     ]
    },
    {
     "name": "stderr",
     "output_type": "stream",
     "text": [
      "                                                                                \r"
     ]
    },
    {
     "name": "stdout",
     "output_type": "stream",
     "text": [
      "Checkpoint saved at epoch 133 to mnist_cold_diffusion.pth\n",
      "Epoch [134/200] completed in 25.56 seconds, Avg Loss: 0.30198206948395817\n",
      "Epoch [134/200] validation completed, Avg Validation Loss: 0.30696834310854565\n",
      "Starting epoch 135/200\n"
     ]
    },
    {
     "name": "stderr",
     "output_type": "stream",
     "text": [
      "                                                                                \r"
     ]
    },
    {
     "name": "stdout",
     "output_type": "stream",
     "text": [
      "Checkpoint saved at epoch 134 to mnist_cold_diffusion.pth\n",
      "Epoch [135/200] completed in 25.56 seconds, Avg Loss: 0.3102812750181183\n",
      "Epoch [135/200] validation completed, Avg Validation Loss: 0.28559146445997535\n",
      "Starting epoch 136/200\n"
     ]
    },
    {
     "name": "stderr",
     "output_type": "stream",
     "text": [
      "                                                                                \r"
     ]
    },
    {
     "name": "stdout",
     "output_type": "stream",
     "text": [
      "Checkpoint saved at epoch 135 to mnist_cold_diffusion.pth\n",
      "Epoch [136/200] completed in 25.91 seconds, Avg Loss: 0.3281923112294947\n",
      "Epoch [136/200] validation completed, Avg Validation Loss: 0.36140910093920264\n",
      "Starting epoch 137/200\n"
     ]
    },
    {
     "name": "stderr",
     "output_type": "stream",
     "text": [
      "                                                                                \r"
     ]
    },
    {
     "name": "stdout",
     "output_type": "stream",
     "text": [
      "Checkpoint saved at epoch 136 to mnist_cold_diffusion.pth\n",
      "Epoch [137/200] completed in 25.59 seconds, Avg Loss: 0.33040837517008187\n",
      "Epoch [137/200] validation completed, Avg Validation Loss: 0.33944457080314294\n",
      "Starting epoch 138/200\n"
     ]
    },
    {
     "name": "stderr",
     "output_type": "stream",
     "text": [
      "                                                                                \r"
     ]
    },
    {
     "name": "stdout",
     "output_type": "stream",
     "text": [
      "Checkpoint saved at epoch 137 to mnist_cold_diffusion.pth\n",
      "Epoch [138/200] completed in 25.44 seconds, Avg Loss: 0.3271958309930439\n",
      "Epoch [138/200] validation completed, Avg Validation Loss: 0.3409978265173119\n",
      "Starting epoch 139/200\n"
     ]
    },
    {
     "name": "stderr",
     "output_type": "stream",
     "text": [
      "                                                                                \r"
     ]
    },
    {
     "name": "stdout",
     "output_type": "stream",
     "text": [
      "Checkpoint saved at epoch 138 to mnist_cold_diffusion.pth\n",
      "Epoch [139/200] completed in 25.56 seconds, Avg Loss: 0.3208900042890261\n",
      "Epoch [139/200] validation completed, Avg Validation Loss: 0.35124296124558896\n",
      "Starting epoch 140/200\n"
     ]
    },
    {
     "name": "stderr",
     "output_type": "stream",
     "text": [
      "                                                                                \r"
     ]
    },
    {
     "name": "stdout",
     "output_type": "stream",
     "text": [
      "Checkpoint saved at epoch 139 to mnist_cold_diffusion.pth\n",
      "Epoch [140/200] completed in 25.46 seconds, Avg Loss: 0.3249788463457177\n",
      "Epoch [140/200] validation completed, Avg Validation Loss: 0.2660217655059743\n",
      "Starting epoch 141/200\n"
     ]
    },
    {
     "name": "stderr",
     "output_type": "stream",
     "text": [
      "                                                                                \r"
     ]
    },
    {
     "name": "stdout",
     "output_type": "stream",
     "text": [
      "Checkpoint saved at epoch 140 to mnist_cold_diffusion.pth\n",
      "Epoch [141/200] completed in 25.50 seconds, Avg Loss: 0.31852634172855565\n",
      "Epoch [141/200] validation completed, Avg Validation Loss: 0.3160650034068509\n",
      "Starting epoch 142/200\n"
     ]
    },
    {
     "name": "stderr",
     "output_type": "stream",
     "text": [
      "                                                                                \r"
     ]
    },
    {
     "name": "stdout",
     "output_type": "stream",
     "text": [
      "Checkpoint saved at epoch 141 to mnist_cold_diffusion.pth\n",
      "Epoch [142/200] completed in 25.61 seconds, Avg Loss: 0.3252792515869563\n",
      "Epoch [142/200] validation completed, Avg Validation Loss: 0.3342363555343485\n",
      "Starting epoch 143/200\n"
     ]
    },
    {
     "name": "stderr",
     "output_type": "stream",
     "text": [
      "                                                                                \r"
     ]
    },
    {
     "name": "stdout",
     "output_type": "stream",
     "text": [
      "Checkpoint saved at epoch 142 to mnist_cold_diffusion.pth\n",
      "Epoch [143/200] completed in 25.43 seconds, Avg Loss: 0.32036489985200267\n",
      "Epoch [143/200] validation completed, Avg Validation Loss: 0.3512495693978556\n",
      "Starting epoch 144/200\n"
     ]
    },
    {
     "name": "stderr",
     "output_type": "stream",
     "text": [
      "                                                                                \r"
     ]
    },
    {
     "name": "stdout",
     "output_type": "stream",
     "text": [
      "Checkpoint saved at epoch 143 to mnist_cold_diffusion.pth\n",
      "Epoch [144/200] completed in 25.44 seconds, Avg Loss: 0.3567402015356347\n",
      "Epoch [144/200] validation completed, Avg Validation Loss: 0.33836916079150237\n",
      "Starting epoch 145/200\n"
     ]
    },
    {
     "name": "stderr",
     "output_type": "stream",
     "text": [
      "                                                                                \r"
     ]
    },
    {
     "name": "stdout",
     "output_type": "stream",
     "text": [
      "Checkpoint saved at epoch 144 to mnist_cold_diffusion.pth\n",
      "Epoch [145/200] completed in 25.61 seconds, Avg Loss: 0.31681587789269783\n",
      "Epoch [145/200] validation completed, Avg Validation Loss: 0.34218284885270245\n",
      "Starting epoch 146/200\n"
     ]
    },
    {
     "name": "stderr",
     "output_type": "stream",
     "text": [
      "                                                                                \r"
     ]
    },
    {
     "name": "stdout",
     "output_type": "stream",
     "text": [
      "Checkpoint saved at epoch 145 to mnist_cold_diffusion.pth\n",
      "Epoch [146/200] completed in 25.52 seconds, Avg Loss: 0.3321762028041606\n",
      "Epoch [146/200] validation completed, Avg Validation Loss: 0.37136769838670786\n",
      "Starting epoch 147/200\n"
     ]
    },
    {
     "name": "stderr",
     "output_type": "stream",
     "text": [
      "                                                                                \r"
     ]
    },
    {
     "name": "stdout",
     "output_type": "stream",
     "text": [
      "Checkpoint saved at epoch 146 to mnist_cold_diffusion.pth\n",
      "Epoch [147/200] completed in 25.97 seconds, Avg Loss: 0.3049432944053163\n",
      "Epoch [147/200] validation completed, Avg Validation Loss: 0.32136809624275786\n",
      "Starting epoch 148/200\n"
     ]
    },
    {
     "name": "stderr",
     "output_type": "stream",
     "text": [
      "                                                                                \r"
     ]
    },
    {
     "name": "stdout",
     "output_type": "stream",
     "text": [
      "Checkpoint saved at epoch 147 to mnist_cold_diffusion.pth\n",
      "Epoch [148/200] completed in 25.53 seconds, Avg Loss: 0.31384366469830277\n",
      "Epoch [148/200] validation completed, Avg Validation Loss: 0.3294440553810923\n",
      "Starting epoch 149/200\n"
     ]
    },
    {
     "name": "stderr",
     "output_type": "stream",
     "text": [
      "                                                                                \r"
     ]
    },
    {
     "name": "stdout",
     "output_type": "stream",
     "text": [
      "Checkpoint saved at epoch 148 to mnist_cold_diffusion.pth\n",
      "Epoch [149/200] completed in 25.57 seconds, Avg Loss: 0.3205084925135598\n",
      "Epoch [149/200] validation completed, Avg Validation Loss: 0.28973000474952837\n",
      "Starting epoch 150/200\n"
     ]
    },
    {
     "name": "stderr",
     "output_type": "stream",
     "text": [
      "                                                                                \r"
     ]
    },
    {
     "name": "stdout",
     "output_type": "stream",
     "text": [
      "Checkpoint saved at epoch 149 to mnist_cold_diffusion.pth\n",
      "Epoch [150/200] completed in 25.47 seconds, Avg Loss: 0.311624536880292\n",
      "Epoch [150/200] validation completed, Avg Validation Loss: 0.3079795772358379\n",
      "Starting epoch 151/200\n"
     ]
    },
    {
     "name": "stderr",
     "output_type": "stream",
     "text": [
      "                                                                                \r"
     ]
    },
    {
     "name": "stdout",
     "output_type": "stream",
     "text": [
      "Checkpoint saved at epoch 150 to mnist_cold_diffusion.pth\n",
      "Epoch [151/200] completed in 25.56 seconds, Avg Loss: 0.32621054698651036\n",
      "Epoch [151/200] validation completed, Avg Validation Loss: 0.29830699516187836\n",
      "Starting epoch 152/200\n"
     ]
    },
    {
     "name": "stderr",
     "output_type": "stream",
     "text": [
      "                                                                                \r"
     ]
    },
    {
     "name": "stdout",
     "output_type": "stream",
     "text": [
      "Checkpoint saved at epoch 151 to mnist_cold_diffusion.pth\n",
      "Epoch [152/200] completed in 25.47 seconds, Avg Loss: 0.3211151591722543\n",
      "Epoch [152/200] validation completed, Avg Validation Loss: 0.319572611469181\n",
      "Starting epoch 153/200\n"
     ]
    },
    {
     "name": "stderr",
     "output_type": "stream",
     "text": [
      "                                                                                \r"
     ]
    },
    {
     "name": "stdout",
     "output_type": "stream",
     "text": [
      "Checkpoint saved at epoch 152 to mnist_cold_diffusion.pth\n",
      "Epoch [153/200] completed in 25.55 seconds, Avg Loss: 0.34907797660523404\n",
      "Epoch [153/200] validation completed, Avg Validation Loss: 0.3367841558585419\n",
      "Starting epoch 154/200\n"
     ]
    },
    {
     "name": "stderr",
     "output_type": "stream",
     "text": [
      "                                                                                \r"
     ]
    },
    {
     "name": "stdout",
     "output_type": "stream",
     "text": [
      "Checkpoint saved at epoch 153 to mnist_cold_diffusion.pth\n",
      "Epoch [154/200] completed in 25.60 seconds, Avg Loss: 0.3413228704960396\n",
      "Epoch [154/200] validation completed, Avg Validation Loss: 0.3352931302902784\n",
      "Starting epoch 155/200\n"
     ]
    },
    {
     "name": "stderr",
     "output_type": "stream",
     "text": [
      "                                                                                \r"
     ]
    },
    {
     "name": "stdout",
     "output_type": "stream",
     "text": [
      "Checkpoint saved at epoch 154 to mnist_cold_diffusion.pth\n",
      "Epoch [155/200] completed in 25.87 seconds, Avg Loss: 0.3187861554538831\n",
      "Epoch [155/200] validation completed, Avg Validation Loss: 0.3270253740929741\n",
      "Starting epoch 156/200\n"
     ]
    },
    {
     "name": "stderr",
     "output_type": "stream",
     "text": [
      "                                                                                \r"
     ]
    },
    {
     "name": "stdout",
     "output_type": "stream",
     "text": [
      "Checkpoint saved at epoch 155 to mnist_cold_diffusion.pth\n",
      "Epoch [156/200] completed in 25.42 seconds, Avg Loss: 0.33522252353218696\n",
      "Epoch [156/200] validation completed, Avg Validation Loss: 0.3178084969887153\n",
      "Starting epoch 157/200\n"
     ]
    },
    {
     "name": "stderr",
     "output_type": "stream",
     "text": [
      "                                                                                \r"
     ]
    },
    {
     "name": "stdout",
     "output_type": "stream",
     "text": [
      "Checkpoint saved at epoch 156 to mnist_cold_diffusion.pth\n",
      "Epoch [157/200] completed in 25.60 seconds, Avg Loss: 0.30315028096642344\n",
      "Epoch [157/200] validation completed, Avg Validation Loss: 0.3107010502903227\n",
      "Starting epoch 158/200\n"
     ]
    },
    {
     "name": "stderr",
     "output_type": "stream",
     "text": [
      "                                                                                \r"
     ]
    },
    {
     "name": "stdout",
     "output_type": "stream",
     "text": [
      "Checkpoint saved at epoch 157 to mnist_cold_diffusion.pth\n",
      "Epoch [158/200] completed in 26.00 seconds, Avg Loss: 0.3170360934541871\n",
      "Epoch [158/200] validation completed, Avg Validation Loss: 0.3215224762135086\n",
      "Starting epoch 159/200\n"
     ]
    },
    {
     "name": "stderr",
     "output_type": "stream",
     "text": [
      "                                                                                \r"
     ]
    },
    {
     "name": "stdout",
     "output_type": "stream",
     "text": [
      "Checkpoint saved at epoch 158 to mnist_cold_diffusion.pth\n",
      "Epoch [159/200] completed in 25.57 seconds, Avg Loss: 0.32070086867765835\n",
      "Epoch [159/200] validation completed, Avg Validation Loss: 0.30020793071239593\n",
      "Starting epoch 160/200\n"
     ]
    },
    {
     "name": "stderr",
     "output_type": "stream",
     "text": [
      "                                                                                \r"
     ]
    },
    {
     "name": "stdout",
     "output_type": "stream",
     "text": [
      "Checkpoint saved at epoch 159 to mnist_cold_diffusion.pth\n",
      "Epoch [160/200] completed in 25.47 seconds, Avg Loss: 0.3212424330078065\n",
      "Epoch [160/200] validation completed, Avg Validation Loss: 0.2985487824660092\n",
      "Starting epoch 161/200\n"
     ]
    },
    {
     "name": "stderr",
     "output_type": "stream",
     "text": [
      "                                                                                \r"
     ]
    },
    {
     "name": "stdout",
     "output_type": "stream",
     "text": [
      "Checkpoint saved at epoch 160 to mnist_cold_diffusion.pth\n",
      "Epoch [161/200] completed in 25.44 seconds, Avg Loss: 0.31398979493913554\n",
      "Epoch [161/200] validation completed, Avg Validation Loss: 0.30350515363549696\n",
      "Starting epoch 162/200\n"
     ]
    },
    {
     "name": "stderr",
     "output_type": "stream",
     "text": [
      "                                                                                \r"
     ]
    },
    {
     "name": "stdout",
     "output_type": "stream",
     "text": [
      "Checkpoint saved at epoch 161 to mnist_cold_diffusion.pth\n",
      "Epoch [162/200] completed in 25.39 seconds, Avg Loss: 0.3148463609820853\n",
      "Epoch [162/200] validation completed, Avg Validation Loss: 0.3607162503981368\n",
      "Starting epoch 163/200\n"
     ]
    },
    {
     "name": "stderr",
     "output_type": "stream",
     "text": [
      "                                                                                \r"
     ]
    },
    {
     "name": "stdout",
     "output_type": "stream",
     "text": [
      "Checkpoint saved at epoch 162 to mnist_cold_diffusion.pth\n",
      "Epoch [163/200] completed in 25.45 seconds, Avg Loss: 0.304610058211411\n",
      "Epoch [163/200] validation completed, Avg Validation Loss: 0.2994887720337732\n",
      "Starting epoch 164/200\n"
     ]
    },
    {
     "name": "stderr",
     "output_type": "stream",
     "text": [
      "                                                                                \r"
     ]
    },
    {
     "name": "stdout",
     "output_type": "stream",
     "text": [
      "Checkpoint saved at epoch 163 to mnist_cold_diffusion.pth\n",
      "Epoch [164/200] completed in 25.44 seconds, Avg Loss: 0.31239911695880196\n",
      "Epoch [164/200] validation completed, Avg Validation Loss: 0.3155762235376429\n",
      "Starting epoch 165/200\n"
     ]
    },
    {
     "name": "stderr",
     "output_type": "stream",
     "text": [
      "                                                                                \r"
     ]
    },
    {
     "name": "stdout",
     "output_type": "stream",
     "text": [
      "Checkpoint saved at epoch 164 to mnist_cold_diffusion.pth\n",
      "Epoch [165/200] completed in 25.57 seconds, Avg Loss: 0.3114406257271767\n",
      "Epoch [165/200] validation completed, Avg Validation Loss: 0.32587470014039627\n",
      "Starting epoch 166/200\n"
     ]
    },
    {
     "name": "stderr",
     "output_type": "stream",
     "text": [
      "                                                                                \r"
     ]
    },
    {
     "name": "stdout",
     "output_type": "stream",
     "text": [
      "Checkpoint saved at epoch 165 to mnist_cold_diffusion.pth\n",
      "Epoch [166/200] completed in 25.59 seconds, Avg Loss: 0.34403302836511285\n",
      "Epoch [166/200] validation completed, Avg Validation Loss: 0.36325437771627045\n",
      "Starting epoch 167/200\n"
     ]
    },
    {
     "name": "stderr",
     "output_type": "stream",
     "text": [
      "                                                                                \r"
     ]
    },
    {
     "name": "stdout",
     "output_type": "stream",
     "text": [
      "Checkpoint saved at epoch 166 to mnist_cold_diffusion.pth\n",
      "Epoch [167/200] completed in 25.76 seconds, Avg Loss: 0.3065798701858148\n",
      "Epoch [167/200] validation completed, Avg Validation Loss: 0.33081310729005753\n",
      "Starting epoch 168/200\n"
     ]
    },
    {
     "name": "stderr",
     "output_type": "stream",
     "text": [
      "                                                                                \r"
     ]
    },
    {
     "name": "stdout",
     "output_type": "stream",
     "text": [
      "Checkpoint saved at epoch 167 to mnist_cold_diffusion.pth\n",
      "Epoch [168/200] completed in 25.58 seconds, Avg Loss: 0.3176972812693566\n",
      "Epoch [168/200] validation completed, Avg Validation Loss: 0.333117724787642\n",
      "Starting epoch 169/200\n"
     ]
    },
    {
     "name": "stderr",
     "output_type": "stream",
     "text": [
      "                                                                                \r"
     ]
    },
    {
     "name": "stdout",
     "output_type": "stream",
     "text": [
      "Checkpoint saved at epoch 168 to mnist_cold_diffusion.pth\n",
      "Epoch [169/200] completed in 25.46 seconds, Avg Loss: 0.31052917943832775\n",
      "Epoch [169/200] validation completed, Avg Validation Loss: 0.2695536525484095\n",
      "Starting epoch 170/200\n"
     ]
    },
    {
     "name": "stderr",
     "output_type": "stream",
     "text": [
      "                                                                                \r"
     ]
    },
    {
     "name": "stdout",
     "output_type": "stream",
     "text": [
      "Checkpoint saved at epoch 169 to mnist_cold_diffusion.pth\n",
      "Epoch [170/200] completed in 25.84 seconds, Avg Loss: 0.3306000826486076\n",
      "Epoch [170/200] validation completed, Avg Validation Loss: 0.294722187459132\n",
      "Starting epoch 171/200\n"
     ]
    },
    {
     "name": "stderr",
     "output_type": "stream",
     "text": [
      "                                                                                \r"
     ]
    },
    {
     "name": "stdout",
     "output_type": "stream",
     "text": [
      "Checkpoint saved at epoch 170 to mnist_cold_diffusion.pth\n",
      "Epoch [171/200] completed in 25.55 seconds, Avg Loss: 0.32831929094499596\n",
      "Epoch [171/200] validation completed, Avg Validation Loss: 0.3020566897144779\n",
      "Starting epoch 172/200\n"
     ]
    },
    {
     "name": "stderr",
     "output_type": "stream",
     "text": [
      "                                                                                \r"
     ]
    },
    {
     "name": "stdout",
     "output_type": "stream",
     "text": [
      "Checkpoint saved at epoch 171 to mnist_cold_diffusion.pth\n",
      "Epoch [172/200] completed in 25.50 seconds, Avg Loss: 0.3420743040830518\n",
      "Epoch [172/200] validation completed, Avg Validation Loss: 0.24205681449297736\n",
      "Starting epoch 173/200\n"
     ]
    },
    {
     "name": "stderr",
     "output_type": "stream",
     "text": [
      "                                                                                \r"
     ]
    },
    {
     "name": "stdout",
     "output_type": "stream",
     "text": [
      "Checkpoint saved at epoch 172 to mnist_cold_diffusion.pth\n",
      "Epoch [173/200] completed in 25.45 seconds, Avg Loss: 0.3352356014158577\n",
      "Epoch [173/200] validation completed, Avg Validation Loss: 0.3174222428921333\n",
      "Starting epoch 174/200\n"
     ]
    },
    {
     "name": "stderr",
     "output_type": "stream",
     "text": [
      "                                                                                \r"
     ]
    },
    {
     "name": "stdout",
     "output_type": "stream",
     "text": [
      "Checkpoint saved at epoch 173 to mnist_cold_diffusion.pth\n",
      "Epoch [174/200] completed in 25.56 seconds, Avg Loss: 0.31674196155089884\n",
      "Epoch [174/200] validation completed, Avg Validation Loss: 0.3440371444064906\n",
      "Starting epoch 175/200\n"
     ]
    },
    {
     "name": "stderr",
     "output_type": "stream",
     "text": [
      "                                                                                \r"
     ]
    },
    {
     "name": "stdout",
     "output_type": "stream",
     "text": [
      "Checkpoint saved at epoch 174 to mnist_cold_diffusion.pth\n",
      "Epoch [175/200] completed in 25.49 seconds, Avg Loss: 0.31694239405325303\n",
      "Epoch [175/200] validation completed, Avg Validation Loss: 0.3111980106716262\n",
      "Starting epoch 176/200\n"
     ]
    },
    {
     "name": "stderr",
     "output_type": "stream",
     "text": [
      "                                                                                \r"
     ]
    },
    {
     "name": "stdout",
     "output_type": "stream",
     "text": [
      "Checkpoint saved at epoch 175 to mnist_cold_diffusion.pth\n",
      "Epoch [176/200] completed in 25.85 seconds, Avg Loss: 0.31296742728973426\n",
      "Epoch [176/200] validation completed, Avg Validation Loss: 0.3200046423465965\n",
      "Starting epoch 177/200\n"
     ]
    },
    {
     "name": "stderr",
     "output_type": "stream",
     "text": [
      "                                                                                \r"
     ]
    },
    {
     "name": "stdout",
     "output_type": "stream",
     "text": [
      "Checkpoint saved at epoch 176 to mnist_cold_diffusion.pth\n",
      "Epoch [177/200] completed in 25.49 seconds, Avg Loss: 0.3481225318835738\n",
      "Epoch [177/200] validation completed, Avg Validation Loss: 0.3426961433030962\n",
      "Starting epoch 178/200\n"
     ]
    },
    {
     "name": "stderr",
     "output_type": "stream",
     "text": [
      "                                                                                \r"
     ]
    },
    {
     "name": "stdout",
     "output_type": "stream",
     "text": [
      "Checkpoint saved at epoch 177 to mnist_cold_diffusion.pth\n",
      "Epoch [178/200] completed in 25.58 seconds, Avg Loss: 0.3087785370048756\n",
      "Epoch [178/200] validation completed, Avg Validation Loss: 0.32255170635874086\n",
      "Starting epoch 179/200\n"
     ]
    },
    {
     "name": "stderr",
     "output_type": "stream",
     "text": [
      "                                                                                \r"
     ]
    },
    {
     "name": "stdout",
     "output_type": "stream",
     "text": [
      "Checkpoint saved at epoch 178 to mnist_cold_diffusion.pth\n",
      "Epoch [179/200] completed in 25.53 seconds, Avg Loss: 0.3208583048569659\n",
      "Epoch [179/200] validation completed, Avg Validation Loss: 0.30548093292460915\n",
      "Starting epoch 180/200\n"
     ]
    },
    {
     "name": "stderr",
     "output_type": "stream",
     "text": [
      "                                                                                \r"
     ]
    },
    {
     "name": "stdout",
     "output_type": "stream",
     "text": [
      "Checkpoint saved at epoch 179 to mnist_cold_diffusion.pth\n",
      "Epoch [180/200] completed in 25.55 seconds, Avg Loss: 0.31931982039194556\n",
      "Epoch [180/200] validation completed, Avg Validation Loss: 0.33360945064069186\n",
      "Starting epoch 181/200\n"
     ]
    },
    {
     "name": "stderr",
     "output_type": "stream",
     "text": [
      "                                                                                \r"
     ]
    },
    {
     "name": "stdout",
     "output_type": "stream",
     "text": [
      "Checkpoint saved at epoch 180 to mnist_cold_diffusion.pth\n",
      "Epoch [181/200] completed in 25.51 seconds, Avg Loss: 0.3079888236358141\n",
      "Epoch [181/200] validation completed, Avg Validation Loss: 0.314213157349707\n",
      "Starting epoch 182/200\n"
     ]
    },
    {
     "name": "stderr",
     "output_type": "stream",
     "text": [
      "                                                                                \r"
     ]
    },
    {
     "name": "stdout",
     "output_type": "stream",
     "text": [
      "Checkpoint saved at epoch 181 to mnist_cold_diffusion.pth\n",
      "Epoch [182/200] completed in 25.96 seconds, Avg Loss: 0.32012339146248997\n",
      "Epoch [182/200] validation completed, Avg Validation Loss: 0.31541456082560854\n",
      "Starting epoch 183/200\n"
     ]
    },
    {
     "name": "stderr",
     "output_type": "stream",
     "text": [
      "                                                                                \r"
     ]
    },
    {
     "name": "stdout",
     "output_type": "stream",
     "text": [
      "Checkpoint saved at epoch 182 to mnist_cold_diffusion.pth\n",
      "Epoch [183/200] completed in 25.56 seconds, Avg Loss: 0.2968942320671243\n",
      "Epoch [183/200] validation completed, Avg Validation Loss: 0.3776134893148295\n",
      "Starting epoch 184/200\n"
     ]
    },
    {
     "name": "stderr",
     "output_type": "stream",
     "text": [
      "                                                                                \r"
     ]
    },
    {
     "name": "stdout",
     "output_type": "stream",
     "text": [
      "Checkpoint saved at epoch 183 to mnist_cold_diffusion.pth\n",
      "Epoch [184/200] completed in 25.50 seconds, Avg Loss: 0.3198867518805588\n",
      "Epoch [184/200] validation completed, Avg Validation Loss: 0.34192982743781536\n",
      "Starting epoch 185/200\n"
     ]
    },
    {
     "name": "stderr",
     "output_type": "stream",
     "text": [
      "                                                                                \r"
     ]
    },
    {
     "name": "stdout",
     "output_type": "stream",
     "text": [
      "Checkpoint saved at epoch 184 to mnist_cold_diffusion.pth\n",
      "Epoch [185/200] completed in 25.50 seconds, Avg Loss: 0.3140222840808953\n",
      "Epoch [185/200] validation completed, Avg Validation Loss: 0.36973588608646213\n",
      "Starting epoch 186/200\n"
     ]
    },
    {
     "name": "stderr",
     "output_type": "stream",
     "text": [
      "                                                                                \r"
     ]
    },
    {
     "name": "stdout",
     "output_type": "stream",
     "text": [
      "Checkpoint saved at epoch 185 to mnist_cold_diffusion.pth\n",
      "Epoch [186/200] completed in 25.53 seconds, Avg Loss: 0.32694176079984755\n",
      "Epoch [186/200] validation completed, Avg Validation Loss: 0.33687322359145716\n",
      "Starting epoch 187/200\n"
     ]
    },
    {
     "name": "stderr",
     "output_type": "stream",
     "text": [
      "                                                                                \r"
     ]
    },
    {
     "name": "stdout",
     "output_type": "stream",
     "text": [
      "Checkpoint saved at epoch 186 to mnist_cold_diffusion.pth\n",
      "Epoch [187/200] completed in 25.60 seconds, Avg Loss: 0.29875397534885756\n",
      "Epoch [187/200] validation completed, Avg Validation Loss: 0.34819869540057125\n",
      "Starting epoch 188/200\n"
     ]
    },
    {
     "name": "stderr",
     "output_type": "stream",
     "text": [
      "                                                                                \r"
     ]
    },
    {
     "name": "stdout",
     "output_type": "stream",
     "text": [
      "Checkpoint saved at epoch 187 to mnist_cold_diffusion.pth\n",
      "Epoch [188/200] completed in 25.48 seconds, Avg Loss: 0.348105351055041\n",
      "Epoch [188/200] validation completed, Avg Validation Loss: 0.39066301973442485\n",
      "Starting epoch 189/200\n"
     ]
    },
    {
     "name": "stderr",
     "output_type": "stream",
     "text": [
      "                                                                                \r"
     ]
    },
    {
     "name": "stdout",
     "output_type": "stream",
     "text": [
      "Checkpoint saved at epoch 188 to mnist_cold_diffusion.pth\n",
      "Epoch [189/200] completed in 25.58 seconds, Avg Loss: 0.3109367872911195\n",
      "Epoch [189/200] validation completed, Avg Validation Loss: 0.2925400418932847\n",
      "Starting epoch 190/200\n"
     ]
    },
    {
     "name": "stderr",
     "output_type": "stream",
     "text": [
      "                                                                                \r"
     ]
    },
    {
     "name": "stdout",
     "output_type": "stream",
     "text": [
      "Checkpoint saved at epoch 189 to mnist_cold_diffusion.pth\n",
      "Epoch [190/200] completed in 25.30 seconds, Avg Loss: 0.34192040949718405\n",
      "Epoch [190/200] validation completed, Avg Validation Loss: 0.31931232074597615\n",
      "Starting epoch 191/200\n"
     ]
    },
    {
     "name": "stderr",
     "output_type": "stream",
     "text": [
      "                                                                                \r"
     ]
    },
    {
     "name": "stdout",
     "output_type": "stream",
     "text": [
      "Checkpoint saved at epoch 190 to mnist_cold_diffusion.pth\n",
      "Epoch [191/200] completed in 25.43 seconds, Avg Loss: 0.31514123251195997\n",
      "Epoch [191/200] validation completed, Avg Validation Loss: 0.3362422061420264\n",
      "Starting epoch 192/200\n"
     ]
    },
    {
     "name": "stderr",
     "output_type": "stream",
     "text": [
      "                                                                                \r"
     ]
    },
    {
     "name": "stdout",
     "output_type": "stream",
     "text": [
      "Checkpoint saved at epoch 191 to mnist_cold_diffusion.pth\n",
      "Epoch [192/200] completed in 25.91 seconds, Avg Loss: 0.3193440379120099\n",
      "Epoch [192/200] validation completed, Avg Validation Loss: 0.32154050739630663\n",
      "Starting epoch 193/200\n"
     ]
    },
    {
     "name": "stderr",
     "output_type": "stream",
     "text": [
      "                                                                                \r"
     ]
    },
    {
     "name": "stdout",
     "output_type": "stream",
     "text": [
      "Checkpoint saved at epoch 192 to mnist_cold_diffusion.pth\n",
      "Epoch [193/200] completed in 25.59 seconds, Avg Loss: 0.3411555323731154\n",
      "Epoch [193/200] validation completed, Avg Validation Loss: 0.34765155789469604\n",
      "Starting epoch 194/200\n"
     ]
    },
    {
     "name": "stderr",
     "output_type": "stream",
     "text": [
      "                                                                                \r"
     ]
    },
    {
     "name": "stdout",
     "output_type": "stream",
     "text": [
      "Checkpoint saved at epoch 193 to mnist_cold_diffusion.pth\n",
      "Epoch [194/200] completed in 25.45 seconds, Avg Loss: 0.33496049103854847\n",
      "Epoch [194/200] validation completed, Avg Validation Loss: 0.34755028415585254\n",
      "Starting epoch 195/200\n"
     ]
    },
    {
     "name": "stderr",
     "output_type": "stream",
     "text": [
      "                                                                                \r"
     ]
    },
    {
     "name": "stdout",
     "output_type": "stream",
     "text": [
      "Checkpoint saved at epoch 194 to mnist_cold_diffusion.pth\n",
      "Epoch [195/200] completed in 25.51 seconds, Avg Loss: 0.28769586807473874\n",
      "Epoch [195/200] validation completed, Avg Validation Loss: 0.2914719185129333\n",
      "Starting epoch 196/200\n"
     ]
    },
    {
     "name": "stderr",
     "output_type": "stream",
     "text": [
      "                                                                                \r"
     ]
    },
    {
     "name": "stdout",
     "output_type": "stream",
     "text": [
      "Checkpoint saved at epoch 195 to mnist_cold_diffusion.pth\n",
      "Epoch [196/200] completed in 25.51 seconds, Avg Loss: 0.313228013294749\n",
      "Epoch [196/200] validation completed, Avg Validation Loss: 0.3002955214222001\n",
      "Starting epoch 197/200\n"
     ]
    },
    {
     "name": "stderr",
     "output_type": "stream",
     "text": [
      "                                                                                \r"
     ]
    },
    {
     "name": "stdout",
     "output_type": "stream",
     "text": [
      "Checkpoint saved at epoch 196 to mnist_cold_diffusion.pth\n",
      "Epoch [197/200] completed in 25.48 seconds, Avg Loss: 0.32081568087885776\n",
      "Epoch [197/200] validation completed, Avg Validation Loss: 0.33575985568298145\n",
      "Starting epoch 198/200\n"
     ]
    },
    {
     "name": "stderr",
     "output_type": "stream",
     "text": [
      "                                                                                \r"
     ]
    },
    {
     "name": "stdout",
     "output_type": "stream",
     "text": [
      "Checkpoint saved at epoch 197 to mnist_cold_diffusion.pth\n",
      "Epoch [198/200] completed in 26.11 seconds, Avg Loss: 0.29419479523971676\n",
      "Epoch [198/200] validation completed, Avg Validation Loss: 0.3550366778502568\n",
      "Starting epoch 199/200\n"
     ]
    },
    {
     "name": "stderr",
     "output_type": "stream",
     "text": [
      "                                                                                \r"
     ]
    },
    {
     "name": "stdout",
     "output_type": "stream",
     "text": [
      "Checkpoint saved at epoch 198 to mnist_cold_diffusion.pth\n",
      "Epoch [199/200] completed in 25.49 seconds, Avg Loss: 0.31644791869074107\n",
      "Epoch [199/200] validation completed, Avg Validation Loss: 0.37087244758917454\n",
      "Starting epoch 200/200\n"
     ]
    },
    {
     "name": "stderr",
     "output_type": "stream",
     "text": [
      "                                                                                \r"
     ]
    },
    {
     "name": "stdout",
     "output_type": "stream",
     "text": [
      "Checkpoint saved at epoch 199 to mnist_cold_diffusion.pth\n",
      "Epoch [200/200] completed in 25.49 seconds, Avg Loss: 0.30702317525974165\n",
      "Epoch [200/200] validation completed, Avg Validation Loss: 0.3591706953543991\n"
     ]
    }
   ],
   "source": [
    "# Define the input shape\n",
    "input_shape = (1, 28, 28)\n",
    "\n",
    "# Create an instance of Gaussian Diffusion model\n",
    "model = ColdDiffusionModel(input_shape).to(device)\n",
    "\n",
    "# Define the optimizer\n",
    "optimizer = optim.Adam(model.parameters(), lr = 1e-3)\n",
    "\n",
    "# Define the number of epochs and loss weights\n",
    "num_epochs = 200\n",
    "\n",
    "# Load the model training checkpoint\n",
    "start_epoch = load_checkpoint(model, optimizer, filename=\"mnist_cold_diffusion.pth\")\n",
    "    \n",
    "print(f\"The training ended in epoch number: {start_epoch}\")\n",
    "\n",
    "# Train the model\n",
    "trained_model = train(model, optimizer, train_loader, device, start_epoch, num_epochs)"
   ]
  },
  {
   "cell_type": "code",
   "execution_count": 15,
   "id": "df8281e2-8bbd-4fbc-9ea9-329781794ae3",
   "metadata": {},
   "outputs": [
    {
     "name": "stdout",
     "output_type": "stream",
     "text": [
      "Checkpoint loaded from mnist_cold_diffusion.pth, resuming training from epoch 199\n",
      "The training ended in epoch number: 199\n"
     ]
    }
   ],
   "source": [
    "# Define the input shape\n",
    "input_shape = (1, 28, 28)\n",
    "\n",
    "# Example usage\n",
    "model = ColdDiffusionModel(input_shape).to(device)\n",
    "optimizer = torch.optim.Adam(model.parameters(), lr=1e-3)\n",
    "\n",
    "start_epoch = load_checkpoint(model, optimizer, filename=\"mnist_cold_diffusion.pth\")\n",
    "print(f\"The training ended in epoch number: {start_epoch}\")"
   ]
  },
  {
   "cell_type": "markdown",
   "id": "177fea68-4883-4633-a668-868b07bd038e",
   "metadata": {},
   "source": [
    "## Sampling according to Algorithm 1"
   ]
  },
  {
   "cell_type": "code",
   "execution_count": 23,
   "id": "696b8b8c-72d5-41d2-bdbb-81cfcf652d10",
   "metadata": {},
   "outputs": [],
   "source": [
    "import torch\n",
    "import torch.nn.functional as F\n",
    "\n",
    "# Define the necessary parameters and variables\n",
    "T = 1000\n",
    "beta_start = 0.0001\n",
    "beta_end = 0.02\n",
    "beta = torch.linspace(beta_start, beta_end, T)\n",
    "alpha = 1 - beta\n",
    "alpha = torch.cumprod(alphas, dim=0)\n",
    "\n",
    "model.eval()\n",
    "\n",
    "sampled_data = {}\n",
    "batch_size = 128\n",
    "\n",
    "\n",
    "with torch.no_grad():\n",
    "    for batch_idx in range(32):\n",
    "        x = torch.randn(batch_size, 1, 28, 28).to(device)\n",
    "        for s in range(T-1, 0, -1):\n",
    "            t = torch.tensor([s] * x.size(0), dtype=torch.long).to(device)\n",
    "            x_hat = model.decoder(x, t)\n",
    "            z_hat = (1.0/torch.sqrt(1-alpha[s]))* (x - torch.sqrt(alpha[s]) * x_hat) \n",
    "            x = torch.sqrt(alpha[s-1]) * x_hat + torch.sqrt(1-alpha[s-1]) * z_hat\n",
    "            \n",
    "        # Reverse normalization\n",
    "        x = x * 0.3081 + 0.1307\n",
    "        x = (x.clamp(0, 1) * 255).type(torch.uint8)\n",
    "            \n",
    "        # Store the sampled images\n",
    "        for i in range(x.size(0)):\n",
    "            sampled_data[batch_idx * batch_size + i] = {\n",
    "                'sampled': x[i].cpu()\n",
    "            }"
   ]
  },
  {
   "cell_type": "code",
   "execution_count": 27,
   "id": "0df8f6ba-0c1e-4aad-8470-2710fb1e006c",
   "metadata": {},
   "outputs": [
    {
     "name": "stdout",
     "output_type": "stream",
     "text": [
      "Sampled data saved to 'mnist_cold_alg1.pt'\n"
     ]
    }
   ],
   "source": [
    "\n",
    "# Save the dictionary to a .pt file\n",
    "torch.save(sampled_data, 'mnist_cold_alg1.pt')\n",
    "\n",
    "print(\"Sampled data saved to 'mnist_cold_alg1.pt'\")\n"
   ]
  },
  {
   "cell_type": "code",
   "execution_count": 29,
   "id": "e396ae46-c395-450b-ae29-b2c87d58c3dd",
   "metadata": {},
   "outputs": [
    {
     "data": {
      "image/png": "[encoded data removed]",
      "text/plain": [
       "<Figure size 500x500 with 1 Axes>"
      ]
     },
     "metadata": {},
     "output_type": "display_data"
    }
   ],
   "source": [
    "import torch\n",
    "import matplotlib.pyplot as plt\n",
    "\n",
    "# Load the saved data\n",
    "sampled_data = torch.load('mnist_cold_alg1.pt')\n",
    "\n",
    "# Access a specific entry\n",
    "index = 50 # Replace with the index you want to check\n",
    "sampled_image = sampled_data[index]['sampled']\n",
    "\n",
    "\n",
    "# Convert the tensor to a numpy array\n",
    "sampled_image = sampled_image.cpu().numpy().transpose(1, 2, 0)\n",
    "\n",
    "\n",
    "# Display the sampled image\n",
    "plt.figure(figsize=(5, 5))\n",
    "plt.imshow(sampled_image, cmap = 'gray')\n",
    "plt.title(\"Sampled Image\")\n",
    "plt.axis('off')\n",
    "plt.show()\n"
   ]
  },
  {
   "cell_type": "code",
   "execution_count": 31,
   "id": "b3d4b70c-b783-441b-b895-c1cf77a302d0",
   "metadata": {},
   "outputs": [
    {
     "name": "stdout",
     "output_type": "stream",
     "text": [
      "4096\n"
     ]
    }
   ],
   "source": [
    "print(len(sampled_data))"
   ]
  },
  {
   "cell_type": "markdown",
   "id": "a5bbae7a-4880-4b91-9352-19588a5bb737",
   "metadata": {},
   "source": [
    "## Sampling according to Algorithm 2"
   ]
  },
  {
   "cell_type": "code",
   "execution_count": null,
   "id": "40198a55-dfcc-4a13-82bb-2a96362db74a",
   "metadata": {},
   "outputs": [],
   "source": [
    "import torch\n",
    "import torch.nn.functional as F\n",
    "\n",
    "# Define the necessary parameters and variables\n",
    "T = 1000\n",
    "beta_start = 0.0001\n",
    "beta_end = 0.02\n",
    "beta = torch.linspace(beta_start, beta_end, T)\n",
    "alpha = 1 - beta\n",
    "alpha = torch.cumprod(alphas, dim=0)\n",
    "\n",
    "model.eval()\n",
    "\n",
    "sampled_data = {}\n",
    "batch_size = 128\n",
    "\n",
    "\n",
    "with torch.no_grad():\n",
    "    for batch_idx in range(32):\n",
    "        x = torch.randn(batch_size, 1, 28, 28).to(device)\n",
    "        for s in range(T-1, 0, -1):\n",
    "            t = torch.tensor([s] * x.size(0), dtype=torch.long).to(device)\n",
    "            x_hat = model.decoder(x, t)\n",
    "            z_hat = (1.0/torch.sqrt(1-alpha[s]))* (x - torch.sqrt(alpha[s]) * x_hat)\n",
    "            D_s_minus_one = torch.sqrt(alpha[s-1]) * x_hat + torch.sqrt(1-alpha[s-1]) * z_hat\n",
    "            D_s = torch.sqrt(alpha[s]) * x_hat + torch.sqrt(1-alpha[s]) * z_hat\n",
    "            x = x - D_s + D_s_minus_one\n",
    "            \n",
    "        # Reverse normalization\n",
    "        x = x * 0.3081 + 0.1307\n",
    "        x = (x.clamp(0, 1) * 255).type(torch.uint8)\n",
    "            \n",
    "        # Store the sampled images\n",
    "        for i in range(x.size(0)):\n",
    "            sampled_data[batch_idx * batch_size + i] = {\n",
    "                'sampled': x[i].cpu()\n",
    "            }"
   ]
  },
  {
   "cell_type": "code",
   "execution_count": null,
   "id": "b565a95a-4dd1-40c7-8ed4-2e641d31016a",
   "metadata": {},
   "outputs": [],
   "source": [
    "\n",
    "# Save the dictionary to a .pt file\n",
    "torch.save(sampled_data, 'mnist_cold_alg2.pt')\n",
    "\n",
    "print(\"Sampled data saved to 'mnist_cold_alg2.pt'\")"
   ]
  },
  {
   "cell_type": "code",
   "execution_count": null,
   "id": "60fc0c0f-a630-419c-8368-294a1ee01d6c",
   "metadata": {},
   "outputs": [],
   "source": [
    "import torch\n",
    "import matplotlib.pyplot as plt\n",
    "\n",
    "# Load the saved data\n",
    "sampled_data = torch.load('mnist_cold_alg2.pt')\n",
    "\n",
    "# Access a specific entry\n",
    "index = 50 # Replace with the index you want to check\n",
    "sampled_image = sampled_data[index]['sampled']\n",
    "\n",
    "\n",
    "# Convert the tensor to a numpy array\n",
    "sampled_image = sampled_image.cpu().numpy().transpose(1, 2, 0)\n",
    "\n",
    "\n",
    "# Display the sampled image\n",
    "plt.figure(figsize=(5, 5))\n",
    "plt.imshow(sampled_image, cmap = 'gray')\n",
    "plt.title(\"Sampled Image\")\n",
    "plt.axis('off')\n",
    "plt.show()\n"
   ]
  },
  {
   "cell_type": "code",
   "execution_count": null,
   "id": "0d81c40e-5808-4d1d-a5bc-c5fdbe3e7b66",
   "metadata": {},
   "outputs": [],
   "source": []
  }
 ],
 "metadata": {
  "kernelspec": {
   "display_name": "Python 3 (ipykernel)",
   "language": "python",
   "name": "python3"
  },
  "language_info": {
   "codemirror_mode": {
    "name": "ipython",
    "version": 3
   },
   "file_extension": ".py",
   "mimetype": "text/x-python",
   "name": "python",
   "nbconvert_exporter": "python",
   "pygments_lexer": "ipython3",
   "version": "3.10.14"
  }
 },
 "nbformat": 4,
 "nbformat_minor": 5
}
