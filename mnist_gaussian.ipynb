{
 "cells": [
  {
   "cell_type": "code",
   "execution_count": 1,
   "id": "7bc0c0f7-7683-4710-b06a-b4f1e4abd309",
   "metadata": {},
   "outputs": [],
   "source": [
    "# Import necessary PyTorch libraries\n",
    "import math\n",
    "import torch\n",
    "import torch.nn as nn\n",
    "import torch.nn.functional as F\n",
    "import torch.optim as optim\n",
    "import torch.utils.data as data\n",
    "import torchvision\n",
    "import torchvision.transforms as transforms\n",
    "\n",
    "\n",
    "# Additional libraries for visualization and utilities\n",
    "import matplotlib.pyplot as plt\n",
    "import numpy as np\n",
    "from unet_decoder import UNetDecoder"
   ]
  },
  {
   "cell_type": "code",
   "execution_count": 2,
   "id": "ccbb9823-564c-4735-a473-ad93c564ba7d",
   "metadata": {},
   "outputs": [
    {
     "name": "stdout",
     "output_type": "stream",
     "text": [
      "using device: mps\n"
     ]
    }
   ],
   "source": [
    "def get_device():\n",
    "    \"\"\"Selects the best available device for PyTorch computations.\n",
    "\n",
    "    Returns:\n",
    "        torch.device: The selected device.\n",
    "    \"\"\"\n",
    "\n",
    "    if torch.cuda.is_available():\n",
    "        return torch.device('cuda')\n",
    "    elif torch.backends.mps.is_available():\n",
    "        return torch.device('mps')\n",
    "    else:\n",
    "        return torch.device('cpu')\n",
    "\n",
    "device = get_device()\n",
    "print(f\"using device: {device}\")"
   ]
  },
  {
   "cell_type": "code",
   "execution_count": 3,
   "id": "3e76e694-9980-4207-aff0-adc89538f999",
   "metadata": {},
   "outputs": [
    {
     "name": "stdout",
     "output_type": "stream",
     "text": [
      "Data loaders created for training and validation.\n"
     ]
    }
   ],
   "source": [
    "from torchvision import datasets\n",
    "from torch.utils.data import DataLoader, random_split\n",
    "from torchvision.transforms import Compose, Normalize, ToTensor,Resize\n",
    "\n",
    "transform = Compose([\n",
    "    ToTensor(),\n",
    "    torchvision.transforms.Normalize((0.1307,), (0.3081,))\n",
    "])\n",
    "\n",
    "\n",
    "# Load the CelebA dataset\n",
    "dataset = datasets.MNIST(root='./data', download=True, transform=transform)\n",
    "\n",
    "# Splitting dataset into training and validation sets\n",
    "train_size = int(0.8 * len(dataset))\n",
    "val_size = len(dataset) - train_size\n",
    "train_dataset, val_dataset = random_split(dataset, [train_size, val_size])\n",
    "\n",
    "# Create DataLoader instances\n",
    "train_loader = DataLoader(train_dataset, batch_size=128, shuffle=True)\n",
    "val_loader = DataLoader(val_dataset, batch_size=128, shuffle=False)\n",
    "\n",
    "print(\"Data loaders created for training and validation.\")"
   ]
  },
  {
   "cell_type": "code",
   "execution_count": 4,
   "id": "72a008de-3e56-4ab4-a4b9-709ed3160b0d",
   "metadata": {},
   "outputs": [],
   "source": [
    "class DiffusionModel(nn.Module):\n",
    "    def __init__(self, input_shape, T=1000):\n",
    "        super(DiffusionModel, self).__init__()\n",
    "        self.input_shape = input_shape\n",
    "        self.T = T\n",
    "        self.decoder = UNetDecoder(n_channels=input_shape[0])\n",
    "\n",
    "        # Define the noise schedule\n",
    "        self.alpha = self.create_noise_schedule(T)\n",
    "\n",
    "    def create_noise_schedule(self, T):\n",
    "        beta_start = 0.0001\n",
    "        beta_end = 0.02\n",
    "        betas = torch.linspace(beta_start, beta_end, T)\n",
    "        alphas = 1 - betas\n",
    "        alphas_cumprod = torch.cumprod(alphas, dim=0)\n",
    "        return alphas_cumprod\n",
    "\n",
    "    def forward(self, x):\n",
    "\n",
    "        # Calculate the gaussian noise tensor\n",
    "        batch_size = x.shape[0]\n",
    "        epsilon = torch.randn(batch_size, 1, 28, 28).to(device)\n",
    "        \n",
    "        torch.cuda.empty_cache()\n",
    "\n",
    "        #sample a timestep t\n",
    "        t = np.random.randint(0, self.T)\n",
    "        # Retrieve noise scheduler alpha_T\n",
    "        alpha_t = self.alpha[t]\n",
    "\n",
    "        # Calculate square root alphas\n",
    "        sqrt_alpha_t = torch.sqrt(alpha_t)\n",
    "        sqrt_one_minus_alpha_t = torch.sqrt(1 - alpha_t)\n",
    "        \n",
    "        # Perform the weighted sum\n",
    "        x_t = sqrt_alpha_t * x + sqrt_one_minus_alpha_t * epsilon\n",
    "\n",
    "        torch.cuda.empty_cache()\n",
    "\n",
    "        #Calculate the timestep tensor\n",
    "        t = torch.tensor([t] * x_t.size(0), dtype=torch.long).to(x_t.device)\n",
    "\n",
    "        # Perform the reconstruction process using Algorithm 2\n",
    "        estimated_epsilon = self.decoder(x_t,t)\n",
    "        torch.cuda.empty_cache()\n",
    "        return epsilon, estimated_epsilon"
   ]
  },
  {
   "cell_type": "code",
   "execution_count": 5,
   "id": "b278bd6b-4148-49bd-bf03-1c7b2609abd4",
   "metadata": {},
   "outputs": [],
   "source": [
    "import os\n",
    "\n",
    "def save_checkpoint(epoch, model, optimizer, filename=\"checkpoint.pth\"):\n",
    "    \"\"\"Saves the model and optimizer state at the specified path.\"\"\"\n",
    "    torch.save({\n",
    "        'epoch': epoch,\n",
    "        'model_state_dict': model.state_dict(),\n",
    "        'optimizer_state_dict': optimizer.state_dict()\n",
    "    }, filename)\n",
    "    print(f\"Checkpoint saved at epoch {epoch} to {filename}\")\n",
    "\n",
    "\n",
    "def load_checkpoint(model, optimizer, filename=\"checkpoint.pth\"):\n",
    "    \"\"\"Loads the model and optimizer state from the specified path.\"\"\"\n",
    "    if os.path.isfile(filename):\n",
    "        checkpoint = torch.load(filename)\n",
    "        model.load_state_dict(checkpoint['model_state_dict'])\n",
    "        optimizer.load_state_dict(checkpoint['optimizer_state_dict'])\n",
    "        epoch = checkpoint['epoch']\n",
    "        print(f\"Checkpoint loaded from {filename}, resuming training from epoch {epoch}\")\n",
    "        return epoch\n",
    "    else:\n",
    "        print(f\"No checkpoint found at {filename}, starting from scratch.\")\n",
    "        return None"
   ]
  },
  {
   "cell_type": "code",
   "execution_count": 7,
   "id": "25cf69d8-ecb6-4c29-878d-3c2589834d1c",
   "metadata": {},
   "outputs": [],
   "source": [
    "import time  # Importing time to log the duration\n",
    "from tqdm import tqdm\n",
    "\n",
    "\n",
    "def validate(model, val_loader, device):\n",
    "    model.eval()  # Set the model to evaluation mode\n",
    "    total_val_loss = 0\n",
    "    with torch.no_grad():  # Disable gradient computation during validation\n",
    "        for data, _ in val_loader:\n",
    "            data = data.to(device)\n",
    "            epsilon, estimated_epsilon = model(data)\n",
    "            reconstruction_loss = nn.functional.mse_loss(epsilon, estimated_epsilon)\n",
    "            total_val_loss += reconstruction_loss.item()  # Accumulate the validation loss\n",
    "    \n",
    "    avg_val_loss = total_val_loss / len(val_loader)  # Calculate average loss\n",
    "    return avg_val_loss\n",
    "\n",
    "def train(model, optimizer, train_loader, device,start_epoch, num_epochs):\n",
    "    model.train()\n",
    "\n",
    "    for epoch in range(start_epoch+1, num_epochs):\n",
    "        epoch_loss = 0.0\n",
    "        epoch_start_time = time.time()  # Time tracking for the epoch\n",
    "\n",
    "        print(f\"Starting epoch {epoch+1}/{num_epochs}\")\n",
    "        for batch_idx, (data, _) in enumerate(tqdm(train_loader, desc=f\"Epoch {epoch+1}/{num_epochs}\", leave=False)):\n",
    "            data = data.to(device)\n",
    "\n",
    "            # Forward pass\n",
    "            epsilon, estimated_epsilon = model(data)\n",
    "            total_loss = nn.functional.mse_loss(estimated_epsilon, epsilon)\n",
    "\n",
    "            # Backward pass\n",
    "            if not torch.isnan(total_loss).any():\n",
    "                total_loss.backward()\n",
    "            else:\n",
    "                print(f\"Warning: NaN detected in total_loss at batch {batch_idx+1}, skipping backward pass.\")\n",
    "\n",
    "            optimizer.step()  # Only step the optimizer every `accumulation_steps`\n",
    "            optimizer.zero_grad()  # Reset gradients only after accumulation\n",
    "\n",
    "            # Safe-guarding against NaN for epoch_loss\n",
    "            if not torch.isnan(total_loss).any():\n",
    "                epoch_loss += total_loss.item()\n",
    "            else:\n",
    "                print(f\"NaN detected, not adding to epoch_loss at batch {batch_idx+1}\")\n",
    "\n",
    "        # Save the model checkpoint\n",
    "        save_checkpoint(epoch, model, optimizer, filename=\"mnist_gaussian.pth\")\n",
    "        \n",
    "        # Average loss after training for an epoch\n",
    "        avg_loss = epoch_loss / len(train_loader)\n",
    "        print(f\"Epoch [{epoch+1}/{num_epochs}] completed in {time.time() - epoch_start_time:.2f} seconds, Avg Loss: {avg_loss}\")\n",
    "\n",
    "        # Validation phase\n",
    "        avg_val_loss = validate(model, val_loader, device)\n",
    "        print(f\"Epoch [{epoch+1}/{num_epochs}] validation completed, Avg Validation Loss: {avg_val_loss}\")\n",
    "\n",
    "    return model\n"
   ]
  },
  {
   "cell_type": "code",
   "execution_count": 8,
   "id": "67a8e54a-c7f5-40f2-9293-0b4e7785ed87",
   "metadata": {},
   "outputs": [
    {
     "name": "stdout",
     "output_type": "stream",
     "text": [
      "Checkpoint loaded from mnist_gaussian.pth, resuming training from epoch 49\n",
      "The training ended in epoch number: 49\n",
      "Starting epoch 51/100\n"
     ]
    },
    {
     "name": "stderr",
     "output_type": "stream",
     "text": [
      "                                                                                \r"
     ]
    },
    {
     "name": "stdout",
     "output_type": "stream",
     "text": [
      "Checkpoint saved at epoch 50 to mnist_gaussian.pth\n",
      "Epoch [51/100] completed in 71.17 seconds, Avg Loss: 0.07323726581657926\n",
      "Epoch [51/100] validation completed, Avg Validation Loss: 0.11873160659315739\n",
      "Starting epoch 52/100\n"
     ]
    },
    {
     "name": "stderr",
     "output_type": "stream",
     "text": [
      "                                                                                \r"
     ]
    },
    {
     "name": "stdout",
     "output_type": "stream",
     "text": [
      "Checkpoint saved at epoch 51 to mnist_gaussian.pth\n",
      "Epoch [52/100] completed in 64.37 seconds, Avg Loss: 0.07631075805301468\n",
      "Epoch [52/100] validation completed, Avg Validation Loss: 0.07777442780144989\n",
      "Starting epoch 53/100\n"
     ]
    },
    {
     "name": "stderr",
     "output_type": "stream",
     "text": [
      "                                                                                \r"
     ]
    },
    {
     "name": "stdout",
     "output_type": "stream",
     "text": [
      "Checkpoint saved at epoch 52 to mnist_gaussian.pth\n",
      "Epoch [53/100] completed in 64.19 seconds, Avg Loss: 0.04998620793223381\n",
      "Epoch [53/100] validation completed, Avg Validation Loss: 0.05098762520232258\n",
      "Starting epoch 54/100\n"
     ]
    },
    {
     "name": "stderr",
     "output_type": "stream",
     "text": [
      "                                                                                \r"
     ]
    },
    {
     "name": "stdout",
     "output_type": "stream",
     "text": [
      "Checkpoint saved at epoch 53 to mnist_gaussian.pth\n",
      "Epoch [54/100] completed in 66.28 seconds, Avg Loss: 0.0765782500244677\n",
      "Epoch [54/100] validation completed, Avg Validation Loss: 0.05931362525084393\n",
      "Starting epoch 55/100\n"
     ]
    },
    {
     "name": "stderr",
     "output_type": "stream",
     "text": [
      "                                                                                \r"
     ]
    },
    {
     "name": "stdout",
     "output_type": "stream",
     "text": [
      "Checkpoint saved at epoch 54 to mnist_gaussian.pth\n",
      "Epoch [55/100] completed in 64.25 seconds, Avg Loss: 0.05485618342583378\n",
      "Epoch [55/100] validation completed, Avg Validation Loss: 0.0553129071820567\n",
      "Starting epoch 56/100\n"
     ]
    },
    {
     "name": "stderr",
     "output_type": "stream",
     "text": [
      "                                                                                \r"
     ]
    },
    {
     "name": "stdout",
     "output_type": "stream",
     "text": [
      "Checkpoint saved at epoch 55 to mnist_gaussian.pth\n",
      "Epoch [56/100] completed in 64.39 seconds, Avg Loss: 0.06609041102478902\n",
      "Epoch [56/100] validation completed, Avg Validation Loss: 0.05627405971407573\n",
      "Starting epoch 57/100\n"
     ]
    },
    {
     "name": "stderr",
     "output_type": "stream",
     "text": [
      "                                                                                \r"
     ]
    },
    {
     "name": "stdout",
     "output_type": "stream",
     "text": [
      "Checkpoint saved at epoch 56 to mnist_gaussian.pth\n",
      "Epoch [57/100] completed in 64.31 seconds, Avg Loss: 0.05039595838698248\n",
      "Epoch [57/100] validation completed, Avg Validation Loss: 0.04185377636508263\n",
      "Starting epoch 58/100\n"
     ]
    },
    {
     "name": "stderr",
     "output_type": "stream",
     "text": [
      "                                                                                \r"
     ]
    },
    {
     "name": "stdout",
     "output_type": "stream",
     "text": [
      "Checkpoint saved at epoch 57 to mnist_gaussian.pth\n",
      "Epoch [58/100] completed in 64.22 seconds, Avg Loss: 0.05711281532483796\n",
      "Epoch [58/100] validation completed, Avg Validation Loss: 0.048167346808266766\n",
      "Starting epoch 59/100\n"
     ]
    },
    {
     "name": "stderr",
     "output_type": "stream",
     "text": [
      "                                                                                \r"
     ]
    },
    {
     "name": "stdout",
     "output_type": "stream",
     "text": [
      "Checkpoint saved at epoch 58 to mnist_gaussian.pth\n",
      "Epoch [59/100] completed in 64.77 seconds, Avg Loss: 0.04511619167526563\n",
      "Epoch [59/100] validation completed, Avg Validation Loss: 0.039978916751854915\n",
      "Starting epoch 60/100\n"
     ]
    },
    {
     "name": "stderr",
     "output_type": "stream",
     "text": [
      "                                                                                \r"
     ]
    },
    {
     "name": "stdout",
     "output_type": "stream",
     "text": [
      "Checkpoint saved at epoch 59 to mnist_gaussian.pth\n",
      "Epoch [60/100] completed in 64.24 seconds, Avg Loss: 0.06442201025473575\n",
      "Epoch [60/100] validation completed, Avg Validation Loss: 0.047946033246339635\n",
      "Starting epoch 61/100\n"
     ]
    },
    {
     "name": "stderr",
     "output_type": "stream",
     "text": [
      "                                                                                \r"
     ]
    },
    {
     "name": "stdout",
     "output_type": "stream",
     "text": [
      "Checkpoint saved at epoch 60 to mnist_gaussian.pth\n",
      "Epoch [61/100] completed in 64.92 seconds, Avg Loss: 0.061519192188978195\n",
      "Epoch [61/100] validation completed, Avg Validation Loss: 0.05073230917704232\n",
      "Starting epoch 62/100\n"
     ]
    },
    {
     "name": "stderr",
     "output_type": "stream",
     "text": [
      "                                                                                \r"
     ]
    },
    {
     "name": "stdout",
     "output_type": "stream",
     "text": [
      "Checkpoint saved at epoch 61 to mnist_gaussian.pth\n",
      "Epoch [62/100] completed in 66.56 seconds, Avg Loss: 0.05040826952022811\n",
      "Epoch [62/100] validation completed, Avg Validation Loss: 0.04098253203258711\n",
      "Starting epoch 63/100\n"
     ]
    },
    {
     "name": "stderr",
     "output_type": "stream",
     "text": [
      "                                                                                \r"
     ]
    },
    {
     "name": "stdout",
     "output_type": "stream",
     "text": [
      "Checkpoint saved at epoch 62 to mnist_gaussian.pth\n",
      "Epoch [63/100] completed in 64.26 seconds, Avg Loss: 0.04322944056118528\n",
      "Epoch [63/100] validation completed, Avg Validation Loss: 0.0570544392524406\n",
      "Starting epoch 64/100\n"
     ]
    },
    {
     "name": "stderr",
     "output_type": "stream",
     "text": [
      "                                                                                \r"
     ]
    },
    {
     "name": "stdout",
     "output_type": "stream",
     "text": [
      "Checkpoint saved at epoch 63 to mnist_gaussian.pth\n",
      "Epoch [64/100] completed in 64.27 seconds, Avg Loss: 0.04484941686938206\n",
      "Epoch [64/100] validation completed, Avg Validation Loss: 0.09981649446281347\n",
      "Starting epoch 65/100\n"
     ]
    },
    {
     "name": "stderr",
     "output_type": "stream",
     "text": [
      "                                                                                \r"
     ]
    },
    {
     "name": "stdout",
     "output_type": "stream",
     "text": [
      "Checkpoint saved at epoch 64 to mnist_gaussian.pth\n",
      "Epoch [65/100] completed in 64.23 seconds, Avg Loss: 0.050140788457045955\n",
      "Epoch [65/100] validation completed, Avg Validation Loss: 0.06113935047463375\n",
      "Starting epoch 66/100\n"
     ]
    },
    {
     "name": "stderr",
     "output_type": "stream",
     "text": [
      "                                                                                \r"
     ]
    },
    {
     "name": "stdout",
     "output_type": "stream",
     "text": [
      "Checkpoint saved at epoch 65 to mnist_gaussian.pth\n",
      "Epoch [66/100] completed in 64.21 seconds, Avg Loss: 0.05541034098528325\n",
      "Epoch [66/100] validation completed, Avg Validation Loss: 0.04545971895122227\n",
      "Starting epoch 67/100\n"
     ]
    },
    {
     "name": "stderr",
     "output_type": "stream",
     "text": [
      "                                                                                \r"
     ]
    },
    {
     "name": "stdout",
     "output_type": "stream",
     "text": [
      "Checkpoint saved at epoch 66 to mnist_gaussian.pth\n",
      "Epoch [67/100] completed in 64.42 seconds, Avg Loss: 0.04684198278002441\n",
      "Epoch [67/100] validation completed, Avg Validation Loss: 0.04681498659626046\n",
      "Starting epoch 68/100\n"
     ]
    },
    {
     "name": "stderr",
     "output_type": "stream",
     "text": [
      "                                                                                \r"
     ]
    },
    {
     "name": "stdout",
     "output_type": "stream",
     "text": [
      "Checkpoint saved at epoch 67 to mnist_gaussian.pth\n",
      "Epoch [68/100] completed in 64.31 seconds, Avg Loss: 0.04815212063491345\n",
      "Epoch [68/100] validation completed, Avg Validation Loss: 0.061083875086277405\n",
      "Starting epoch 69/100\n"
     ]
    },
    {
     "name": "stderr",
     "output_type": "stream",
     "text": [
      "                                                                                \r"
     ]
    },
    {
     "name": "stdout",
     "output_type": "stream",
     "text": [
      "Checkpoint saved at epoch 68 to mnist_gaussian.pth\n",
      "Epoch [69/100] completed in 64.27 seconds, Avg Loss: 0.05913300824910402\n",
      "Epoch [69/100] validation completed, Avg Validation Loss: 0.06646241284312403\n",
      "Starting epoch 70/100\n"
     ]
    },
    {
     "name": "stderr",
     "output_type": "stream",
     "text": [
      "                                                                                \r"
     ]
    },
    {
     "name": "stdout",
     "output_type": "stream",
     "text": [
      "Checkpoint saved at epoch 69 to mnist_gaussian.pth\n",
      "Epoch [70/100] completed in 64.34 seconds, Avg Loss: 0.0436108515765518\n",
      "Epoch [70/100] validation completed, Avg Validation Loss: 0.05404178822720225\n",
      "Starting epoch 71/100\n"
     ]
    },
    {
     "name": "stderr",
     "output_type": "stream",
     "text": [
      "                                                                                \r"
     ]
    },
    {
     "name": "stdout",
     "output_type": "stream",
     "text": [
      "Checkpoint saved at epoch 70 to mnist_gaussian.pth\n",
      "Epoch [71/100] completed in 64.29 seconds, Avg Loss: 0.04927879371369878\n",
      "Epoch [71/100] validation completed, Avg Validation Loss: 0.04898515238644595\n",
      "Starting epoch 72/100\n"
     ]
    },
    {
     "name": "stderr",
     "output_type": "stream",
     "text": [
      "                                                                                \r"
     ]
    },
    {
     "name": "stdout",
     "output_type": "stream",
     "text": [
      "Checkpoint saved at epoch 71 to mnist_gaussian.pth\n",
      "Epoch [72/100] completed in 64.41 seconds, Avg Loss: 0.04929149698466063\n",
      "Epoch [72/100] validation completed, Avg Validation Loss: 0.03889760363133664\n",
      "Starting epoch 73/100\n"
     ]
    },
    {
     "name": "stderr",
     "output_type": "stream",
     "text": [
      "                                                                                \r"
     ]
    },
    {
     "name": "stdout",
     "output_type": "stream",
     "text": [
      "Checkpoint saved at epoch 72 to mnist_gaussian.pth\n",
      "Epoch [73/100] completed in 64.59 seconds, Avg Loss: 0.04237536311491082\n",
      "Epoch [73/100] validation completed, Avg Validation Loss: 0.04345520026238754\n",
      "Starting epoch 74/100\n"
     ]
    },
    {
     "name": "stderr",
     "output_type": "stream",
     "text": [
      "                                                                                \r"
     ]
    },
    {
     "name": "stdout",
     "output_type": "stream",
     "text": [
      "Checkpoint saved at epoch 73 to mnist_gaussian.pth\n",
      "Epoch [74/100] completed in 64.48 seconds, Avg Loss: 0.04460062567951779\n",
      "Epoch [74/100] validation completed, Avg Validation Loss: 0.051932281011992945\n",
      "Starting epoch 75/100\n"
     ]
    },
    {
     "name": "stderr",
     "output_type": "stream",
     "text": [
      "                                                                                \r"
     ]
    },
    {
     "name": "stdout",
     "output_type": "stream",
     "text": [
      "Checkpoint saved at epoch 74 to mnist_gaussian.pth\n",
      "Epoch [75/100] completed in 64.37 seconds, Avg Loss: 0.04759784491887937\n",
      "Epoch [75/100] validation completed, Avg Validation Loss: 0.04276801998221732\n",
      "Starting epoch 76/100\n"
     ]
    },
    {
     "name": "stderr",
     "output_type": "stream",
     "text": [
      "                                                                                \r"
     ]
    },
    {
     "name": "stdout",
     "output_type": "stream",
     "text": [
      "Checkpoint saved at epoch 75 to mnist_gaussian.pth\n",
      "Epoch [76/100] completed in 64.46 seconds, Avg Loss: 0.04521981186699122\n",
      "Epoch [76/100] validation completed, Avg Validation Loss: 0.04858583911381503\n",
      "Starting epoch 77/100\n"
     ]
    },
    {
     "name": "stderr",
     "output_type": "stream",
     "text": [
      "                                                                                \r"
     ]
    },
    {
     "name": "stdout",
     "output_type": "stream",
     "text": [
      "Checkpoint saved at epoch 76 to mnist_gaussian.pth\n",
      "Epoch [77/100] completed in 64.56 seconds, Avg Loss: 0.04117740155818562\n",
      "Epoch [77/100] validation completed, Avg Validation Loss: 0.1281438563811652\n",
      "Starting epoch 78/100\n"
     ]
    },
    {
     "name": "stderr",
     "output_type": "stream",
     "text": [
      "                                                                                \r"
     ]
    },
    {
     "name": "stdout",
     "output_type": "stream",
     "text": [
      "Checkpoint saved at epoch 77 to mnist_gaussian.pth\n",
      "Epoch [78/100] completed in 64.53 seconds, Avg Loss: 0.041327517909929154\n",
      "Epoch [78/100] validation completed, Avg Validation Loss: 0.04052876791931649\n",
      "Starting epoch 79/100\n"
     ]
    },
    {
     "name": "stderr",
     "output_type": "stream",
     "text": [
      "                                                                                \r"
     ]
    },
    {
     "name": "stdout",
     "output_type": "stream",
     "text": [
      "Checkpoint saved at epoch 78 to mnist_gaussian.pth\n",
      "Epoch [79/100] completed in 64.34 seconds, Avg Loss: 0.04202888304802279\n",
      "Epoch [79/100] validation completed, Avg Validation Loss: 0.049024354881963675\n",
      "Starting epoch 80/100\n"
     ]
    },
    {
     "name": "stderr",
     "output_type": "stream",
     "text": [
      "                                                                                \r"
     ]
    },
    {
     "name": "stdout",
     "output_type": "stream",
     "text": [
      "Checkpoint saved at epoch 79 to mnist_gaussian.pth\n",
      "Epoch [80/100] completed in 64.28 seconds, Avg Loss: 0.050467236179858446\n",
      "Epoch [80/100] validation completed, Avg Validation Loss: 0.032145821340778404\n",
      "Starting epoch 81/100\n"
     ]
    },
    {
     "name": "stderr",
     "output_type": "stream",
     "text": [
      "                                                                                \r"
     ]
    },
    {
     "name": "stdout",
     "output_type": "stream",
     "text": [
      "Checkpoint saved at epoch 80 to mnist_gaussian.pth\n",
      "Epoch [81/100] completed in 64.49 seconds, Avg Loss: 0.057676395416880646\n",
      "Epoch [81/100] validation completed, Avg Validation Loss: 0.043890167738588406\n",
      "Starting epoch 82/100\n"
     ]
    },
    {
     "name": "stderr",
     "output_type": "stream",
     "text": [
      "                                                                                \r"
     ]
    },
    {
     "name": "stdout",
     "output_type": "stream",
     "text": [
      "Checkpoint saved at epoch 81 to mnist_gaussian.pth\n",
      "Epoch [82/100] completed in 64.40 seconds, Avg Loss: 0.043121451683652896\n",
      "Epoch [82/100] validation completed, Avg Validation Loss: 0.035846360642066664\n",
      "Starting epoch 83/100\n"
     ]
    },
    {
     "name": "stderr",
     "output_type": "stream",
     "text": [
      "                                                                                \r"
     ]
    },
    {
     "name": "stdout",
     "output_type": "stream",
     "text": [
      "Checkpoint saved at epoch 82 to mnist_gaussian.pth\n",
      "Epoch [83/100] completed in 64.36 seconds, Avg Loss: 0.04420142523664981\n",
      "Epoch [83/100] validation completed, Avg Validation Loss: 0.03799853463250985\n",
      "Starting epoch 84/100\n"
     ]
    },
    {
     "name": "stderr",
     "output_type": "stream",
     "text": [
      "                                                                                \r"
     ]
    },
    {
     "name": "stdout",
     "output_type": "stream",
     "text": [
      "Checkpoint saved at epoch 83 to mnist_gaussian.pth\n",
      "Epoch [84/100] completed in 64.36 seconds, Avg Loss: 0.041208337295800444\n",
      "Epoch [84/100] validation completed, Avg Validation Loss: 0.04327862605729953\n",
      "Starting epoch 85/100\n"
     ]
    },
    {
     "name": "stderr",
     "output_type": "stream",
     "text": [
      "                                                                                \r"
     ]
    },
    {
     "name": "stdout",
     "output_type": "stream",
     "text": [
      "Checkpoint saved at epoch 84 to mnist_gaussian.pth\n",
      "Epoch [85/100] completed in 64.55 seconds, Avg Loss: 0.05103450466226787\n",
      "Epoch [85/100] validation completed, Avg Validation Loss: 0.03987970821400906\n",
      "Starting epoch 86/100\n"
     ]
    },
    {
     "name": "stderr",
     "output_type": "stream",
     "text": [
      "                                                                                \r"
     ]
    },
    {
     "name": "stdout",
     "output_type": "stream",
     "text": [
      "Checkpoint saved at epoch 85 to mnist_gaussian.pth\n",
      "Epoch [86/100] completed in 65.01 seconds, Avg Loss: 0.04198207995450745\n",
      "Epoch [86/100] validation completed, Avg Validation Loss: 0.04571156383323622\n",
      "Starting epoch 87/100\n"
     ]
    },
    {
     "name": "stderr",
     "output_type": "stream",
     "text": [
      "                                                                                \r"
     ]
    },
    {
     "name": "stdout",
     "output_type": "stream",
     "text": [
      "Checkpoint saved at epoch 86 to mnist_gaussian.pth\n",
      "Epoch [87/100] completed in 64.73 seconds, Avg Loss: 0.05318554413504899\n",
      "Epoch [87/100] validation completed, Avg Validation Loss: 0.042272929585182126\n",
      "Starting epoch 88/100\n"
     ]
    },
    {
     "name": "stderr",
     "output_type": "stream",
     "text": [
      "                                                                                \r"
     ]
    },
    {
     "name": "stdout",
     "output_type": "stream",
     "text": [
      "Checkpoint saved at epoch 87 to mnist_gaussian.pth\n",
      "Epoch [88/100] completed in 64.57 seconds, Avg Loss: 0.04494411973810444\n",
      "Epoch [88/100] validation completed, Avg Validation Loss: 0.04034815892141233\n",
      "Starting epoch 89/100\n"
     ]
    },
    {
     "name": "stderr",
     "output_type": "stream",
     "text": [
      "                                                                                \r"
     ]
    },
    {
     "name": "stdout",
     "output_type": "stream",
     "text": [
      "Checkpoint saved at epoch 88 to mnist_gaussian.pth\n",
      "Epoch [89/100] completed in 64.26 seconds, Avg Loss: 0.04114211285517862\n",
      "Epoch [89/100] validation completed, Avg Validation Loss: 0.05825714961665266\n",
      "Starting epoch 90/100\n"
     ]
    },
    {
     "name": "stderr",
     "output_type": "stream",
     "text": [
      "                                                                                \r"
     ]
    },
    {
     "name": "stdout",
     "output_type": "stream",
     "text": [
      "Checkpoint saved at epoch 89 to mnist_gaussian.pth\n",
      "Epoch [90/100] completed in 64.28 seconds, Avg Loss: 0.047838838723177714\n",
      "Epoch [90/100] validation completed, Avg Validation Loss: 0.04857589207599534\n",
      "Starting epoch 91/100\n"
     ]
    },
    {
     "name": "stderr",
     "output_type": "stream",
     "text": [
      "                                                                                \r"
     ]
    },
    {
     "name": "stdout",
     "output_type": "stream",
     "text": [
      "Checkpoint saved at epoch 90 to mnist_gaussian.pth\n",
      "Epoch [91/100] completed in 65.22 seconds, Avg Loss: 0.03398816800055404\n",
      "Epoch [91/100] validation completed, Avg Validation Loss: 0.03694240573144696\n",
      "Starting epoch 92/100\n"
     ]
    },
    {
     "name": "stderr",
     "output_type": "stream",
     "text": [
      "                                                                                \r"
     ]
    },
    {
     "name": "stdout",
     "output_type": "stream",
     "text": [
      "Checkpoint saved at epoch 91 to mnist_gaussian.pth\n",
      "Epoch [92/100] completed in 65.06 seconds, Avg Loss: 0.04722791014642765\n",
      "Epoch [92/100] validation completed, Avg Validation Loss: 0.03944185235973527\n",
      "Starting epoch 93/100\n"
     ]
    },
    {
     "name": "stderr",
     "output_type": "stream",
     "text": [
      "                                                                                \r"
     ]
    },
    {
     "name": "stdout",
     "output_type": "stream",
     "text": [
      "Checkpoint saved at epoch 92 to mnist_gaussian.pth\n",
      "Epoch [93/100] completed in 64.62 seconds, Avg Loss: 0.04121488641730199\n",
      "Epoch [93/100] validation completed, Avg Validation Loss: 0.03694433555319073\n",
      "Starting epoch 94/100\n"
     ]
    },
    {
     "name": "stderr",
     "output_type": "stream",
     "text": [
      "                                                                                \r"
     ]
    },
    {
     "name": "stdout",
     "output_type": "stream",
     "text": [
      "Checkpoint saved at epoch 93 to mnist_gaussian.pth\n",
      "Epoch [94/100] completed in 65.05 seconds, Avg Loss: 0.044833319884104036\n",
      "Epoch [94/100] validation completed, Avg Validation Loss: 0.04327977152462018\n",
      "Starting epoch 95/100\n"
     ]
    },
    {
     "name": "stderr",
     "output_type": "stream",
     "text": [
      "                                                                                \r"
     ]
    },
    {
     "name": "stdout",
     "output_type": "stream",
     "text": [
      "Checkpoint saved at epoch 94 to mnist_gaussian.pth\n",
      "Epoch [95/100] completed in 64.52 seconds, Avg Loss: 0.045463197900603214\n",
      "Epoch [95/100] validation completed, Avg Validation Loss: 0.04584920975538169\n",
      "Starting epoch 96/100\n"
     ]
    },
    {
     "name": "stderr",
     "output_type": "stream",
     "text": [
      "                                                                                \r"
     ]
    },
    {
     "name": "stdout",
     "output_type": "stream",
     "text": [
      "Checkpoint saved at epoch 95 to mnist_gaussian.pth\n",
      "Epoch [96/100] completed in 64.45 seconds, Avg Loss: 0.04617803877529999\n",
      "Epoch [96/100] validation completed, Avg Validation Loss: 0.036711658226038786\n",
      "Starting epoch 97/100\n"
     ]
    },
    {
     "name": "stderr",
     "output_type": "stream",
     "text": [
      "                                                                                \r"
     ]
    },
    {
     "name": "stdout",
     "output_type": "stream",
     "text": [
      "Checkpoint saved at epoch 96 to mnist_gaussian.pth\n",
      "Epoch [97/100] completed in 65.74 seconds, Avg Loss: 0.03603071527307232\n",
      "Epoch [97/100] validation completed, Avg Validation Loss: 0.03829481357094297\n",
      "Starting epoch 98/100\n"
     ]
    },
    {
     "name": "stderr",
     "output_type": "stream",
     "text": [
      "                                                                                \r"
     ]
    },
    {
     "name": "stdout",
     "output_type": "stream",
     "text": [
      "Checkpoint saved at epoch 97 to mnist_gaussian.pth\n",
      "Epoch [98/100] completed in 64.60 seconds, Avg Loss: 0.039634822173044086\n",
      "Epoch [98/100] validation completed, Avg Validation Loss: 0.03634643284207646\n",
      "Starting epoch 99/100\n"
     ]
    },
    {
     "name": "stderr",
     "output_type": "stream",
     "text": [
      "                                                                                \r"
     ]
    },
    {
     "name": "stdout",
     "output_type": "stream",
     "text": [
      "Checkpoint saved at epoch 98 to mnist_gaussian.pth\n",
      "Epoch [99/100] completed in 64.54 seconds, Avg Loss: 0.042733725166258715\n",
      "Epoch [99/100] validation completed, Avg Validation Loss: 0.0330889899967278\n",
      "Starting epoch 100/100\n"
     ]
    },
    {
     "name": "stderr",
     "output_type": "stream",
     "text": [
      "                                                                                \r"
     ]
    },
    {
     "name": "stdout",
     "output_type": "stream",
     "text": [
      "Checkpoint saved at epoch 99 to mnist_gaussian.pth\n",
      "Epoch [100/100] completed in 64.40 seconds, Avg Loss: 0.043486018430131175\n",
      "Epoch [100/100] validation completed, Avg Validation Loss: 0.028762668230016022\n"
     ]
    }
   ],
   "source": [
    "# Define the input shape\n",
    "input_shape = (1, 28, 28)\n",
    "\n",
    "# Create an instance of Gaussian Diffusion model\n",
    "model = DiffusionModel(input_shape).to(device)\n",
    "\n",
    "# Define the optimizer\n",
    "optimizer = optim.Adam(model.parameters(), lr = 1e-3)\n",
    "\n",
    "# Define the number of epochs and loss weights\n",
    "num_epochs = 100\n",
    "\n",
    "# Load the model training checkpoint\n",
    "start_epoch = load_checkpoint(model, optimizer, filename=\"mnist_gaussian.pth\")\n",
    "print(f\"The training ended in epoch number: {start_epoch}\")\n",
    "\n",
    "# Train the model\n",
    "trained_model = train(model, optimizer, train_loader, device, start_epoch, num_epochs)"
   ]
  },
  {
   "cell_type": "code",
   "execution_count": 9,
   "id": "df8281e2-8bbd-4fbc-9ea9-329781794ae3",
   "metadata": {},
   "outputs": [
    {
     "name": "stdout",
     "output_type": "stream",
     "text": [
      "Checkpoint loaded from mnist_gaussian.pth, resuming training from epoch 99\n",
      "The training ended in epoch number: 99\n"
     ]
    }
   ],
   "source": [
    "# Define the input shape\n",
    "input_shape = (1, 28, 28)\n",
    "\n",
    "# Example usage\n",
    "model = DiffusionModel(input_shape).to(device)\n",
    "optimizer = torch.optim.Adam(model.parameters(), lr=1e-3)\n",
    "\n",
    "start_epoch = load_checkpoint(model, optimizer, filename=\"mnist_gaussian.pth\")\n",
    "print(f\"The training ended in epoch number: {start_epoch}\")"
   ]
  },
  {
   "cell_type": "markdown",
   "id": "177fea68-4883-4633-a668-868b07bd038e",
   "metadata": {},
   "source": [
    "## Sampling according to DDPM"
   ]
  },
  {
   "cell_type": "code",
   "execution_count": 10,
   "id": "696b8b8c-72d5-41d2-bdbb-81cfcf652d10",
   "metadata": {},
   "outputs": [],
   "source": [
    "import torch\n",
    "import torch.nn.functional as F\n",
    "\n",
    "# Define the necessary parameters and variables\n",
    "T = 1000\n",
    "beta_start = 0.0001\n",
    "beta_end = 0.02\n",
    "betas = torch.linspace(beta_start, beta_end, T)\n",
    "alphas = 1 - betas\n",
    "alpha_bars = torch.cumprod(alphas, dim=0)\n",
    "\n",
    "model.eval()\n",
    "\n",
    "sampled_data = {}\n",
    "batch_size = 128\n",
    "\n",
    "\n",
    "with torch.no_grad():\n",
    "    for batch_idx in range(50):\n",
    "        x = torch.randn(batch_size, 1, 28, 28).to(device)\n",
    "        for s in range(T-1, -1, -1):\n",
    "            t = torch.tensor([s] * x.size(0), dtype=torch.long).to(device)\n",
    "            z = torch.randn(batch_size, 1, 28, 28).to(device) if s > 0 else torch.zeros(batch_size, 1, 28, 28).to(device)\n",
    "            estimated_noise = model.decoder(x, t)\n",
    "            estimated_noise = ((1 - alphas[s]) / torch.sqrt(1 - alpha_bars[s])) * estimated_noise\n",
    "            original_image = x - estimated_noise\n",
    "            original_image = (1.0 / torch.sqrt(alphas[s])) * original_image\n",
    "            noise_added = torch.sqrt(betas[s]) * z\n",
    "            x = original_image + noise_added\n",
    "        \n",
    "        # Reverse normalization\n",
    "        x = x * 0.3081 + 0.1307\n",
    "        x = (x.clamp(0, 1) * 255).type(torch.uint8)\n",
    "            \n",
    "        # Store the sampled images\n",
    "        for i in range(x.size(0)):\n",
    "            sampled_data[batch_idx * batch_size + i] = {\n",
    "                'sampled': x[i].cpu()\n",
    "            }\n",
    "        break\n"
   ]
  },
  {
   "cell_type": "code",
   "execution_count": 11,
   "id": "0df8f6ba-0c1e-4aad-8470-2710fb1e006c",
   "metadata": {},
   "outputs": [
    {
     "name": "stdout",
     "output_type": "stream",
     "text": [
      "Sampled data saved to 'sampled_gaussian_ddpm.pt'\n"
     ]
    }
   ],
   "source": [
    "\n",
    "# Save the dictionary to a .pt file\n",
    "torch.save(sampled_data, 'sampled_gaussian_ddpm.pt')\n",
    "\n",
    "print(\"Sampled data saved to 'sampled_gaussian_ddpm.pt'\")\n"
   ]
  },
  {
   "cell_type": "code",
   "execution_count": 19,
   "id": "e396ae46-c395-450b-ae29-b2c87d58c3dd",
   "metadata": {},
   "outputs": [
    {
     "data": {
      "image/png": "[encoded data removed]",
      "text/plain": [
       "<Figure size 500x500 with 1 Axes>"
      ]
     },
     "metadata": {},
     "output_type": "display_data"
    }
   ],
   "source": [
    "import torch\n",
    "import matplotlib.pyplot as plt\n",
    "\n",
    "# Load the saved data\n",
    "sampled_data = torch.load('sampled_gaussian_ddpm.pt')\n",
    "\n",
    "# Access a specific entry\n",
    "index = 66 # Replace with the index you want to check\n",
    "sampled_image = sampled_data[index]['sampled']\n",
    "\n",
    "\n",
    "# Convert the tensor to a numpy array\n",
    "sampled_image = sampled_image.cpu().numpy().transpose(1, 2, 0)\n",
    "\n",
    "\n",
    "# Display the sampled image\n",
    "plt.figure(figsize=(5, 5))\n",
    "plt.imshow(sampled_image, cmap = 'gray')\n",
    "plt.title(\"Sampled Image\")\n",
    "plt.axis('off')\n",
    "plt.show()\n"
   ]
  },
  {
   "cell_type": "code",
   "execution_count": null,
   "id": "b3d4b70c-b783-441b-b895-c1cf77a302d0",
   "metadata": {},
   "outputs": [],
   "source": []
  }
 ],
 "metadata": {
  "kernelspec": {
   "display_name": "Python 3 (ipykernel)",
   "language": "python",
   "name": "python3"
  },
  "language_info": {
   "codemirror_mode": {
    "name": "ipython",
    "version": 3
   },
   "file_extension": ".py",
   "mimetype": "text/x-python",
   "name": "python",
   "nbconvert_exporter": "python",
   "pygments_lexer": "ipython3",
   "version": "3.8.18"
  }
 },
 "nbformat": 4,
 "nbformat_minor": 5
}
