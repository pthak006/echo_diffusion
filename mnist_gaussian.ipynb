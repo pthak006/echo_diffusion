{
 "cells": [
  {
   "cell_type": "code",
   "execution_count": 1,
   "id": "7bc0c0f7-7683-4710-b06a-b4f1e4abd309",
   "metadata": {},
   "outputs": [],
   "source": [
    "# Import necessary PyTorch libraries\n",
    "import math\n",
    "import torch\n",
    "import torch.nn as nn\n",
    "import torch.nn.functional as F\n",
    "import torch.optim as optim\n",
    "import torch.utils.data as data\n",
    "import torchvision\n",
    "import torchvision.transforms as transforms\n",
    "\n",
    "\n",
    "# Additional libraries for visualization and utilities\n",
    "import matplotlib.pyplot as plt\n",
    "import numpy as np\n",
    "from unet_decoder import UNetDecoder"
   ]
  },
  {
   "cell_type": "code",
   "execution_count": 2,
   "id": "ccbb9823-564c-4735-a473-ad93c564ba7d",
   "metadata": {},
   "outputs": [
    {
     "name": "stdout",
     "output_type": "stream",
     "text": [
      "using device: cuda\n"
     ]
    }
   ],
   "source": [
    "def get_device():\n",
    "    \"\"\"Selects the best available device for PyTorch computations.\n",
    "\n",
    "    Returns:\n",
    "        torch.device: The selected device.\n",
    "    \"\"\"\n",
    "\n",
    "    if torch.cuda.is_available():\n",
    "        return torch.device('cuda')\n",
    "    elif torch.backends.mps.is_available():\n",
    "        return torch.device('mps')\n",
    "    else:\n",
    "        return torch.device('cpu')\n",
    "\n",
    "device = get_device()\n",
    "print(f\"using device: {device}\")"
   ]
  },
  {
   "cell_type": "code",
   "execution_count": 4,
   "id": "3e76e694-9980-4207-aff0-adc89538f999",
   "metadata": {},
   "outputs": [
    {
     "name": "stdout",
     "output_type": "stream",
     "text": [
      "Downloading https://raw.githubusercontent.com/brendenlake/omniglot/master/python/images_background.zip to ./data/omniglot-py/images_background.zip\n"
     ]
    },
    {
     "name": "stderr",
     "output_type": "stream",
     "text": [
      "100%|███████████████████████████| 9464212/9464212 [00:00<00:00, 56859913.87it/s]\n"
     ]
    },
    {
     "name": "stdout",
     "output_type": "stream",
     "text": [
      "Extracting ./data/omniglot-py/images_background.zip to ./data/omniglot-py\n",
      "Total number of images in the dataset: 19280\n",
      "Number of images in the training set: 15424\n",
      "Number of images in the validation set: 3856\n"
     ]
    }
   ],
   "source": [
    "from torchvision import datasets\n",
    "from torch.utils.data import DataLoader, random_split\n",
    "from torchvision.transforms import Compose, Normalize, ToTensor,Resize\n",
    "\n",
    "from torch.utils.data import DataLoader, random_split\n",
    "\n",
    "# Define the transformation with resizing\n",
    "transform = transforms.Compose([\n",
    "    Resize((28,28)),\n",
    "    ToTensor(),\n",
    "    Normalize((0.5,), (0.5,))  # Normalize with MNIST mean and std\n",
    "])\n",
    "\n",
    "# Load the Omniglot dataset\n",
    "dataset = datasets.Omniglot(root='./data', download=True, transform=transform)\n",
    "\n",
    "# Print the total number of images in the dataset\n",
    "print(f\"Total number of images in the dataset: {len(dataset)}\")\n",
    "\n",
    "# Splitting dataset into training and validation sets\n",
    "train_size = int(0.8 * len(dataset))\n",
    "val_size = len(dataset) - train_size\n",
    "train_dataset, val_dataset = random_split(dataset, [train_size, val_size])\n",
    "\n",
    "# Print the number of images in the train and validation sets\n",
    "print(f\"Number of images in the training set: {len(train_dataset)}\")\n",
    "print(f\"Number of images in the validation set: {len(val_dataset)}\")\n",
    "\n",
    "# Create DataLoader instances\n",
    "train_loader = DataLoader(train_dataset, batch_size=128, shuffle=True)\n",
    "val_loader = DataLoader(val_dataset, batch_size=128, shuffle=False)"
   ]
  },
  {
   "cell_type": "code",
   "execution_count": 5,
   "id": "72a008de-3e56-4ab4-a4b9-709ed3160b0d",
   "metadata": {},
   "outputs": [],
   "source": [
    "class DiffusionModel(nn.Module):\n",
    "    def __init__(self, input_shape, T=1000):\n",
    "        super(DiffusionModel, self).__init__()\n",
    "        self.input_shape = input_shape\n",
    "        self.T = T\n",
    "        self.decoder = UNetDecoder(n_channels=input_shape[0])\n",
    "\n",
    "        # Define the noise schedule\n",
    "        self.alpha = self.create_noise_schedule(T)\n",
    "\n",
    "    def create_noise_schedule(self, T):\n",
    "        beta_start = 0.0001\n",
    "        beta_end = 0.02\n",
    "        betas = torch.linspace(beta_start, beta_end, T)\n",
    "        alphas = 1 - betas\n",
    "        alphas_cumprod = torch.cumprod(alphas, dim=0)\n",
    "        return alphas_cumprod\n",
    "\n",
    "    def forward(self, x):\n",
    "\n",
    "        # Calculate the gaussian noise tensor\n",
    "        batch_size = x.shape[0]\n",
    "        epsilon = torch.randn(batch_size, 1, 28, 28).to(device)\n",
    "        \n",
    "        torch.cuda.empty_cache()\n",
    "\n",
    "        #sample a timestep t\n",
    "        t = np.random.randint(0, self.T)\n",
    "        # Retrieve noise scheduler alpha_T\n",
    "        alpha_t = self.alpha[t]\n",
    "\n",
    "        # Calculate square root alphas\n",
    "        sqrt_alpha_t = torch.sqrt(alpha_t)\n",
    "        sqrt_one_minus_alpha_t = torch.sqrt(1 - alpha_t)\n",
    "        \n",
    "        # Perform the weighted sum\n",
    "        x_t = sqrt_alpha_t * x + sqrt_one_minus_alpha_t * epsilon\n",
    "\n",
    "        torch.cuda.empty_cache()\n",
    "\n",
    "        #Calculate the timestep tensor\n",
    "        t = torch.tensor([t] * x_t.size(0), dtype=torch.long).to(x_t.device)\n",
    "\n",
    "        # Perform the reconstruction process using Algorithm 2\n",
    "        estimated_epsilon = self.decoder(x_t,t)\n",
    "        torch.cuda.empty_cache()\n",
    "        return epsilon, estimated_epsilon"
   ]
  },
  {
   "cell_type": "code",
   "execution_count": 9,
   "id": "b278bd6b-4148-49bd-bf03-1c7b2609abd4",
   "metadata": {},
   "outputs": [],
   "source": [
    "import os\n",
    "\n",
    "def save_checkpoint(epoch, model, optimizer, filename=\"checkpoint.pth\"):\n",
    "    \"\"\"Saves the model and optimizer state at the specified path.\"\"\"\n",
    "    torch.save({\n",
    "        'epoch': epoch,\n",
    "        'model_state_dict': model.state_dict(),\n",
    "        'optimizer_state_dict': optimizer.state_dict()\n",
    "    }, filename)\n",
    "    print(f\"Checkpoint saved at epoch {epoch} to {filename}\")\n",
    "\n",
    "\n",
    "def load_checkpoint(model, optimizer, filename=\"checkpoint.pth\"):\n",
    "    \"\"\"Loads the model and optimizer state from the specified path.\"\"\"\n",
    "    if os.path.isfile(filename):\n",
    "        checkpoint = torch.load(filename)\n",
    "        model.load_state_dict(checkpoint['model_state_dict'])\n",
    "        optimizer.load_state_dict(checkpoint['optimizer_state_dict'])\n",
    "        epoch = checkpoint['epoch']\n",
    "        print(f\"Checkpoint loaded from {filename}, resuming training from epoch {epoch}\")\n",
    "        return epoch\n",
    "    else:\n",
    "        print(f\"No checkpoint found at {filename}, starting from scratch.\")\n",
    "        return -1"
   ]
  },
  {
   "cell_type": "code",
   "execution_count": 10,
   "id": "25cf69d8-ecb6-4c29-878d-3c2589834d1c",
   "metadata": {},
   "outputs": [],
   "source": [
    "import time  # Importing time to log the duration\n",
    "from tqdm import tqdm\n",
    "\n",
    "\n",
    "def validate(model, val_loader, device):\n",
    "    model.eval()  # Set the model to evaluation mode\n",
    "    total_val_loss = 0\n",
    "    with torch.no_grad():  # Disable gradient computation during validation\n",
    "        for data, _ in val_loader:\n",
    "            data = data.to(device)\n",
    "            epsilon, estimated_epsilon = model(data)\n",
    "            reconstruction_loss = nn.functional.mse_loss(epsilon, estimated_epsilon)\n",
    "            total_val_loss += reconstruction_loss.item()  # Accumulate the validation loss\n",
    "    \n",
    "    avg_val_loss = total_val_loss / len(val_loader)  # Calculate average loss\n",
    "    return avg_val_loss\n",
    "\n",
    "def train(model, optimizer, train_loader, device,start_epoch, num_epochs):\n",
    "    model.train()\n",
    "\n",
    "    for epoch in range(start_epoch+1, num_epochs):\n",
    "        epoch_loss = 0.0\n",
    "        epoch_start_time = time.time()  # Time tracking for the epoch\n",
    "\n",
    "        print(f\"Starting epoch {epoch+1}/{num_epochs}\")\n",
    "        for batch_idx, (data, _) in enumerate(tqdm(train_loader, desc=f\"Epoch {epoch+1}/{num_epochs}\", leave=False)):\n",
    "            data = data.to(device)\n",
    "\n",
    "            # Forward pass\n",
    "            epsilon, estimated_epsilon = model(data)\n",
    "            total_loss = nn.functional.mse_loss(estimated_epsilon, epsilon)\n",
    "\n",
    "            # Backward pass\n",
    "            if not torch.isnan(total_loss).any():\n",
    "                total_loss.backward()\n",
    "            else:\n",
    "                print(f\"Warning: NaN detected in total_loss at batch {batch_idx+1}, skipping backward pass.\")\n",
    "\n",
    "            optimizer.step()  # Only step the optimizer every `accumulation_steps`\n",
    "            optimizer.zero_grad()  # Reset gradients only after accumulation\n",
    "\n",
    "            # Safe-guarding against NaN for epoch_loss\n",
    "            if not torch.isnan(total_loss).any():\n",
    "                epoch_loss += total_loss.item()\n",
    "            else:\n",
    "                print(f\"NaN detected, not adding to epoch_loss at batch {batch_idx+1}\")\n",
    "\n",
    "        # Save the model checkpoint\n",
    "        save_checkpoint(epoch, model, optimizer, filename=\"mnist_gaussian.pth\")\n",
    "        \n",
    "        # Average loss after training for an epoch\n",
    "        avg_loss = epoch_loss / len(train_loader)\n",
    "        print(f\"Epoch [{epoch+1}/{num_epochs}] completed in {time.time() - epoch_start_time:.2f} seconds, Avg Loss: {avg_loss}\")\n",
    "\n",
    "        # Validation phase\n",
    "        avg_val_loss = validate(model, val_loader, device)\n",
    "        print(f\"Epoch [{epoch+1}/{num_epochs}] validation completed, Avg Validation Loss: {avg_val_loss}\")\n",
    "\n",
    "    return model\n"
   ]
  },
  {
   "cell_type": "code",
   "execution_count": 11,
   "id": "67a8e54a-c7f5-40f2-9293-0b4e7785ed87",
   "metadata": {},
   "outputs": [
    {
     "ename": "RuntimeError",
     "evalue": "PytorchStreamReader failed reading zip archive: failed finding central directory",
     "output_type": "error",
     "traceback": [
      "\u001b[0;31m---------------------------------------------------------------------------\u001b[0m",
      "\u001b[0;31mRuntimeError\u001b[0m                              Traceback (most recent call last)",
      "Cell \u001b[0;32mIn[11], line 11\u001b[0m\n\u001b[1;32m      8\u001b[0m optimizer \u001b[38;5;241m=\u001b[39m optim\u001b[38;5;241m.\u001b[39mAdam(model\u001b[38;5;241m.\u001b[39mparameters(), lr \u001b[38;5;241m=\u001b[39m \u001b[38;5;241m1e-3\u001b[39m)\n\u001b[1;32m     10\u001b[0m \u001b[38;5;66;03m# Load the model training checkpoint\u001b[39;00m\n\u001b[0;32m---> 11\u001b[0m start_epoch \u001b[38;5;241m=\u001b[39m \u001b[43mload_checkpoint\u001b[49m\u001b[43m(\u001b[49m\u001b[43mmodel\u001b[49m\u001b[43m,\u001b[49m\u001b[43m \u001b[49m\u001b[43moptimizer\u001b[49m\u001b[43m,\u001b[49m\u001b[43m \u001b[49m\u001b[43mfilename\u001b[49m\u001b[38;5;241;43m=\u001b[39;49m\u001b[38;5;124;43m\"\u001b[39;49m\u001b[38;5;124;43momniglot_gaussian.pth\u001b[39;49m\u001b[38;5;124;43m\"\u001b[39;49m\u001b[43m)\u001b[49m\n\u001b[1;32m     12\u001b[0m \u001b[38;5;28mprint\u001b[39m(\u001b[38;5;124mf\u001b[39m\u001b[38;5;124m\"\u001b[39m\u001b[38;5;124mThe training ended in epoch number: \u001b[39m\u001b[38;5;132;01m{\u001b[39;00mstart_epoch\u001b[38;5;132;01m}\u001b[39;00m\u001b[38;5;124m\"\u001b[39m)\n",
      "Cell \u001b[0;32mIn[9], line 16\u001b[0m, in \u001b[0;36mload_checkpoint\u001b[0;34m(model, optimizer, filename)\u001b[0m\n\u001b[1;32m     14\u001b[0m \u001b[38;5;250m\u001b[39m\u001b[38;5;124;03m\"\"\"Loads the model and optimizer state from the specified path.\"\"\"\u001b[39;00m\n\u001b[1;32m     15\u001b[0m \u001b[38;5;28;01mif\u001b[39;00m os\u001b[38;5;241m.\u001b[39mpath\u001b[38;5;241m.\u001b[39misfile(filename):\n\u001b[0;32m---> 16\u001b[0m     checkpoint \u001b[38;5;241m=\u001b[39m \u001b[43mtorch\u001b[49m\u001b[38;5;241;43m.\u001b[39;49m\u001b[43mload\u001b[49m\u001b[43m(\u001b[49m\u001b[43mfilename\u001b[49m\u001b[43m)\u001b[49m\n\u001b[1;32m     17\u001b[0m     model\u001b[38;5;241m.\u001b[39mload_state_dict(checkpoint[\u001b[38;5;124m'\u001b[39m\u001b[38;5;124mmodel_state_dict\u001b[39m\u001b[38;5;124m'\u001b[39m])\n\u001b[1;32m     18\u001b[0m     optimizer\u001b[38;5;241m.\u001b[39mload_state_dict(checkpoint[\u001b[38;5;124m'\u001b[39m\u001b[38;5;124moptimizer_state_dict\u001b[39m\u001b[38;5;124m'\u001b[39m])\n",
      "File \u001b[0;32m~/miniconda3/envs/parthaenv/lib/python3.10/site-packages/torch/serialization.py:1004\u001b[0m, in \u001b[0;36mload\u001b[0;34m(f, map_location, pickle_module, weights_only, mmap, **pickle_load_args)\u001b[0m\n\u001b[1;32m   1002\u001b[0m orig_position \u001b[38;5;241m=\u001b[39m opened_file\u001b[38;5;241m.\u001b[39mtell()\n\u001b[1;32m   1003\u001b[0m overall_storage \u001b[38;5;241m=\u001b[39m \u001b[38;5;28;01mNone\u001b[39;00m\n\u001b[0;32m-> 1004\u001b[0m \u001b[38;5;28;01mwith\u001b[39;00m \u001b[43m_open_zipfile_reader\u001b[49m\u001b[43m(\u001b[49m\u001b[43mopened_file\u001b[49m\u001b[43m)\u001b[49m \u001b[38;5;28;01mas\u001b[39;00m opened_zipfile:\n\u001b[1;32m   1005\u001b[0m     \u001b[38;5;28;01mif\u001b[39;00m _is_torchscript_zip(opened_zipfile):\n\u001b[1;32m   1006\u001b[0m         warnings\u001b[38;5;241m.\u001b[39mwarn(\u001b[38;5;124m\"\u001b[39m\u001b[38;5;124m'\u001b[39m\u001b[38;5;124mtorch.load\u001b[39m\u001b[38;5;124m'\u001b[39m\u001b[38;5;124m received a zip file that looks like a TorchScript archive\u001b[39m\u001b[38;5;124m\"\u001b[39m\n\u001b[1;32m   1007\u001b[0m                       \u001b[38;5;124m\"\u001b[39m\u001b[38;5;124m dispatching to \u001b[39m\u001b[38;5;124m'\u001b[39m\u001b[38;5;124mtorch.jit.load\u001b[39m\u001b[38;5;124m'\u001b[39m\u001b[38;5;124m (call \u001b[39m\u001b[38;5;124m'\u001b[39m\u001b[38;5;124mtorch.jit.load\u001b[39m\u001b[38;5;124m'\u001b[39m\u001b[38;5;124m directly to\u001b[39m\u001b[38;5;124m\"\u001b[39m\n\u001b[1;32m   1008\u001b[0m                       \u001b[38;5;124m\"\u001b[39m\u001b[38;5;124m silence this warning)\u001b[39m\u001b[38;5;124m\"\u001b[39m, \u001b[38;5;167;01mUserWarning\u001b[39;00m)\n",
      "File \u001b[0;32m~/miniconda3/envs/parthaenv/lib/python3.10/site-packages/torch/serialization.py:456\u001b[0m, in \u001b[0;36m_open_zipfile_reader.__init__\u001b[0;34m(self, name_or_buffer)\u001b[0m\n\u001b[1;32m    455\u001b[0m \u001b[38;5;28;01mdef\u001b[39;00m \u001b[38;5;21m__init__\u001b[39m(\u001b[38;5;28mself\u001b[39m, name_or_buffer) \u001b[38;5;241m-\u001b[39m\u001b[38;5;241m>\u001b[39m \u001b[38;5;28;01mNone\u001b[39;00m:\n\u001b[0;32m--> 456\u001b[0m     \u001b[38;5;28msuper\u001b[39m()\u001b[38;5;241m.\u001b[39m\u001b[38;5;21m__init__\u001b[39m(\u001b[43mtorch\u001b[49m\u001b[38;5;241;43m.\u001b[39;49m\u001b[43m_C\u001b[49m\u001b[38;5;241;43m.\u001b[39;49m\u001b[43mPyTorchFileReader\u001b[49m\u001b[43m(\u001b[49m\u001b[43mname_or_buffer\u001b[49m\u001b[43m)\u001b[49m)\n",
      "\u001b[0;31mRuntimeError\u001b[0m: PytorchStreamReader failed reading zip archive: failed finding central directory"
     ]
    }
   ],
   "source": [
    "# Define the input shape\n",
    "input_shape = (1, 28, 28)\n",
    "\n",
    "# Create an instance of Gaussian Diffusion model\n",
    "model = DiffusionModel(input_shape).to(device)\n",
    "\n",
    "# Define the optimizer\n",
    "optimizer = optim.Adam(model.parameters(), lr = 1e-3)\n",
    "\n",
    "# Load the model training checkpoint\n",
    "start_epoch = load_checkpoint(model, optimizer, filename=\"omniglot_gaussian.pth\")\n",
    "print(f\"The training ended in epoch number: {start_epoch}\")"
   ]
  },
  {
   "cell_type": "code",
   "execution_count": 33,
   "id": "df8281e2-8bbd-4fbc-9ea9-329781794ae3",
   "metadata": {},
   "outputs": [
    {
     "name": "stdout",
     "output_type": "stream",
     "text": [
      "Checkpoint loaded from mnist_gaussian.pth, resuming training from epoch 199\n",
      "The training ended in epoch number: 199\n"
     ]
    }
   ],
   "source": [
    "# Define the input shape\n",
    "input_shape = (1, 28, 28)\n",
    "\n",
    "# Example usage\n",
    "model = DiffusionModel(input_shape).to(device)\n",
    "optimizer = torch.optim.Adam(model.parameters(), lr=1e-3)\n",
    "\n",
    "start_epoch = load_checkpoint(model, optimizer, filename=\"mnist_gaussian.pth\")\n",
    "print(f\"The training ended in epoch number: {start_epoch}\")"
   ]
  },
  {
   "cell_type": "markdown",
   "id": "177fea68-4883-4633-a668-868b07bd038e",
   "metadata": {},
   "source": [
    "## Sampling according to DDPM"
   ]
  },
  {
   "cell_type": "code",
   "execution_count": 60,
   "id": "696b8b8c-72d5-41d2-bdbb-81cfcf652d10",
   "metadata": {},
   "outputs": [],
   "source": [
    "import torch\n",
    "import torch.nn.functional as F\n",
    "\n",
    "# Define the necessary parameters and variables\n",
    "T = 1000\n",
    "beta_start = 0.0001\n",
    "beta_end = 0.02\n",
    "betas = torch.linspace(beta_start, beta_end, T)\n",
    "alphas = 1 - betas\n",
    "alpha_bars = torch.cumprod(alphas, dim=0)\n",
    "\n",
    "model.eval()\n",
    "\n",
    "sampled_data = {}\n",
    "batch_size = 128\n",
    "\n",
    "\n",
    "with torch.no_grad():\n",
    "    for batch_idx in range(32):\n",
    "        x = torch.randn(batch_size, 1, 28, 28).to(device)\n",
    "        for s in range(T-1, -1, -1):\n",
    "            t = torch.tensor([s] * x.size(0), dtype=torch.long).to(device)\n",
    "            z = torch.randn(batch_size, 1, 28, 28).to(device) if s > 0 else torch.zeros(batch_size, 1, 28, 28).to(device)\n",
    "            estimated_noise = model.decoder(x, t)\n",
    "            estimated_noise = ((1 - alphas[s]) / torch.sqrt(1 - alpha_bars[s])) * estimated_noise\n",
    "            original_image = x - estimated_noise\n",
    "            original_image = (1.0 / torch.sqrt(alphas[s])) * original_image\n",
    "            noise_added = torch.sqrt(betas[s]) * z\n",
    "            x = original_image + noise_added\n",
    "        \n",
    "        # Reverse normalization\n",
    "        x = x * 0.3081 + 0.1307\n",
    "        x = (x.clamp(0, 1) * 255).type(torch.uint8)\n",
    "            \n",
    "        # Store the sampled images\n",
    "        for i in range(x.size(0)):\n",
    "            sampled_data[batch_idx * batch_size + i] = {\n",
    "                'sampled': x[i].cpu()\n",
    "            }\n"
   ]
  },
  {
   "cell_type": "code",
   "execution_count": 61,
   "id": "0df8f6ba-0c1e-4aad-8470-2710fb1e006c",
   "metadata": {},
   "outputs": [
    {
     "name": "stdout",
     "output_type": "stream",
     "text": [
      "Sampled data saved to 'mnist_gaussian_ddpm.pt'\n"
     ]
    }
   ],
   "source": [
    "\n",
    "# Save the dictionary to a .pt file\n",
    "torch.save(sampled_data, 'sampled_gaussian_ddpm.pt')\n",
    "\n",
    "print(\"Sampled data saved to 'mnist_gaussian_ddpm.pt'\")\n"
   ]
  },
  {
   "cell_type": "code",
   "execution_count": 80,
   "id": "e396ae46-c395-450b-ae29-b2c87d58c3dd",
   "metadata": {},
   "outputs": [
    {
     "data": {
      "image/png": "[encoded data removed]",
      "text/plain": [
       "<Figure size 500x500 with 1 Axes>"
      ]
     },
     "metadata": {},
     "output_type": "display_data"
    }
   ],
   "source": [
    "import torch\n",
    "import matplotlib.pyplot as plt\n",
    "\n",
    "# Load the saved data\n",
    "sampled_data = torch.load('sampled_gaussian_ddpm.pt')\n",
    "\n",
    "# Access a specific entry\n",
    "index = 35# Replace with the index you want to check\n",
    "sampled_image = sampled_data[index]['sampled']\n",
    "\n",
    "\n",
    "# Convert the tensor to a numpy array\n",
    "sampled_image = sampled_image.cpu().numpy().transpose(1, 2, 0)\n",
    "\n",
    "\n",
    "# Display the sampled image\n",
    "plt.figure(figsize=(5, 5))\n",
    "plt.imshow(sampled_image, cmap = 'gray')\n",
    "plt.title(\"Sampled Image\")\n",
    "plt.axis('off')\n",
    "plt.show()\n"
   ]
  }
 ],
 "metadata": {
  "kernelspec": {
   "display_name": "Python 3 (ipykernel)",
   "language": "python",
   "name": "python3"
  },
  "language_info": {
   "codemirror_mode": {
    "name": "ipython",
    "version": 3
   },
   "file_extension": ".py",
   "mimetype": "text/x-python",
   "name": "python",
   "nbconvert_exporter": "python",
   "pygments_lexer": "ipython3",
   "version": "3.10.14"
  }
 },
 "nbformat": 4,
 "nbformat_minor": 5
}
