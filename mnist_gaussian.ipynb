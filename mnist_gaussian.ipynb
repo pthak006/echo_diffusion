{
 "cells": [
  {
   "cell_type": "code",
   "execution_count": 1,
   "id": "7bc0c0f7-7683-4710-b06a-b4f1e4abd309",
   "metadata": {},
   "outputs": [],
   "source": [
    "# Import necessary PyTorch libraries\n",
    "import math\n",
    "import torch\n",
    "import torch.nn as nn\n",
    "import torch.nn.functional as F\n",
    "import torch.optim as optim\n",
    "import torch.utils.data as data\n",
    "import torchvision\n",
    "import torchvision.transforms as transforms\n",
    "\n",
    "\n",
    "# Additional libraries for visualization and utilities\n",
    "import matplotlib.pyplot as plt\n",
    "import numpy as np\n",
    "from unet_decoder import UNetDecoder"
   ]
  },
  {
   "cell_type": "code",
   "execution_count": 2,
   "id": "ccbb9823-564c-4735-a473-ad93c564ba7d",
   "metadata": {},
   "outputs": [
    {
     "name": "stdout",
     "output_type": "stream",
     "text": [
      "using device: mps\n"
     ]
    }
   ],
   "source": [
    "def get_device():\n",
    "    \"\"\"Selects the best available device for PyTorch computations.\n",
    "\n",
    "    Returns:\n",
    "        torch.device: The selected device.\n",
    "    \"\"\"\n",
    "\n",
    "    if torch.cuda.is_available():\n",
    "        return torch.device('cuda')\n",
    "    elif torch.backends.mps.is_available():\n",
    "        return torch.device('mps')\n",
    "    else:\n",
    "        return torch.device('cpu')\n",
    "\n",
    "device = get_device()\n",
    "print(f\"using device: {device}\")"
   ]
  },
  {
   "cell_type": "code",
   "execution_count": 3,
   "id": "3e76e694-9980-4207-aff0-adc89538f999",
   "metadata": {},
   "outputs": [
    {
     "name": "stdout",
     "output_type": "stream",
     "text": [
      "Data loaders created for training and validation.\n"
     ]
    }
   ],
   "source": [
    "from torchvision import datasets\n",
    "from torch.utils.data import DataLoader, random_split\n",
    "from torchvision.transforms import Compose, Normalize, ToTensor,Resize\n",
    "\n",
    "transform = Compose([\n",
    "    ToTensor(),\n",
    "    torchvision.transforms.Normalize((0.1307,), (0.3081,))\n",
    "])\n",
    "\n",
    "\n",
    "# Load the CelebA dataset\n",
    "dataset = datasets.MNIST(root='./data', download=True, transform=transform)\n",
    "\n",
    "# Splitting dataset into training and validation sets\n",
    "train_size = int(0.8 * len(dataset))\n",
    "val_size = len(dataset) - train_size\n",
    "train_dataset, val_dataset = random_split(dataset, [train_size, val_size])\n",
    "\n",
    "# Create DataLoader instances\n",
    "train_loader = DataLoader(train_dataset, batch_size=128, shuffle=True)\n",
    "val_loader = DataLoader(val_dataset, batch_size=128, shuffle=False)\n",
    "\n",
    "print(\"Data loaders created for training and validation.\")"
   ]
  },
  {
   "cell_type": "code",
   "execution_count": 4,
   "id": "72a008de-3e56-4ab4-a4b9-709ed3160b0d",
   "metadata": {},
   "outputs": [],
   "source": [
    "class DiffusionModel(nn.Module):\n",
    "    def __init__(self, input_shape, T=1000):\n",
    "        super(DiffusionModel, self).__init__()\n",
    "        self.input_shape = input_shape\n",
    "        self.T = T\n",
    "        self.decoder = UNetDecoder(n_channels=input_shape[0])\n",
    "\n",
    "        # Define the noise schedule\n",
    "        self.alpha = self.create_noise_schedule(T)\n",
    "\n",
    "    def create_noise_schedule(self, T):\n",
    "        beta_start = 0.0001\n",
    "        beta_end = 0.02\n",
    "        betas = torch.linspace(beta_start, beta_end, T)\n",
    "        alphas = 1 - betas\n",
    "        alphas_cumprod = torch.cumprod(alphas, dim=0)\n",
    "        return alphas_cumprod\n",
    "\n",
    "    def forward(self, x):\n",
    "\n",
    "        # Calculate the gaussian noise tensor\n",
    "        batch_size = x.shape[0]\n",
    "        epsilon = torch.randn(batch_size, 1, 28, 28).to(device)\n",
    "        \n",
    "        torch.cuda.empty_cache()\n",
    "\n",
    "        #sample a timestep t\n",
    "        t = np.random.randint(0, self.T)\n",
    "        # Retrieve noise scheduler alpha_T\n",
    "        alpha_t = self.alpha[t]\n",
    "\n",
    "        # Calculate square root alphas\n",
    "        sqrt_alpha_t = torch.sqrt(alpha_t)\n",
    "        sqrt_one_minus_alpha_t = torch.sqrt(1 - alpha_t)\n",
    "        \n",
    "        # Perform the weighted sum\n",
    "        x_t = sqrt_alpha_t * x + sqrt_one_minus_alpha_t * epsilon\n",
    "\n",
    "        torch.cuda.empty_cache()\n",
    "\n",
    "        #Calculate the timestep tensor\n",
    "        t = torch.tensor([t] * x_t.size(0), dtype=torch.long).to(x_t.device)\n",
    "\n",
    "        # Perform the reconstruction process using Algorithm 2\n",
    "        estimated_epsilon = self.decoder(x_t,t)\n",
    "        torch.cuda.empty_cache()\n",
    "        return epsilon, estimated_epsilon"
   ]
  },
  {
   "cell_type": "code",
   "execution_count": 5,
   "id": "b278bd6b-4148-49bd-bf03-1c7b2609abd4",
   "metadata": {},
   "outputs": [],
   "source": [
    "import os\n",
    "\n",
    "def save_checkpoint(epoch, model, optimizer, filename=\"checkpoint.pth\"):\n",
    "    \"\"\"Saves the model and optimizer state at the specified path.\"\"\"\n",
    "    torch.save({\n",
    "        'epoch': epoch,\n",
    "        'model_state_dict': model.state_dict(),\n",
    "        'optimizer_state_dict': optimizer.state_dict()\n",
    "    }, filename)\n",
    "    print(f\"Checkpoint saved at epoch {epoch} to {filename}\")\n",
    "\n",
    "\n",
    "def load_checkpoint(model, optimizer, filename=\"checkpoint.pth\"):\n",
    "    \"\"\"Loads the model and optimizer state from the specified path.\"\"\"\n",
    "    if os.path.isfile(filename):\n",
    "        checkpoint = torch.load(filename)\n",
    "        model.load_state_dict(checkpoint['model_state_dict'])\n",
    "        optimizer.load_state_dict(checkpoint['optimizer_state_dict'])\n",
    "        epoch = checkpoint['epoch']\n",
    "        print(f\"Checkpoint loaded from {filename}, resuming training from epoch {epoch}\")\n",
    "        return epoch\n",
    "    else:\n",
    "        print(f\"No checkpoint found at {filename}, starting from scratch.\")\n",
    "        return None"
   ]
  },
  {
   "cell_type": "code",
   "execution_count": 6,
   "id": "25cf69d8-ecb6-4c29-878d-3c2589834d1c",
   "metadata": {},
   "outputs": [],
   "source": [
    "import time  # Importing time to log the duration\n",
    "from tqdm import tqdm\n",
    "\n",
    "\n",
    "def validate(model, val_loader, device):\n",
    "    model.eval()  # Set the model to evaluation mode\n",
    "    total_val_loss = 0\n",
    "    with torch.no_grad():  # Disable gradient computation during validation\n",
    "        for data, _ in val_loader:\n",
    "            data = data.to(device)\n",
    "            epsilon, estimated_epsilon = model(data)\n",
    "            reconstruction_loss = nn.functional.mse_loss(epsilon, estimated_epsilon)\n",
    "            total_val_loss += reconstruction_loss.item()  # Accumulate the validation loss\n",
    "    \n",
    "    avg_val_loss = total_val_loss / len(val_loader)  # Calculate average loss\n",
    "    return avg_val_loss\n",
    "\n",
    "def train(model, optimizer, train_loader, device,start_epoch, num_epochs):\n",
    "    model.train()\n",
    "\n",
    "    for epoch in range(start_epoch+1, num_epochs):\n",
    "        epoch_loss = 0.0\n",
    "        epoch_start_time = time.time()  # Time tracking for the epoch\n",
    "\n",
    "        print(f\"Starting epoch {epoch+1}/{num_epochs}\")\n",
    "        for batch_idx, (data, _) in enumerate(tqdm(train_loader, desc=f\"Epoch {epoch+1}/{num_epochs}\", leave=False)):\n",
    "            data = data.to(device)\n",
    "\n",
    "            # Forward pass\n",
    "            epsilon, estimated_epsilon = model(data)\n",
    "            total_loss = nn.functional.mse_loss(estimated_epsilon, epsilon)\n",
    "\n",
    "            # Backward pass\n",
    "            if not torch.isnan(total_loss).any():\n",
    "                total_loss.backward()\n",
    "            else:\n",
    "                print(f\"Warning: NaN detected in total_loss at batch {batch_idx+1}, skipping backward pass.\")\n",
    "\n",
    "            optimizer.step()  # Only step the optimizer every `accumulation_steps`\n",
    "            optimizer.zero_grad()  # Reset gradients only after accumulation\n",
    "\n",
    "            # Safe-guarding against NaN for epoch_loss\n",
    "            if not torch.isnan(total_loss).any():\n",
    "                epoch_loss += total_loss.item()\n",
    "            else:\n",
    "                print(f\"NaN detected, not adding to epoch_loss at batch {batch_idx+1}\")\n",
    "\n",
    "        # Save the model checkpoint\n",
    "        save_checkpoint(epoch, model, optimizer, filename=\"mnist_gaussian.pth\")\n",
    "        \n",
    "        # Average loss after training for an epoch\n",
    "        avg_loss = epoch_loss / len(train_loader)\n",
    "        print(f\"Epoch [{epoch+1}/{num_epochs}] completed in {time.time() - epoch_start_time:.2f} seconds, Avg Loss: {avg_loss}\")\n",
    "\n",
    "        # Validation phase\n",
    "        avg_val_loss = validate(model, val_loader, device)\n",
    "        print(f\"Epoch [{epoch+1}/{num_epochs}] validation completed, Avg Validation Loss: {avg_val_loss}\")\n",
    "\n",
    "    return model\n"
   ]
  },
  {
   "cell_type": "code",
   "execution_count": 32,
   "id": "67a8e54a-c7f5-40f2-9293-0b4e7785ed87",
   "metadata": {},
   "outputs": [
    {
     "name": "stdout",
     "output_type": "stream",
     "text": [
      "Checkpoint loaded from mnist_gaussian.pth, resuming training from epoch 149\n",
      "The training ended in epoch number: 149\n",
      "Starting epoch 151/200\n"
     ]
    },
    {
     "name": "stderr",
     "output_type": "stream",
     "text": [
      "                                                                                \r"
     ]
    },
    {
     "name": "stdout",
     "output_type": "stream",
     "text": [
      "Checkpoint saved at epoch 150 to mnist_gaussian.pth\n",
      "Epoch [151/200] completed in 66.75 seconds, Avg Loss: 0.06111223558709025\n",
      "Epoch [151/200] validation completed, Avg Validation Loss: 0.20767538098895805\n",
      "Starting epoch 152/200\n"
     ]
    },
    {
     "name": "stderr",
     "output_type": "stream",
     "text": [
      "                                                                                \r"
     ]
    },
    {
     "name": "stdout",
     "output_type": "stream",
     "text": [
      "Checkpoint saved at epoch 151 to mnist_gaussian.pth\n",
      "Epoch [152/200] completed in 64.35 seconds, Avg Loss: 0.08800346375753482\n",
      "Epoch [152/200] validation completed, Avg Validation Loss: 0.05009444096086032\n",
      "Starting epoch 153/200\n"
     ]
    },
    {
     "name": "stderr",
     "output_type": "stream",
     "text": [
      "                                                                                \r"
     ]
    },
    {
     "name": "stdout",
     "output_type": "stream",
     "text": [
      "Checkpoint saved at epoch 152 to mnist_gaussian.pth\n",
      "Epoch [153/200] completed in 64.16 seconds, Avg Loss: 0.04827370505097012\n",
      "Epoch [153/200] validation completed, Avg Validation Loss: 0.04203996705535324\n",
      "Starting epoch 154/200\n"
     ]
    },
    {
     "name": "stderr",
     "output_type": "stream",
     "text": [
      "                                                                                \r"
     ]
    },
    {
     "name": "stdout",
     "output_type": "stream",
     "text": [
      "Checkpoint saved at epoch 153 to mnist_gaussian.pth\n",
      "Epoch [154/200] completed in 66.28 seconds, Avg Loss: 0.037988026761760316\n",
      "Epoch [154/200] validation completed, Avg Validation Loss: 0.07123008207665717\n",
      "Starting epoch 155/200\n"
     ]
    },
    {
     "name": "stderr",
     "output_type": "stream",
     "text": [
      "                                                                                \r"
     ]
    },
    {
     "name": "stdout",
     "output_type": "stream",
     "text": [
      "Checkpoint saved at epoch 154 to mnist_gaussian.pth\n",
      "Epoch [155/200] completed in 64.78 seconds, Avg Loss: 0.04897770016671469\n",
      "Epoch [155/200] validation completed, Avg Validation Loss: 0.03417789957491047\n",
      "Starting epoch 156/200\n"
     ]
    },
    {
     "name": "stderr",
     "output_type": "stream",
     "text": [
      "                                                                                \r"
     ]
    },
    {
     "name": "stdout",
     "output_type": "stream",
     "text": [
      "Checkpoint saved at epoch 155 to mnist_gaussian.pth\n",
      "Epoch [156/200] completed in 64.40 seconds, Avg Loss: 0.04114558518119156\n",
      "Epoch [156/200] validation completed, Avg Validation Loss: 0.05864253582710281\n",
      "Starting epoch 157/200\n"
     ]
    },
    {
     "name": "stderr",
     "output_type": "stream",
     "text": [
      "                                                                                \r"
     ]
    },
    {
     "name": "stdout",
     "output_type": "stream",
     "text": [
      "Checkpoint saved at epoch 156 to mnist_gaussian.pth\n",
      "Epoch [157/200] completed in 64.67 seconds, Avg Loss: 0.038125957931702335\n",
      "Epoch [157/200] validation completed, Avg Validation Loss: 0.03516443971385981\n",
      "Starting epoch 158/200\n"
     ]
    },
    {
     "name": "stderr",
     "output_type": "stream",
     "text": [
      "                                                                                \r"
     ]
    },
    {
     "name": "stdout",
     "output_type": "stream",
     "text": [
      "Checkpoint saved at epoch 157 to mnist_gaussian.pth\n",
      "Epoch [158/200] completed in 65.21 seconds, Avg Loss: 0.04282295552485933\n",
      "Epoch [158/200] validation completed, Avg Validation Loss: 0.04079256350536177\n",
      "Starting epoch 159/200\n"
     ]
    },
    {
     "name": "stderr",
     "output_type": "stream",
     "text": [
      "                                                                                \r"
     ]
    },
    {
     "name": "stdout",
     "output_type": "stream",
     "text": [
      "Checkpoint saved at epoch 158 to mnist_gaussian.pth\n",
      "Epoch [159/200] completed in 64.39 seconds, Avg Loss: 0.034261828993447124\n",
      "Epoch [159/200] validation completed, Avg Validation Loss: 0.05032388597697099\n",
      "Starting epoch 160/200\n"
     ]
    },
    {
     "name": "stderr",
     "output_type": "stream",
     "text": [
      "                                                                                \r"
     ]
    },
    {
     "name": "stdout",
     "output_type": "stream",
     "text": [
      "Checkpoint saved at epoch 159 to mnist_gaussian.pth\n",
      "Epoch [160/200] completed in 64.61 seconds, Avg Loss: 0.041596068050401905\n",
      "Epoch [160/200] validation completed, Avg Validation Loss: 0.03883896782211563\n",
      "Starting epoch 161/200\n"
     ]
    },
    {
     "name": "stderr",
     "output_type": "stream",
     "text": [
      "                                                                                \r"
     ]
    },
    {
     "name": "stdout",
     "output_type": "stream",
     "text": [
      "Checkpoint saved at epoch 160 to mnist_gaussian.pth\n",
      "Epoch [161/200] completed in 64.36 seconds, Avg Loss: 0.035400865581197045\n",
      "Epoch [161/200] validation completed, Avg Validation Loss: 0.042230103081934395\n",
      "Starting epoch 162/200\n"
     ]
    },
    {
     "name": "stderr",
     "output_type": "stream",
     "text": [
      "                                                                                \r"
     ]
    },
    {
     "name": "stdout",
     "output_type": "stream",
     "text": [
      "Checkpoint saved at epoch 161 to mnist_gaussian.pth\n",
      "Epoch [162/200] completed in 64.31 seconds, Avg Loss: 0.03719991704821587\n",
      "Epoch [162/200] validation completed, Avg Validation Loss: 0.033292396695036044\n",
      "Starting epoch 163/200\n"
     ]
    },
    {
     "name": "stderr",
     "output_type": "stream",
     "text": [
      "                                                                                \r"
     ]
    },
    {
     "name": "stdout",
     "output_type": "stream",
     "text": [
      "Checkpoint saved at epoch 162 to mnist_gaussian.pth\n",
      "Epoch [163/200] completed in 64.31 seconds, Avg Loss: 0.03498233555381497\n",
      "Epoch [163/200] validation completed, Avg Validation Loss: 0.036903634326819805\n",
      "Starting epoch 164/200\n"
     ]
    },
    {
     "name": "stderr",
     "output_type": "stream",
     "text": [
      "                                                                                \r"
     ]
    },
    {
     "name": "stdout",
     "output_type": "stream",
     "text": [
      "Checkpoint saved at epoch 163 to mnist_gaussian.pth\n",
      "Epoch [164/200] completed in 66.36 seconds, Avg Loss: 0.03565763131560137\n",
      "Epoch [164/200] validation completed, Avg Validation Loss: 0.04217636367390329\n",
      "Starting epoch 165/200\n"
     ]
    },
    {
     "name": "stderr",
     "output_type": "stream",
     "text": [
      "                                                                                \r"
     ]
    },
    {
     "name": "stdout",
     "output_type": "stream",
     "text": [
      "Checkpoint saved at epoch 164 to mnist_gaussian.pth\n",
      "Epoch [165/200] completed in 64.20 seconds, Avg Loss: 0.03386937353294343\n",
      "Epoch [165/200] validation completed, Avg Validation Loss: 0.028288081947198892\n",
      "Starting epoch 166/200\n"
     ]
    },
    {
     "name": "stderr",
     "output_type": "stream",
     "text": [
      "                                                                                \r"
     ]
    },
    {
     "name": "stdout",
     "output_type": "stream",
     "text": [
      "Checkpoint saved at epoch 165 to mnist_gaussian.pth\n",
      "Epoch [166/200] completed in 64.38 seconds, Avg Loss: 0.05243948745370532\n",
      "Epoch [166/200] validation completed, Avg Validation Loss: 0.04214141797274351\n",
      "Starting epoch 167/200\n"
     ]
    },
    {
     "name": "stderr",
     "output_type": "stream",
     "text": [
      "                                                                                \r"
     ]
    },
    {
     "name": "stdout",
     "output_type": "stream",
     "text": [
      "Checkpoint saved at epoch 166 to mnist_gaussian.pth\n",
      "Epoch [167/200] completed in 64.48 seconds, Avg Loss: 0.03905820932860176\n",
      "Epoch [167/200] validation completed, Avg Validation Loss: 0.031914188993470545\n",
      "Starting epoch 168/200\n"
     ]
    },
    {
     "name": "stderr",
     "output_type": "stream",
     "text": [
      "                                                                                \r"
     ]
    },
    {
     "name": "stdout",
     "output_type": "stream",
     "text": [
      "Checkpoint saved at epoch 167 to mnist_gaussian.pth\n",
      "Epoch [168/200] completed in 64.41 seconds, Avg Loss: 0.031976584806883084\n",
      "Epoch [168/200] validation completed, Avg Validation Loss: 0.03263064370827472\n",
      "Starting epoch 169/200\n"
     ]
    },
    {
     "name": "stderr",
     "output_type": "stream",
     "text": [
      "                                                                                \r"
     ]
    },
    {
     "name": "stdout",
     "output_type": "stream",
     "text": [
      "Checkpoint saved at epoch 168 to mnist_gaussian.pth\n",
      "Epoch [169/200] completed in 64.31 seconds, Avg Loss: 0.04026609050529078\n",
      "Epoch [169/200] validation completed, Avg Validation Loss: 0.03322124833667136\n",
      "Starting epoch 170/200\n"
     ]
    },
    {
     "name": "stderr",
     "output_type": "stream",
     "text": [
      "                                                                                \r"
     ]
    },
    {
     "name": "stdout",
     "output_type": "stream",
     "text": [
      "Checkpoint saved at epoch 169 to mnist_gaussian.pth\n",
      "Epoch [170/200] completed in 64.34 seconds, Avg Loss: 0.03648538385688638\n",
      "Epoch [170/200] validation completed, Avg Validation Loss: 0.030433882681152564\n",
      "Starting epoch 171/200\n"
     ]
    },
    {
     "name": "stderr",
     "output_type": "stream",
     "text": [
      "                                                                                \r"
     ]
    },
    {
     "name": "stdout",
     "output_type": "stream",
     "text": [
      "Checkpoint saved at epoch 170 to mnist_gaussian.pth\n",
      "Epoch [171/200] completed in 64.59 seconds, Avg Loss: 0.041972514308678606\n",
      "Epoch [171/200] validation completed, Avg Validation Loss: 0.03390633921384158\n",
      "Starting epoch 172/200\n"
     ]
    },
    {
     "name": "stderr",
     "output_type": "stream",
     "text": [
      "                                                                                \r"
     ]
    },
    {
     "name": "stdout",
     "output_type": "stream",
     "text": [
      "Checkpoint saved at epoch 171 to mnist_gaussian.pth\n",
      "Epoch [172/200] completed in 64.46 seconds, Avg Loss: 0.035683090702475356\n",
      "Epoch [172/200] validation completed, Avg Validation Loss: 0.037161730158023855\n",
      "Starting epoch 173/200\n"
     ]
    },
    {
     "name": "stderr",
     "output_type": "stream",
     "text": [
      "                                                                                \r"
     ]
    },
    {
     "name": "stdout",
     "output_type": "stream",
     "text": [
      "Checkpoint saved at epoch 172 to mnist_gaussian.pth\n",
      "Epoch [173/200] completed in 64.32 seconds, Avg Loss: 0.04024067953570436\n",
      "Epoch [173/200] validation completed, Avg Validation Loss: 0.033464298857886224\n",
      "Starting epoch 174/200\n"
     ]
    },
    {
     "name": "stderr",
     "output_type": "stream",
     "text": [
      "                                                                                \r"
     ]
    },
    {
     "name": "stdout",
     "output_type": "stream",
     "text": [
      "Checkpoint saved at epoch 173 to mnist_gaussian.pth\n",
      "Epoch [174/200] completed in 64.31 seconds, Avg Loss: 0.03311858623754233\n",
      "Epoch [174/200] validation completed, Avg Validation Loss: 0.03508707587334744\n",
      "Starting epoch 175/200\n"
     ]
    },
    {
     "name": "stderr",
     "output_type": "stream",
     "text": [
      "                                                                                \r"
     ]
    },
    {
     "name": "stdout",
     "output_type": "stream",
     "text": [
      "Checkpoint saved at epoch 174 to mnist_gaussian.pth\n",
      "Epoch [175/200] completed in 64.35 seconds, Avg Loss: 0.034257538669276985\n",
      "Epoch [175/200] validation completed, Avg Validation Loss: 0.04185469227129633\n",
      "Starting epoch 176/200\n"
     ]
    },
    {
     "name": "stderr",
     "output_type": "stream",
     "text": [
      "                                                                                \r"
     ]
    },
    {
     "name": "stdout",
     "output_type": "stream",
     "text": [
      "Checkpoint saved at epoch 175 to mnist_gaussian.pth\n",
      "Epoch [176/200] completed in 64.26 seconds, Avg Loss: 0.035212352357183896\n",
      "Epoch [176/200] validation completed, Avg Validation Loss: 0.03553066284276862\n",
      "Starting epoch 177/200\n"
     ]
    },
    {
     "name": "stderr",
     "output_type": "stream",
     "text": [
      "                                                                                \r"
     ]
    },
    {
     "name": "stdout",
     "output_type": "stream",
     "text": [
      "Checkpoint saved at epoch 176 to mnist_gaussian.pth\n",
      "Epoch [177/200] completed in 64.25 seconds, Avg Loss: 0.04317476685872922\n",
      "Epoch [177/200] validation completed, Avg Validation Loss: 0.02640618946145665\n",
      "Starting epoch 178/200\n"
     ]
    },
    {
     "name": "stderr",
     "output_type": "stream",
     "text": [
      "                                                                                \r"
     ]
    },
    {
     "name": "stdout",
     "output_type": "stream",
     "text": [
      "Checkpoint saved at epoch 177 to mnist_gaussian.pth\n",
      "Epoch [178/200] completed in 64.29 seconds, Avg Loss: 0.03393510164382557\n",
      "Epoch [178/200] validation completed, Avg Validation Loss: 0.03375360281256206\n",
      "Starting epoch 179/200\n"
     ]
    },
    {
     "name": "stderr",
     "output_type": "stream",
     "text": [
      "                                                                                \r"
     ]
    },
    {
     "name": "stdout",
     "output_type": "stream",
     "text": [
      "Checkpoint saved at epoch 178 to mnist_gaussian.pth\n",
      "Epoch [179/200] completed in 64.24 seconds, Avg Loss: 0.033512072149974606\n",
      "Epoch [179/200] validation completed, Avg Validation Loss: 0.033012590833637424\n",
      "Starting epoch 180/200\n"
     ]
    },
    {
     "name": "stderr",
     "output_type": "stream",
     "text": [
      "                                                                                \r"
     ]
    },
    {
     "name": "stdout",
     "output_type": "stream",
     "text": [
      "Checkpoint saved at epoch 179 to mnist_gaussian.pth\n",
      "Epoch [180/200] completed in 64.34 seconds, Avg Loss: 0.040116248574418326\n",
      "Epoch [180/200] validation completed, Avg Validation Loss: 0.04130738099264179\n",
      "Starting epoch 181/200\n"
     ]
    },
    {
     "name": "stderr",
     "output_type": "stream",
     "text": [
      "                                                                                \r"
     ]
    },
    {
     "name": "stdout",
     "output_type": "stream",
     "text": [
      "Checkpoint saved at epoch 180 to mnist_gaussian.pth\n",
      "Epoch [181/200] completed in 64.31 seconds, Avg Loss: 0.03809586541556443\n",
      "Epoch [181/200] validation completed, Avg Validation Loss: 0.03196268989469242\n",
      "Starting epoch 182/200\n"
     ]
    },
    {
     "name": "stderr",
     "output_type": "stream",
     "text": [
      "                                                                                \r"
     ]
    },
    {
     "name": "stdout",
     "output_type": "stream",
     "text": [
      "Checkpoint saved at epoch 181 to mnist_gaussian.pth\n",
      "Epoch [182/200] completed in 64.31 seconds, Avg Loss: 0.03550757150817663\n",
      "Epoch [182/200] validation completed, Avg Validation Loss: 0.030996492966647915\n",
      "Starting epoch 183/200\n"
     ]
    },
    {
     "name": "stderr",
     "output_type": "stream",
     "text": [
      "                                                                                \r"
     ]
    },
    {
     "name": "stdout",
     "output_type": "stream",
     "text": [
      "Checkpoint saved at epoch 182 to mnist_gaussian.pth\n",
      "Epoch [183/200] completed in 64.26 seconds, Avg Loss: 0.03908854534911613\n",
      "Epoch [183/200] validation completed, Avg Validation Loss: 0.03557175936108019\n",
      "Starting epoch 184/200\n"
     ]
    },
    {
     "name": "stderr",
     "output_type": "stream",
     "text": [
      "                                                                                \r"
     ]
    },
    {
     "name": "stdout",
     "output_type": "stream",
     "text": [
      "Checkpoint saved at epoch 183 to mnist_gaussian.pth\n",
      "Epoch [184/200] completed in 64.35 seconds, Avg Loss: 0.03625523565057665\n",
      "Epoch [184/200] validation completed, Avg Validation Loss: 0.03953946878430136\n",
      "Starting epoch 185/200\n"
     ]
    },
    {
     "name": "stderr",
     "output_type": "stream",
     "text": [
      "                                                                                \r"
     ]
    },
    {
     "name": "stdout",
     "output_type": "stream",
     "text": [
      "Checkpoint saved at epoch 184 to mnist_gaussian.pth\n",
      "Epoch [185/200] completed in 64.31 seconds, Avg Loss: 0.03357222129497677\n",
      "Epoch [185/200] validation completed, Avg Validation Loss: 0.031953885953160045\n",
      "Starting epoch 186/200\n"
     ]
    },
    {
     "name": "stderr",
     "output_type": "stream",
     "text": [
      "                                                                                \r"
     ]
    },
    {
     "name": "stdout",
     "output_type": "stream",
     "text": [
      "Checkpoint saved at epoch 185 to mnist_gaussian.pth\n",
      "Epoch [186/200] completed in 64.28 seconds, Avg Loss: 0.03409222842551147\n",
      "Epoch [186/200] validation completed, Avg Validation Loss: 0.028182582869045833\n",
      "Starting epoch 187/200\n"
     ]
    },
    {
     "name": "stderr",
     "output_type": "stream",
     "text": [
      "                                                                                \r"
     ]
    },
    {
     "name": "stdout",
     "output_type": "stream",
     "text": [
      "Checkpoint saved at epoch 186 to mnist_gaussian.pth\n",
      "Epoch [187/200] completed in 64.31 seconds, Avg Loss: 0.04678330800107991\n",
      "Epoch [187/200] validation completed, Avg Validation Loss: 0.07066023643029497\n",
      "Starting epoch 188/200\n"
     ]
    },
    {
     "name": "stderr",
     "output_type": "stream",
     "text": [
      "                                                                                \r"
     ]
    },
    {
     "name": "stdout",
     "output_type": "stream",
     "text": [
      "Checkpoint saved at epoch 187 to mnist_gaussian.pth\n",
      "Epoch [188/200] completed in 64.42 seconds, Avg Loss: 0.037776725166787706\n",
      "Epoch [188/200] validation completed, Avg Validation Loss: 0.050994309891471044\n",
      "Starting epoch 189/200\n"
     ]
    },
    {
     "name": "stderr",
     "output_type": "stream",
     "text": [
      "                                                                                \r"
     ]
    },
    {
     "name": "stdout",
     "output_type": "stream",
     "text": [
      "Checkpoint saved at epoch 188 to mnist_gaussian.pth\n",
      "Epoch [189/200] completed in 64.58 seconds, Avg Loss: 0.03488243420235813\n",
      "Epoch [189/200] validation completed, Avg Validation Loss: 0.030292300264687932\n",
      "Starting epoch 190/200\n"
     ]
    },
    {
     "name": "stderr",
     "output_type": "stream",
     "text": [
      "                                                                                \r"
     ]
    },
    {
     "name": "stdout",
     "output_type": "stream",
     "text": [
      "Checkpoint saved at epoch 189 to mnist_gaussian.pth\n",
      "Epoch [190/200] completed in 64.31 seconds, Avg Loss: 0.03508347382706901\n",
      "Epoch [190/200] validation completed, Avg Validation Loss: 0.03266675446796766\n",
      "Starting epoch 191/200\n"
     ]
    },
    {
     "name": "stderr",
     "output_type": "stream",
     "text": [
      "                                                                                \r"
     ]
    },
    {
     "name": "stdout",
     "output_type": "stream",
     "text": [
      "Checkpoint saved at epoch 190 to mnist_gaussian.pth\n",
      "Epoch [191/200] completed in 64.33 seconds, Avg Loss: 0.038390055360272526\n",
      "Epoch [191/200] validation completed, Avg Validation Loss: 0.030169541014363355\n",
      "Starting epoch 192/200\n"
     ]
    },
    {
     "name": "stderr",
     "output_type": "stream",
     "text": [
      "                                                                                \r"
     ]
    },
    {
     "name": "stdout",
     "output_type": "stream",
     "text": [
      "Checkpoint saved at epoch 191 to mnist_gaussian.pth\n",
      "Epoch [192/200] completed in 64.26 seconds, Avg Loss: 0.03666587039036676\n",
      "Epoch [192/200] validation completed, Avg Validation Loss: 0.03209227890994875\n",
      "Starting epoch 193/200\n"
     ]
    },
    {
     "name": "stderr",
     "output_type": "stream",
     "text": [
      "                                                                                \r"
     ]
    },
    {
     "name": "stdout",
     "output_type": "stream",
     "text": [
      "Checkpoint saved at epoch 192 to mnist_gaussian.pth\n",
      "Epoch [193/200] completed in 64.34 seconds, Avg Loss: 0.034118279792678854\n",
      "Epoch [193/200] validation completed, Avg Validation Loss: 0.031193424674479213\n",
      "Starting epoch 194/200\n"
     ]
    },
    {
     "name": "stderr",
     "output_type": "stream",
     "text": [
      "                                                                                \r"
     ]
    },
    {
     "name": "stdout",
     "output_type": "stream",
     "text": [
      "Checkpoint saved at epoch 193 to mnist_gaussian.pth\n",
      "Epoch [194/200] completed in 64.28 seconds, Avg Loss: 0.0414989182020848\n",
      "Epoch [194/200] validation completed, Avg Validation Loss: 0.03150317558716546\n",
      "Starting epoch 195/200\n"
     ]
    },
    {
     "name": "stderr",
     "output_type": "stream",
     "text": [
      "                                                                                \r"
     ]
    },
    {
     "name": "stdout",
     "output_type": "stream",
     "text": [
      "Checkpoint saved at epoch 194 to mnist_gaussian.pth\n",
      "Epoch [195/200] completed in 64.28 seconds, Avg Loss: 0.0375428054984659\n",
      "Epoch [195/200] validation completed, Avg Validation Loss: 0.039545996582749834\n",
      "Starting epoch 196/200\n"
     ]
    },
    {
     "name": "stderr",
     "output_type": "stream",
     "text": [
      "                                                                                \r"
     ]
    },
    {
     "name": "stdout",
     "output_type": "stream",
     "text": [
      "Checkpoint saved at epoch 195 to mnist_gaussian.pth\n",
      "Epoch [196/200] completed in 64.27 seconds, Avg Loss: 0.041204377160097165\n",
      "Epoch [196/200] validation completed, Avg Validation Loss: 0.02808436400633543\n",
      "Starting epoch 197/200\n"
     ]
    },
    {
     "name": "stderr",
     "output_type": "stream",
     "text": [
      "                                                                                \r"
     ]
    },
    {
     "name": "stdout",
     "output_type": "stream",
     "text": [
      "Checkpoint saved at epoch 196 to mnist_gaussian.pth\n",
      "Epoch [197/200] completed in 64.34 seconds, Avg Loss: 0.027905768886984636\n",
      "Epoch [197/200] validation completed, Avg Validation Loss: 0.0318510180550994\n",
      "Starting epoch 198/200\n"
     ]
    },
    {
     "name": "stderr",
     "output_type": "stream",
     "text": [
      "                                                                                \r"
     ]
    },
    {
     "name": "stdout",
     "output_type": "stream",
     "text": [
      "Checkpoint saved at epoch 197 to mnist_gaussian.pth\n",
      "Epoch [198/200] completed in 64.29 seconds, Avg Loss: 0.028963924994226543\n",
      "Epoch [198/200] validation completed, Avg Validation Loss: 0.038349960832807055\n",
      "Starting epoch 199/200\n"
     ]
    },
    {
     "name": "stderr",
     "output_type": "stream",
     "text": [
      "                                                                                \r"
     ]
    },
    {
     "name": "stdout",
     "output_type": "stream",
     "text": [
      "Checkpoint saved at epoch 198 to mnist_gaussian.pth\n",
      "Epoch [199/200] completed in 64.25 seconds, Avg Loss: 0.03568388475679482\n",
      "Epoch [199/200] validation completed, Avg Validation Loss: 0.037987149174404426\n",
      "Starting epoch 200/200\n"
     ]
    },
    {
     "name": "stderr",
     "output_type": "stream",
     "text": [
      "                                                                                \r"
     ]
    },
    {
     "name": "stdout",
     "output_type": "stream",
     "text": [
      "Checkpoint saved at epoch 199 to mnist_gaussian.pth\n",
      "Epoch [200/200] completed in 64.52 seconds, Avg Loss: 0.047669578263225654\n",
      "Epoch [200/200] validation completed, Avg Validation Loss: 0.037123665504623204\n"
     ]
    }
   ],
   "source": [
    "# Define the input shape\n",
    "input_shape = (1, 28, 28)\n",
    "\n",
    "# Create an instance of Gaussian Diffusion model\n",
    "model = DiffusionModel(input_shape).to(device)\n",
    "\n",
    "# Define the optimizer\n",
    "optimizer = optim.Adam(model.parameters(), lr = 1e-3)\n",
    "\n",
    "# Define the number of epochs and loss weights\n",
    "num_epochs = 200\n",
    "\n",
    "# Load the model training checkpoint\n",
    "start_epoch = load_checkpoint(model, optimizer, filename=\"mnist_gaussian.pth\")\n",
    "print(f\"The training ended in epoch number: {start_epoch}\")\n",
    "\n",
    "# Train the model\n",
    "trained_model = train(model, optimizer, train_loader, device, start_epoch, num_epochs)"
   ]
  },
  {
   "cell_type": "code",
   "execution_count": 33,
   "id": "df8281e2-8bbd-4fbc-9ea9-329781794ae3",
   "metadata": {},
   "outputs": [
    {
     "name": "stdout",
     "output_type": "stream",
     "text": [
      "Checkpoint loaded from mnist_gaussian.pth, resuming training from epoch 199\n",
      "The training ended in epoch number: 199\n"
     ]
    }
   ],
   "source": [
    "# Define the input shape\n",
    "input_shape = (1, 28, 28)\n",
    "\n",
    "# Example usage\n",
    "model = DiffusionModel(input_shape).to(device)\n",
    "optimizer = torch.optim.Adam(model.parameters(), lr=1e-3)\n",
    "\n",
    "start_epoch = load_checkpoint(model, optimizer, filename=\"mnist_gaussian.pth\")\n",
    "print(f\"The training ended in epoch number: {start_epoch}\")"
   ]
  },
  {
   "cell_type": "markdown",
   "id": "177fea68-4883-4633-a668-868b07bd038e",
   "metadata": {},
   "source": [
    "## Sampling according to DDPM"
   ]
  },
  {
   "cell_type": "code",
   "execution_count": 60,
   "id": "696b8b8c-72d5-41d2-bdbb-81cfcf652d10",
   "metadata": {},
   "outputs": [],
   "source": [
    "import torch\n",
    "import torch.nn.functional as F\n",
    "\n",
    "# Define the necessary parameters and variables\n",
    "T = 1000\n",
    "beta_start = 0.0001\n",
    "beta_end = 0.02\n",
    "betas = torch.linspace(beta_start, beta_end, T)\n",
    "alphas = 1 - betas\n",
    "alpha_bars = torch.cumprod(alphas, dim=0)\n",
    "\n",
    "model.eval()\n",
    "\n",
    "sampled_data = {}\n",
    "batch_size = 128\n",
    "\n",
    "\n",
    "with torch.no_grad():\n",
    "    for batch_idx in range(32):\n",
    "        x = torch.randn(batch_size, 1, 28, 28).to(device)\n",
    "        for s in range(T-1, -1, -1):\n",
    "            t = torch.tensor([s] * x.size(0), dtype=torch.long).to(device)\n",
    "            z = torch.randn(batch_size, 1, 28, 28).to(device) if s > 0 else torch.zeros(batch_size, 1, 28, 28).to(device)\n",
    "            estimated_noise = model.decoder(x, t)\n",
    "            estimated_noise = ((1 - alphas[s]) / torch.sqrt(1 - alpha_bars[s])) * estimated_noise\n",
    "            original_image = x - estimated_noise\n",
    "            original_image = (1.0 / torch.sqrt(alphas[s])) * original_image\n",
    "            noise_added = torch.sqrt(betas[s]) * z\n",
    "            x = original_image + noise_added\n",
    "        \n",
    "        # Reverse normalization\n",
    "        x = x * 0.3081 + 0.1307\n",
    "        x = (x.clamp(0, 1) * 255).type(torch.uint8)\n",
    "            \n",
    "        # Store the sampled images\n",
    "        for i in range(x.size(0)):\n",
    "            sampled_data[batch_idx * batch_size + i] = {\n",
    "                'sampled': x[i].cpu()\n",
    "            }\n"
   ]
  },
  {
   "cell_type": "code",
   "execution_count": 61,
   "id": "0df8f6ba-0c1e-4aad-8470-2710fb1e006c",
   "metadata": {},
   "outputs": [
    {
     "name": "stdout",
     "output_type": "stream",
     "text": [
      "Sampled data saved to 'mnist_gaussian_ddpm.pt'\n"
     ]
    }
   ],
   "source": [
    "\n",
    "# Save the dictionary to a .pt file\n",
    "torch.save(sampled_data, 'sampled_gaussian_ddpm.pt')\n",
    "\n",
    "print(\"Sampled data saved to 'mnist_gaussian_ddpm.pt'\")\n"
   ]
  },
  {
   "cell_type": "code",
   "execution_count": 80,
   "id": "e396ae46-c395-450b-ae29-b2c87d58c3dd",
   "metadata": {},
   "outputs": [
    {
     "data": {
      "image/png": "[encoded data removed]",
      "text/plain": [
       "<Figure size 500x500 with 1 Axes>"
      ]
     },
     "metadata": {},
     "output_type": "display_data"
    }
   ],
   "source": [
    "import torch\n",
    "import matplotlib.pyplot as plt\n",
    "\n",
    "# Load the saved data\n",
    "sampled_data = torch.load('sampled_gaussian_ddpm.pt')\n",
    "\n",
    "# Access a specific entry\n",
    "index = 35# Replace with the index you want to check\n",
    "sampled_image = sampled_data[index]['sampled']\n",
    "\n",
    "\n",
    "# Convert the tensor to a numpy array\n",
    "sampled_image = sampled_image.cpu().numpy().transpose(1, 2, 0)\n",
    "\n",
    "\n",
    "# Display the sampled image\n",
    "plt.figure(figsize=(5, 5))\n",
    "plt.imshow(sampled_image, cmap = 'gray')\n",
    "plt.title(\"Sampled Image\")\n",
    "plt.axis('off')\n",
    "plt.show()\n"
   ]
  }
 ],
 "metadata": {
  "kernelspec": {
   "display_name": "Python 3 (ipykernel)",
   "language": "python",
   "name": "python3"
  },
  "language_info": {
   "codemirror_mode": {
    "name": "ipython",
    "version": 3
   },
   "file_extension": ".py",
   "mimetype": "text/x-python",
   "name": "python",
   "nbconvert_exporter": "python",
   "pygments_lexer": "ipython3",
   "version": "3.8.18"
  }
 },
 "nbformat": 4,
 "nbformat_minor": 5
}
