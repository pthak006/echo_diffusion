{
 "cells": [
  {
   "cell_type": "code",
   "execution_count": 1,
   "id": "505ac89b-0022-4f40-8391-3ee2f6296654",
   "metadata": {},
   "outputs": [],
   "source": [
    "# Import required packages\n",
    "import torch\n",
    "import torchvision as tv\n",
    "import numpy as np\n",
    "import normflows as nf\n",
    "\n",
    "from matplotlib import pyplot as plt\n",
    "from tqdm import tqdm"
   ]
  },
  {
   "cell_type": "code",
   "execution_count": 2,
   "id": "cadef50d-feb2-4e51-9bde-37ff3b16475e",
   "metadata": {},
   "outputs": [
    {
     "name": "stdout",
     "output_type": "stream",
     "text": [
      "Using device: mps\n"
     ]
    }
   ],
   "source": [
    "import torch\n",
    "import numpy as np\n",
    "from matplotlib import pyplot as plt\n",
    "from tqdm import tqdm\n",
    "\n",
    "# Define a function to get the appropriate device\n",
    "def get_device():\n",
    "    \"\"\"Selects the best available device for PyTorch computations.\n",
    "\n",
    "    Returns:\n",
    "        torch.device: The selected device.\n",
    "    \"\"\"\n",
    "    if torch.cuda.is_available():\n",
    "        return torch.device('cuda')\n",
    "    elif torch.backends.mps.is_available():\n",
    "        return torch.device('mps')\n",
    "    else:\n",
    "        return torch.device('cpu')\n",
    "\n",
    "device = get_device()\n",
    "print(f\"Using device: {device}\")"
   ]
  },
  {
   "cell_type": "code",
   "execution_count": 3,
   "id": "f367527a-723b-491a-9fc1-73e3947af7a4",
   "metadata": {},
   "outputs": [
    {
     "name": "stderr",
     "output_type": "stream",
     "text": [
      "/Users/parthathakuria/pytorch-test/env/lib/python3.8/site-packages/torch/_tensor.py:770: UserWarning: torch.lu is deprecated in favor of torch.linalg.lu_factor / torch.linalg.lu_factor_ex and will be removed in a future PyTorch release.\n",
      "LU, pivots = torch.lu(A, compute_pivots)\n",
      "should be replaced with\n",
      "LU, pivots = torch.linalg.lu_factor(A, compute_pivots)\n",
      "and\n",
      "LU, pivots, info = torch.lu(A, compute_pivots, get_infos=True)\n",
      "should be replaced with\n",
      "LU, pivots, info = torch.linalg.lu_factor_ex(A, compute_pivots) (Triggered internally at /Users/runner/work/pytorch/pytorch/pytorch/aten/src/ATen/native/BatchLinearAlgebra.cpp:2002.)\n",
      "  LU, pivots, infos = torch._lu_with_info(\n"
     ]
    }
   ],
   "source": [
    "import torch\n",
    "import numpy as np\n",
    "import normflows as nf\n",
    "\n",
    "# Set up model\n",
    "\n",
    "# Define flows\n",
    "L = 2  # Reduced levels to match MNIST dimensions\n",
    "K = 8  # Reduced blocks per level for simpler model\n",
    "torch.manual_seed(0)\n",
    "\n",
    "input_shape = (1, 28, 28)\n",
    "n_dims = np.prod(input_shape)\n",
    "channels = 1  # MNIST has single channel images\n",
    "hidden_channels = 256\n",
    "split_mode = 'channel'\n",
    "scale = True\n",
    "\n",
    "# Set up flows, distributions, and merge operations\n",
    "q0 = []\n",
    "merges = []\n",
    "flows = []\n",
    "for i in range(L):\n",
    "    flows_ = []\n",
    "    for j in range(K):\n",
    "        flows_ += [nf.flows.GlowBlock(channels * 2 ** (L + 1 - i), hidden_channels,\n",
    "                                      split_mode=split_mode, scale=scale)]\n",
    "    flows_ += [nf.flows.Squeeze()]\n",
    "    flows += [flows_]\n",
    "    if i > 0:\n",
    "        merges += [nf.flows.Merge()]\n",
    "        latent_shape = (input_shape[0] * 2 ** (L - i), input_shape[1] // 2 ** (L - i), \n",
    "                        input_shape[2] // 2 ** (L - i))\n",
    "    else:\n",
    "        latent_shape = (input_shape[0] * 2 ** (L + 1), input_shape[1] // 2 ** L, \n",
    "                        input_shape[2] // 2 ** L)\n",
    "    q0 += [nf.distributions.DiagGaussian(latent_shape)]\n",
    "\n",
    "# Construct flow model with the multiscale architecture\n",
    "model1 = nf.MultiscaleFlow(q0, flows, merges)\n",
    "model1 = model1.to(device)\n"
   ]
  },
  {
   "cell_type": "code",
   "execution_count": 4,
   "id": "483bd2b8-4de0-4293-9fea-8758de589949",
   "metadata": {},
   "outputs": [
    {
     "name": "stdout",
     "output_type": "stream",
     "text": [
      "Files already downloaded and verified\n",
      "Total number of images in the dataset: 19280\n"
     ]
    }
   ],
   "source": [
    "# Prepare training data\n",
    "from torchvision import datasets, transforms\n",
    "from torch.utils.data import DataLoader, random_split\n",
    "\n",
    "# Define the transformation with resizing\n",
    "transform = transforms.Compose([\n",
    "    transforms.Resize((28,28)),\n",
    "    transforms.ToTensor(),\n",
    "    transforms.Normalize((0.1307,), (0.3081,))\n",
    "])\n",
    "\n",
    "# Load the MNIST dataset\n",
    "dataset = datasets.Omniglot(root='./data', download=True, transform=transform, background=True)\n",
    "\n",
    "# Print the total number of images in the dataset\n",
    "print(f\"Total number of images in the dataset: {len(dataset)}\")\n",
    "\n",
    "# Splitting dataset into training and validation sets\n",
    "train_size = int(0.8 * len(dataset))\n",
    "val_size = len(dataset) - train_size\n",
    "train_dataset, val_dataset = random_split(dataset, [train_size, val_size])\n",
    "\n",
    "data_loader1 = DataLoader(val_dataset, batch_size=64, shuffle=True, drop_last=True)\n"
   ]
  },
  {
   "cell_type": "code",
   "execution_count": 5,
   "id": "afe4da56-fbf1-4bad-8527-44570a6b7929",
   "metadata": {},
   "outputs": [],
   "source": [
    "import torch\n",
    "import numpy as np\n",
    "from tqdm import tqdm\n",
    "from matplotlib import pyplot as plt\n",
    "\n",
    "def train_model(model, train_loader, device, max_iter=5000, lr=1e-3, weight_decay=1e-5):\n",
    "    \"\"\"\n",
    "    Train a normalizing flow model.\n",
    "\n",
    "    Args:\n",
    "        model: The normalizing flow model to be trained.\n",
    "        train_loader: DataLoader for the training data.\n",
    "        device: The device to perform training on (e.g., 'cuda', 'cpu').\n",
    "        max_iter: Maximum number of iterations for training.\n",
    "        lr: Learning rate for the optimizer.\n",
    "        weight_decay: Weight decay for the optimizer.\n",
    "\n",
    "    Returns:\n",
    "        model: The trained model.\n",
    "        loss_hist: Array of loss values over the training iterations.\n",
    "    \"\"\"\n",
    "    \n",
    "    # Initialize train_iter\n",
    "    train_iter = iter(train_loader)\n",
    "\n",
    "    # Initialize loss history\n",
    "    loss_hist = np.array([])\n",
    "\n",
    "    # Set up optimizer\n",
    "    optimizer = torch.optim.Adamax(model.parameters(), lr=lr, weight_decay=weight_decay)\n",
    "\n",
    "    # Training loop\n",
    "    for i in tqdm(range(max_iter)):\n",
    "        try:\n",
    "            x, _ = next(train_iter)  # We ignore the labels\n",
    "        except StopIteration:\n",
    "            train_iter = iter(train_loader)\n",
    "            x, _ = next(train_iter)  # We ignore the labels\n",
    "        \n",
    "        x = x.to(device)  # Move data to the same device as the model\n",
    "        optimizer.zero_grad()\n",
    "        loss = model.forward_kld(x)  # No labels passed\n",
    "        \n",
    "        if not (torch.isnan(loss) or torch.isinf(loss)):\n",
    "            loss.backward()\n",
    "            optimizer.step()\n",
    "\n",
    "        loss_hist = np.append(loss_hist, loss.detach().cpu().numpy())\n",
    "        del x, loss\n",
    "\n",
    "    # Plot loss history\n",
    "    plt.figure(figsize=(10, 10))\n",
    "    plt.plot(loss_hist, label='loss')\n",
    "    plt.legend()\n",
    "    plt.show()\n",
    "\n",
    "    return model\n"
   ]
  },
  {
   "cell_type": "code",
   "execution_count": null,
   "id": "91d3bec4-4142-47c9-9275-f0f17e54f239",
   "metadata": {},
   "outputs": [
    {
     "name": "stderr",
     "output_type": "stream",
     "text": [
      " 68%|██████████████████████████▍            | 3383/5000 [04:15<01:59, 13.54it/s]"
     ]
    }
   ],
   "source": [
    "# Assuming `model`, `train_loader`, and `device` are already defined\n",
    "model1 = train_model(model1, data_loader1, device)"
   ]
  },
  {
   "cell_type": "code",
   "execution_count": 24,
   "id": "0cd66d71-aaa0-4154-981b-9a6a26f44175",
   "metadata": {},
   "outputs": [
    {
     "name": "stdout",
     "output_type": "stream",
     "text": [
      "Loaded and normalized 3856 sampled images from omniglot_echo_cold_l1_alg1.pt\n"
     ]
    }
   ],
   "source": [
    "import torch\n",
    "from torch.utils.data import TensorDataset\n",
    "\n",
    "# Load the sampled data\n",
    "sampled_data_path = 'mnist_gaussian_ddpm.pt'\n",
    "sampled_data = torch.load(sampled_data_path)\n",
    "\n",
    "# Extract the images from the dictionary\n",
    "sampled_images = [sampled_data[key]['sampled'] for key in sampled_data]\n",
    "sampled_images = torch.stack(sampled_images)  # Convert list to tensor\n",
    "\n",
    "# Normalize the sampled images\n",
    "sampled_images = sampled_images.float() / 255.0  # Scale back to [0, 1]\n",
    "sampled_images = (sampled_images - 0.5) / 0.5  # Normalize using the same mean and std as MNIST\n",
    "\n",
    "# Create labels for the sampled data (0 for generated images)\n",
    "sampled_labels = torch.zeros(sampled_images.size(0), dtype=torch.long)\n",
    "\n",
    "print(f\"Loaded and normalized {sampled_images.size(0)} sampled images from {sampled_data_path}\")\n",
    "\n",
    "# Create a TensorDataset with the shuffled data\n",
    "sampled_dataset = TensorDataset(sampled_images, sampled_labels)\n",
    "\n",
    "data_loader2 = DataLoader(sampled_dataset, batch_size=64, shuffle=True)"
   ]
  },
  {
   "cell_type": "code",
   "execution_count": 25,
   "id": "2e7e02fc-116a-4759-a5fd-ffdd06344eb8",
   "metadata": {},
   "outputs": [
    {
     "name": "stderr",
     "output_type": "stream",
     "text": [
      "100%|███████████████████████████████████████| 5000/5000 [05:42<00:00, 14.61it/s]\n"
     ]
    },
    {
     "data": {
      "image/png": "[encoded data removed]",
      "text/plain": [
       "<Figure size 1000x1000 with 1 Axes>"
      ]
     },
     "metadata": {},
     "output_type": "display_data"
    }
   ],
   "source": [
    "import torch\n",
    "import numpy as np\n",
    "import normflows as nf\n",
    "\n",
    "# Set up model\n",
    "\n",
    "# Define flows\n",
    "L = 2  # Reduced levels to match MNIST dimensions\n",
    "K = 8  # Reduced blocks per level for simpler model\n",
    "torch.manual_seed(0)\n",
    "\n",
    "input_shape = (1, 28, 28)\n",
    "n_dims = np.prod(input_shape)\n",
    "channels = 1  # MNIST has single channel images\n",
    "hidden_channels = 256\n",
    "split_mode = 'channel'\n",
    "scale = True\n",
    "\n",
    "# Set up flows, distributions, and merge operations\n",
    "q0 = []\n",
    "merges = []\n",
    "flows = []\n",
    "for i in range(L):\n",
    "    flows_ = []\n",
    "    for j in range(K):\n",
    "        flows_ += [nf.flows.GlowBlock(channels * 2 ** (L + 1 - i), hidden_channels,\n",
    "                                      split_mode=split_mode, scale=scale)]\n",
    "    flows_ += [nf.flows.Squeeze()]\n",
    "    flows += [flows_]\n",
    "    if i > 0:\n",
    "        merges += [nf.flows.Merge()]\n",
    "        latent_shape = (input_shape[0] * 2 ** (L - i), input_shape[1] // 2 ** (L - i), \n",
    "                        input_shape[2] // 2 ** (L - i))\n",
    "    else:\n",
    "        latent_shape = (input_shape[0] * 2 ** (L + 1), input_shape[1] // 2 ** L, \n",
    "                        input_shape[2] // 2 ** L)\n",
    "    q0 += [nf.distributions.DiagGaussian(latent_shape)]\n",
    "\n",
    "# Construct flow model with the multiscale architecture\n",
    "model2 = nf.MultiscaleFlow(q0, flows, merges)\n",
    "model2 = model2.to(device)\n",
    "\n",
    "# Assuming `model`, `train_loader`, and `device` are already defined\n",
    "model2 = train_model(model2, data_loader2, device, max_iter=5000, lr=1e-3, weight_decay=1e-5)"
   ]
  },
  {
   "cell_type": "code",
   "execution_count": 26,
   "id": "88e77b1b-e0ce-461e-b3fe-683cc341b7b3",
   "metadata": {},
   "outputs": [
    {
     "name": "stdout",
     "output_type": "stream",
     "text": [
      "KL Divergence: 9900.343809789541\n"
     ]
    }
   ],
   "source": [
    "import torch\n",
    "import numpy as np\n",
    "from torch.utils.data import DataLoader\n",
    "\n",
    "def compute_kl_divergence(model1, model2, data_loader1, data_loader2):\n",
    "    kl_divergence = 0.0\n",
    "    num_samples = 0\n",
    "\n",
    "    for x1, _ in data_loader1:\n",
    "        x1 = x1.to(device)\n",
    "        \n",
    "        # Compute log probabilities under both models\n",
    "        log_p_x1 = -model1.forward(x1)\n",
    "        log_q_x1 = -model2.forward(x1)\n",
    "        # Replace NaN or infinity values with zero\n",
    "        log_p_x1[torch.isnan(log_p_x1) | torch.isinf(log_p_x1)] = 0\n",
    "        log_q_x1[torch.isnan(log_q_x1) | torch.isinf(log_q_x1)] = 0\n",
    "\n",
    "        # Accumulate KL divergence for data from X1\n",
    "        kl_divergence += (log_p_x1 - log_q_x1).sum().item()\n",
    "        num_samples += x1.size(0)\n",
    "\n",
    "    for x2, _ in data_loader2:\n",
    "        x2 = x2.to(device)\n",
    "        \n",
    "        # Compute log probabilities under both models\n",
    "        log_p_x2 = -model1.forward(x2)\n",
    "        log_q_x2 = -model2.forward(x2)\n",
    "\n",
    "        # Replace NaN or infinity values with zero\n",
    "        log_p_x2[torch.isnan(log_p_x2) | torch.isinf(log_p_x2)] = 0\n",
    "        log_q_x2[torch.isnan(log_q_x2) | torch.isinf(log_q_x2)] = 0\n",
    "\n",
    "        # Accumulate KL divergence for data from X2\n",
    "        kl_divergence += (log_q_x2 - log_p_x2).sum().item()\n",
    "        num_samples += x2.size(0)\n",
    "\n",
    "    # Average KL divergence over the number of samples\n",
    "    kl_divergence /= num_samples\n",
    "    return kl_divergence\n",
    "\n",
    "# Assuming `model1` and `model2` are your two trained models on datasets X1 and X2\n",
    "# and `data_loader1` and `data_loader2` are your data loaders for the datasets X1 and X2\n",
    "kl_div = compute_kl_divergence(model1, model2, data_loader1, data_loader2)\n",
    "print(f\"KL Divergence: {kl_div}\")\n"
   ]
  },
  {
   "cell_type": "code",
   "execution_count": 27,
   "id": "f6071c05-8dc9-4164-88df-f3219834b6b2",
   "metadata": {},
   "outputs": [
    {
     "name": "stdout",
     "output_type": "stream",
     "text": [
      "KL Divergence P(X1) || Q(X2): 3952.721309407552\n",
      "KL Divergence Q(X2) || P(X1): 9998.432831950207\n"
     ]
    }
   ],
   "source": [
    "import torch\n",
    "\n",
    "def compute_kl_divergence(model1, model2, data_loader1, data_loader2):\n",
    "    kl_divergence_pq = 0.0\n",
    "    kl_divergence_qp = 0.0\n",
    "    num_samples_p = 0\n",
    "    num_samples_q = 0\n",
    "\n",
    "    for x1, _ in data_loader1:\n",
    "        x1 = x1.to(device)\n",
    "        log_p_x1 = -model1.forward(x1, y=None)  # Use forward method to get negative log-likelihood\n",
    "        log_q_x1 = -model2.forward(x1, y=None)  # Use forward method to get negative log-likelihood\n",
    "        # Replace NaN or infinity values with zero\n",
    "        log_p_x1[torch.isnan(log_p_x1) | torch.isinf(log_p_x1)] = 0\n",
    "        log_q_x1[torch.isnan(log_q_x1) | torch.isinf(log_q_x1)] = 0\n",
    "        kl_divergence_pq += (log_p_x1 - log_q_x1).sum().item()\n",
    "        num_samples_p += x1.size(0)\n",
    "\n",
    "    for x2, _ in data_loader2:\n",
    "        x2 = x2.to(device)\n",
    "        log_p_x2 = -model1.forward(x2, y=None)  # Use forward method to get negative log-likelihood\n",
    "        log_q_x2 = -model2.forward(x2, y=None)  # Use forward method to get negative log-likelihood\n",
    "        # Replace NaN or infinity values with zero\n",
    "        log_p_x2[torch.isnan(log_p_x2) | torch.isinf(log_p_x2)] = 0\n",
    "        log_q_x2[torch.isnan(log_q_x2) | torch.isinf(log_q_x2)] = 0\n",
    "        kl_divergence_qp += (log_q_x2 - log_p_x2).sum().item()\n",
    "        num_samples_q += x2.size(0)\n",
    "\n",
    "    kl_divergence_pq /= num_samples_p\n",
    "    kl_divergence_qp /= num_samples_q\n",
    "    return kl_divergence_pq, kl_divergence_qp\n",
    "\n",
    "# Assuming `model1` and `model2` are your two trained models on datasets X1 and X2\n",
    "# and `data_loader1` and `data_loader2` are your data loaders for the datasets X1 and X2\n",
    "kl_pq, kl_qp = compute_kl_divergence(model1, model2, data_loader1, data_loader2)\n",
    "print(f\"KL Divergence P(X1) || Q(X2): {kl_pq}\")\n",
    "print(f\"KL Divergence Q(X2) || P(X1): {kl_qp}\")\n"
   ]
  },
  {
   "cell_type": "code",
   "execution_count": null,
   "id": "ba1bd130-04e2-4b22-97f4-b063702cab55",
   "metadata": {},
   "outputs": [],
   "source": []
  }
 ],
 "metadata": {
  "kernelspec": {
   "display_name": "Python 3 (ipykernel)",
   "language": "python",
   "name": "python3"
  },
  "language_info": {
   "codemirror_mode": {
    "name": "ipython",
    "version": 3
   },
   "file_extension": ".py",
   "mimetype": "text/x-python",
   "name": "python",
   "nbconvert_exporter": "python",
   "pygments_lexer": "ipython3",
   "version": "3.8.18"
  }
 },
 "nbformat": 4,
 "nbformat_minor": 5
}
