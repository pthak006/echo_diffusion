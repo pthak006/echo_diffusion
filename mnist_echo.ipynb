{
 "cells": [
  {
   "cell_type": "code",
   "execution_count": 8,
   "id": "7bc0c0f7-7683-4710-b06a-b4f1e4abd309",
   "metadata": {},
   "outputs": [],
   "source": [
    "# Import necessary PyTorch libraries\n",
    "import math\n",
    "import torch\n",
    "import torch.nn as nn\n",
    "import torch.nn.functional as F\n",
    "import torch.optim as optim\n",
    "import torch.utils.data as data\n",
    "import torchvision\n",
    "import torchvision.transforms as transforms\n",
    "\n",
    "\n",
    "# Additional libraries for visualization and utilities\n",
    "import matplotlib.pyplot as plt\n",
    "import numpy as np\n",
    "from unet import UNet\n",
    "from unet_decoder import UNetDecoder\n",
    "from echo import echo_sample"
   ]
  },
  {
   "cell_type": "code",
   "execution_count": 5,
   "id": "ccbb9823-564c-4735-a473-ad93c564ba7d",
   "metadata": {},
   "outputs": [
    {
     "name": "stdout",
     "output_type": "stream",
     "text": [
      "using device: mps\n"
     ]
    }
   ],
   "source": [
    "def get_device():\n",
    "    \"\"\"Selects the best available device for PyTorch computations.\n",
    "\n",
    "    Returns:\n",
    "        torch.device: The selected device.\n",
    "    \"\"\"\n",
    "\n",
    "    if torch.cuda.is_available():\n",
    "        return torch.device('cuda')\n",
    "    elif torch.backends.mps.is_available():\n",
    "        return torch.device('mps')\n",
    "    else:\n",
    "        return torch.device('cpu')\n",
    "\n",
    "device = get_device()\n",
    "print(f\"using device: {device}\")"
   ]
  },
  {
   "cell_type": "code",
   "execution_count": 6,
   "id": "3e76e694-9980-4207-aff0-adc89538f999",
   "metadata": {},
   "outputs": [
    {
     "name": "stdout",
     "output_type": "stream",
     "text": [
      "Data loaders created for training and validation.\n"
     ]
    }
   ],
   "source": [
    "from torchvision import datasets\n",
    "from torch.utils.data import DataLoader, random_split\n",
    "from torchvision.transforms import Compose, Normalize, ToTensor,Resize\n",
    "\n",
    "transform = Compose([\n",
    "    ToTensor(),\n",
    "    torchvision.transforms.Normalize((0.1307,), (0.3081,))\n",
    "])\n",
    "\n",
    "\n",
    "# Load the CelebA dataset\n",
    "dataset = datasets.MNIST(root='./data', download=True, transform=transform)\n",
    "\n",
    "# Splitting dataset into training and validation sets\n",
    "train_size = int(0.8 * len(dataset))\n",
    "val_size = len(dataset) - train_size\n",
    "train_dataset, val_dataset = random_split(dataset, [train_size, val_size])\n",
    "\n",
    "# Create DataLoader instances\n",
    "train_loader = DataLoader(train_dataset, batch_size=128, shuffle=True)\n",
    "val_loader = DataLoader(val_dataset, batch_size=128, shuffle=False)\n",
    "\n",
    "print(\"Data loaders created for training and validation.\")"
   ]
  },
  {
   "cell_type": "code",
   "execution_count": 7,
   "id": "87700d40-8a84-4c37-ad3c-30da357df203",
   "metadata": {},
   "outputs": [],
   "source": [
    "class Encoder(nn.Module):\n",
    "    def __init__(self, input_shape, latent_dims):\n",
    "        super(Encoder, self).__init__()\n",
    "        self.input_shape = input_shape\n",
    "        self.latent_dims = latent_dims\n",
    "\n",
    "        self.unet = UNet(\n",
    "            n_channels=input_shape[0],\n",
    "            n_classes=input_shape[0],  # Ensure the output channels match the input channels\n",
    "            bilinear=True\n",
    "        )\n",
    "\n",
    "        # Output layers for mean and log variance\n",
    "        self.out_mean = nn.Conv2d(input_shape[0], input_shape[0], kernel_size=1)\n",
    "        self.out_log_var = nn.Conv2d(input_shape[0], input_shape[0], kernel_size=1)\n",
    "\n",
    "    def forward(self, x):\n",
    "        x = self.unet(x)\n",
    "        f_x = torch.tanh(self.out_mean(x))\n",
    "        log_var = torch.sigmoid(self.out_log_var(x))\n",
    "        return f_x, log_var\n"
   ]
  },
  {
   "cell_type": "code",
   "execution_count": 9,
   "id": "72a008de-3e56-4ab4-a4b9-709ed3160b0d",
   "metadata": {},
   "outputs": [],
   "source": [
    "class DiffusionModel(nn.Module):\n",
    "    def __init__(self, input_shape,latent_dims, T=1000):\n",
    "        super(DiffusionModel, self).__init__()\n",
    "        self.input_shape = input_shape\n",
    "        self.latent_dims = latent_dims \n",
    "        self.T = T\n",
    "        self.encoder = Encoder(self.input_shape, self.latent_dims)\n",
    "        self.decoder = UNetDecoder(n_channels=input_shape[0])\n",
    "\n",
    "        # Define the noise schedule\n",
    "        self.alpha = self.create_noise_schedule(T)\n",
    "\n",
    "    def create_noise_schedule(self, T):\n",
    "        beta_start = 0.0001\n",
    "        beta_end = 0.02\n",
    "        betas = torch.linspace(beta_start, beta_end, T)\n",
    "        alphas = 1 - betas\n",
    "        alphas_cumprod = torch.cumprod(alphas, dim=0)\n",
    "        return alphas_cumprod\n",
    "\n",
    "    def forward(self, x):\n",
    "\n",
    "        # Calculate the gaussian noise tensor\n",
    "        batch_size = x.shape[0]\n",
    "        f_x, sx_matrix = self.encoder(x)\n",
    "        epsilon = echo_sample((f_x, sx_matrix)).detach()\n",
    "        z = f_x + sx_matrix * epsilon\n",
    "        \n",
    "        del epsilon \n",
    "        \n",
    "        torch.cuda.empty_cache()\n",
    "\n",
    "        #sample a timestep t\n",
    "        t = np.random.randint(0, self.T)\n",
    "        # Retrieve noise scheduler alpha_T\n",
    "        alpha_t = self.alpha[t]\n",
    "\n",
    "        # Calculate square root alphas\n",
    "        sqrt_alpha_t = torch.sqrt(alpha_t)\n",
    "        sqrt_one_minus_alpha_t = torch.sqrt(1 - alpha_t)\n",
    "        \n",
    "        # Perform the weighted sum\n",
    "        x_t = sqrt_alpha_t * x + sqrt_one_minus_alpha_t * z\n",
    "\n",
    "        torch.cuda.empty_cache()\n",
    "\n",
    "        #Calculate the timestep tensor\n",
    "        t = torch.tensor([t] * x_t.size(0), dtype=torch.long).to(x_t.device)\n",
    "\n",
    "        # Perform the reconstruction process using Algorithm 2\n",
    "        estimated_z = self.decoder(x_t,t)\n",
    "        torch.cuda.empty_cache()\n",
    "        return z, estimated_z"
   ]
  },
  {
   "cell_type": "code",
   "execution_count": 11,
   "id": "b278bd6b-4148-49bd-bf03-1c7b2609abd4",
   "metadata": {},
   "outputs": [],
   "source": [
    "import os\n",
    "\n",
    "def save_checkpoint(epoch, model, optimizer, filename=\"checkpoint.pth\"):\n",
    "    \"\"\"Saves the model and optimizer state at the specified path.\"\"\"\n",
    "    torch.save({\n",
    "        'epoch': epoch,\n",
    "        'model_state_dict': model.state_dict(),\n",
    "        'optimizer_state_dict': optimizer.state_dict()\n",
    "    }, filename)\n",
    "    print(f\"Checkpoint saved at epoch {epoch} to {filename}\")\n",
    "\n",
    "\n",
    "def load_checkpoint(model, optimizer, filename=\"checkpoint.pth\"):\n",
    "    \"\"\"Loads the model and optimizer state from the specified path.\"\"\"\n",
    "    if os.path.isfile(filename):\n",
    "        checkpoint = torch.load(filename)\n",
    "        model.load_state_dict(checkpoint['model_state_dict'])\n",
    "        optimizer.load_state_dict(checkpoint['optimizer_state_dict'])\n",
    "        epoch = checkpoint['epoch']\n",
    "        print(f\"Checkpoint loaded from {filename}, resuming training from epoch {epoch}\")\n",
    "        return epoch\n",
    "    else:\n",
    "        print(f\"No checkpoint found at {filename}, starting from scratch.\")\n",
    "        return -1"
   ]
  },
  {
   "cell_type": "code",
   "execution_count": 12,
   "id": "25cf69d8-ecb6-4c29-878d-3c2589834d1c",
   "metadata": {},
   "outputs": [],
   "source": [
    "import time  # Importing time to log the duration\n",
    "from tqdm import tqdm\n",
    "\n",
    "\n",
    "def validate(model, val_loader, device):\n",
    "    model.eval()  # Set the model to evaluation mode\n",
    "    total_val_loss = 0\n",
    "    with torch.no_grad():  # Disable gradient computation during validation\n",
    "        for data, _ in val_loader:\n",
    "            data = data.to(device)\n",
    "            z, estimated_z = model(data)\n",
    "            reconstruction_loss = nn.functional.mse_loss(z, estimated_z)\n",
    "            total_val_loss += reconstruction_loss.item()  # Accumulate the validation loss\n",
    "    \n",
    "    avg_val_loss = total_val_loss / len(val_loader)  # Calculate average loss\n",
    "    return avg_val_loss\n",
    "\n",
    "def train(model, optimizer, train_loader, device,start_epoch, num_epochs):\n",
    "    model.train()\n",
    "\n",
    "    for epoch in range(start_epoch+1, num_epochs):\n",
    "        epoch_loss = 0.0\n",
    "        epoch_start_time = time.time()  # Time tracking for the epoch\n",
    "\n",
    "        print(f\"Starting epoch {epoch+1}/{num_epochs}\")\n",
    "        for batch_idx, (data, _) in enumerate(tqdm(train_loader, desc=f\"Epoch {epoch+1}/{num_epochs}\", leave=False)):\n",
    "            data = data.to(device)\n",
    "\n",
    "            # Forward pass\n",
    "            z, estimated_z = model(data)\n",
    "            total_loss = nn.functional.mse_loss(z, estimated_z)\n",
    "\n",
    "            # Backward pass\n",
    "            if not torch.isnan(total_loss).any():\n",
    "                total_loss.backward()\n",
    "            else:\n",
    "                print(f\"Warning: NaN detected in total_loss at batch {batch_idx+1}, skipping backward pass.\")\n",
    "\n",
    "            optimizer.step()  # Only step the optimizer every `accumulation_steps`\n",
    "            optimizer.zero_grad()  # Reset gradients only after accumulation\n",
    "\n",
    "            # Safe-guarding against NaN for epoch_loss\n",
    "            if not torch.isnan(total_loss).any():\n",
    "                epoch_loss += total_loss.item()\n",
    "            else:\n",
    "                print(f\"NaN detected, not adding to epoch_loss at batch {batch_idx+1}\")\n",
    "\n",
    "        # Save the model checkpoint\n",
    "        save_checkpoint(epoch, model, optimizer, filename=\"mnist_echo.pth\")\n",
    "        \n",
    "        # Average loss after training for an epoch\n",
    "        avg_loss = epoch_loss / len(train_loader)\n",
    "        print(f\"Epoch [{epoch+1}/{num_epochs}] completed in {time.time() - epoch_start_time:.2f} seconds, Avg Loss: {avg_loss}\")\n",
    "\n",
    "        # Validation phase\n",
    "        avg_val_loss = validate(model, val_loader, device)\n",
    "        print(f\"Epoch [{epoch+1}/{num_epochs}] validation completed, Avg Validation Loss: {avg_val_loss}\")\n",
    "\n",
    "    return model\n"
   ]
  },
  {
   "cell_type": "code",
   "execution_count": 14,
   "id": "67a8e54a-c7f5-40f2-9293-0b4e7785ed87",
   "metadata": {},
   "outputs": [
    {
     "name": "stdout",
     "output_type": "stream",
     "text": [
      "No checkpoint found at mnist_echo.pth, starting from scratch.\n",
      "The training ended in epoch number: -1\n",
      "Starting epoch 1/1\n"
     ]
    },
    {
     "name": "stderr",
     "output_type": "stream",
     "text": [
      "                                                                                                                                                      \r"
     ]
    },
    {
     "name": "stdout",
     "output_type": "stream",
     "text": [
      "Checkpoint saved at epoch 0 to mnist_echo.pth\n",
      "Epoch [1/1] completed in 535.51 seconds, Avg Loss: 0.01018610383104533\n",
      "Epoch [1/1] validation completed, Avg Validation Loss: 0.052123378095355756\n"
     ]
    }
   ],
   "source": [
    "# Define the input shape\n",
    "input_shape = (1, 28, 28)\n",
    "latent_dims = latent_dims = [64, 128, 256, 512]\n",
    "\n",
    "# Create an instance of Gaussian Diffusion model\n",
    "model = DiffusionModel(input_shape,latent_dims).to(device)\n",
    "\n",
    "# Define the optimizer\n",
    "optimizer = optim.Adam(model.parameters(), lr = 1e-3)\n",
    "\n",
    "# Define the number of epochs and loss weights\n",
    "num_epochs = 1\n",
    "\n",
    "# Load the model training checkpoint\n",
    "start_epoch = load_checkpoint(model, optimizer, filename=\"mnist_echo.pth\")\n",
    "print(f\"The training ended in epoch number: {start_epoch}\")\n",
    "\n",
    "# Train the model\n",
    "trained_model = train(model, optimizer, train_loader, device, start_epoch, num_epochs)"
   ]
  },
  {
   "cell_type": "code",
   "execution_count": 33,
   "id": "df8281e2-8bbd-4fbc-9ea9-329781794ae3",
   "metadata": {},
   "outputs": [
    {
     "name": "stdout",
     "output_type": "stream",
     "text": [
      "Checkpoint loaded from mnist_gaussian.pth, resuming training from epoch 199\n",
      "The training ended in epoch number: 199\n"
     ]
    }
   ],
   "source": [
    "# Define the input shape\n",
    "input_shape = (1, 28, 28)\n",
    "\n",
    "# Example usage\n",
    "model = DiffusionModel(input_shape).to(device)\n",
    "optimizer = torch.optim.Adam(model.parameters(), lr=1e-3)\n",
    "\n",
    "start_epoch = load_checkpoint(model, optimizer, filename=\"mnist_gaussian.pth\")\n",
    "print(f\"The training ended in epoch number: {start_epoch}\")"
   ]
  },
  {
   "cell_type": "markdown",
   "id": "177fea68-4883-4633-a668-868b07bd038e",
   "metadata": {},
   "source": [
    "## Sampling according to DDPM"
   ]
  },
  {
   "cell_type": "code",
   "execution_count": 30,
   "id": "696b8b8c-72d5-41d2-bdbb-81cfcf652d10",
   "metadata": {},
   "outputs": [
    {
     "name": "stderr",
     "output_type": "stream",
     "text": [
      "                                                                                                                                                      \r"
     ]
    }
   ],
   "source": [
    "import torch\n",
    "import torch.nn.functional as F\n",
    "from tqdm import tqdm\n",
    "\n",
    "# Define the necessary parameters and variables\n",
    "T = 1000\n",
    "beta_start = 0.0001\n",
    "beta_end = 0.02\n",
    "beta = torch.linspace(beta_start, beta_end, T)\n",
    "alpha = 1 - beta\n",
    "alpha = torch.cumprod(alpha, dim=0)\n",
    "\n",
    "batch_size = 128\n",
    "model.eval()\n",
    "\n",
    "sampled_data = {}\n",
    "\n",
    "with torch.no_grad():\n",
    "    for batch_idx, (data, _) in enumerate(tqdm(val_loader, desc=\"Sampling Progress:\", leave=False)):  # Corrected line\n",
    "        data = data.to(device)\n",
    "        f_x, sx_matrix = model.encoder(data)\n",
    "        epsilon = echo_sample((f_x, sx_matrix))\n",
    "        x = f_x + sx_matrix * epsilon\n",
    "        for s in range(T-1, -1, -1):\n",
    "            t = torch.tensor([s] * data.size(0), dtype=torch.long).to(device)\n",
    "            z_hat = model.decoder(x, t)\n",
    "            x_hat = (1.0 / torch.sqrt(alpha[s])) * (x - torch.sqrt(1 - alpha[s]) * z_hat)\n",
    "            x = torch.sqrt(alpha[s-1]) * x_hat + torch.sqrt(1 - alpha[s-1]) * z_hat\n",
    "        \n",
    "        # Reverse normalization\n",
    "        x = x * 0.3081 + 0.1307\n",
    "        x = (x.clamp(0, 1) * 255).type(torch.uint8)\n",
    "        \n",
    "        # Store the original and sampled images\n",
    "        for i in range(x.size(0)):\n",
    "            sampled_data[batch_idx * batch_size + i] = {\n",
    "                'original_image': data[i].cpu() * 0.3081 + 0.1307,  # Reverse normalization for original image\n",
    "                'sampled': x[i].cpu()\n",
    "            }\n",
    "        break  # Remove this break if you want to process all batches"
   ]
  },
  {
   "cell_type": "code",
   "execution_count": 31,
   "id": "0df8f6ba-0c1e-4aad-8470-2710fb1e006c",
   "metadata": {},
   "outputs": [
    {
     "name": "stdout",
     "output_type": "stream",
     "text": [
      "Sampled data saved to 'sampled_mnist_echo.pt'\n"
     ]
    }
   ],
   "source": [
    "\n",
    "# Save the dictionary to a .pt file\n",
    "torch.save(sampled_data, 'sampled_mnist_echo.pt')\n",
    "\n",
    "print(\"Sampled data saved to 'sampled_mnist_echo.pt'\")\n"
   ]
  },
  {
   "cell_type": "code",
   "execution_count": 35,
   "id": "e396ae46-c395-450b-ae29-b2c87d58c3dd",
   "metadata": {},
   "outputs": [
    {
     "data": {
      "image/png": "[encoded data removed]",
      "text/plain": [
       "<Figure size 1000x500 with 2 Axes>"
      ]
     },
     "metadata": {},
     "output_type": "display_data"
    }
   ],
   "source": [
    "import torch\n",
    "import matplotlib.pyplot as plt\n",
    "\n",
    "# Load the saved data\n",
    "sampled_data = torch.load('sampled_mnist_echo.pt')\n",
    "\n",
    "# Access a specific entry\n",
    "index = 18 # Replace with the index you want to check\n",
    "original_image = sampled_data[index]['original_image']\n",
    "sampled_image = sampled_data[index]['sampled']\n",
    "\n",
    "\n",
    "\n",
    "# Convert the tensor to a numpy array\n",
    "original_image = original_image.cpu().numpy().transpose(1, 2, 0)\n",
    "sampled_image = sampled_image.cpu().numpy().transpose(1, 2, 0)\n",
    "\n",
    "# Plot the images\n",
    "fig, ax = plt.subplots(1, 2, figsize=(10, 5))\n",
    "ax[0].imshow(original_image, cmap='gray')\n",
    "ax[0].set_title('Original Image')\n",
    "ax[0].axis('off')\n",
    "\n",
    "ax[1].imshow(sampled_image, cmap='gray')\n",
    "ax[1].set_title('Sampled Image')\n",
    "ax[1].axis('off')\n",
    "\n",
    "plt.show()"
   ]
  },
  {
   "cell_type": "code",
   "execution_count": null,
   "id": "ca13f91f-3348-4c5c-b0e4-4860b1b42eac",
   "metadata": {},
   "outputs": [],
   "source": []
  }
 ],
 "metadata": {
  "kernelspec": {
   "display_name": "Python 3 (ipykernel)",
   "language": "python",
   "name": "python3"
  },
  "language_info": {
   "codemirror_mode": {
    "name": "ipython",
    "version": 3
   },
   "file_extension": ".py",
   "mimetype": "text/x-python",
   "name": "python",
   "nbconvert_exporter": "python",
   "pygments_lexer": "ipython3",
   "version": "3.8.18"
  }
 },
 "nbformat": 4,
 "nbformat_minor": 5
}
