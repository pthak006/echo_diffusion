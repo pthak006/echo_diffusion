{
 "cells": [
  {
   "cell_type": "code",
   "execution_count": 4,
   "id": "7fa8d015-75a9-4b00-b037-7911e172bdbf",
   "metadata": {},
   "outputs": [
    {
     "name": "stdout",
     "output_type": "stream",
     "text": [
      "Average L1 Loss for completely black images (MNIST): 0.0176\n"
     ]
    }
   ],
   "source": [
    "# Import necessary libraries\n",
    "import torch\n",
    "import torch.nn as nn\n",
    "from torchvision import datasets, transforms\n",
    "\n",
    "# Define transformations: Normalize the data\n",
    "transform = transforms.Compose([\n",
    "    transforms.ToTensor(),\n",
    "    transforms.Normalize((0.5,), (0.5,))\n",
    "])\n",
    "\n",
    "# Load the MNIST dataset\n",
    "dataset = datasets.MNIST(root='./data', train=False, download=True, transform=transform)  # Use train=False for test set\n",
    "\n",
    "# Define the input shape and batch size\n",
    "input_shape = (1, 28, 28)  # Example shape for MNIST\n",
    "batch_size = 100\n",
    "\n",
    "# Create a DataLoader instance\n",
    "data_loader = torch.utils.data.DataLoader(dataset, batch_size=batch_size, shuffle=False)\n",
    "\n",
    "# Get a batch of MNIST images\n",
    "images, _ = next(iter(data_loader))  # Get the first batch\n",
    "\n",
    "# Create a batch of completely black images\n",
    "black_images = torch.ones_like(images)\n",
    "\n",
    "# Calculate the L1 reconstruction loss\n",
    "l1_loss = nn.functional.l1_loss(black_images, images)\n",
    "\n",
    "# Print the average loss\n",
    "avg_loss = l1_loss.item() / batch_size\n",
    "print(f\"Average L1 Loss for completely black images (MNIST): {avg_loss:.4f}\")"
   ]
  },
  {
   "cell_type": "code",
   "execution_count": null,
   "id": "ad474272-e110-4f01-9286-452f2f8107ec",
   "metadata": {},
   "outputs": [],
   "source": []
  },
  {
   "cell_type": "code",
   "execution_count": null,
   "id": "7457801d-b19f-412a-b54a-f0b6d6d88fbe",
   "metadata": {},
   "outputs": [],
   "source": []
  }
 ],
 "metadata": {
  "kernelspec": {
   "display_name": "Python 3 (ipykernel)",
   "language": "python",
   "name": "python3"
  },
  "language_info": {
   "codemirror_mode": {
    "name": "ipython",
    "version": 3
   },
   "file_extension": ".py",
   "mimetype": "text/x-python",
   "name": "python",
   "nbconvert_exporter": "python",
   "pygments_lexer": "ipython3",
   "version": "3.8.18"
  }
 },
 "nbformat": 4,
 "nbformat_minor": 5
}
